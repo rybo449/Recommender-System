{
 "metadata": {
  "name": "",
  "signature": "sha256:644d8af1b58871eb60836c12fc1a8ee0fea592b79d4f064fefaf94659128ee4e"
 },
 "nbformat": 3,
 "nbformat_minor": 0,
 "worksheets": [
  {
   "cells": [
    {
     "cell_type": "code",
     "collapsed": false,
     "input": [
      "import pandas as pd\n",
      "#import cvxpy as cvx\n",
      "import numpy as np\n",
      "import scipy.stats as stats\n",
      "import scipy.spatial.distance as dist\n",
      "#import nimfa\n",
      "import time\n",
      "import matplotlib.pyplot as plt\n",
      "#from mpltools import style\n",
      "from scipy.linalg import svd,diagsvd\n",
      "from scipy import sparse\n",
      "#from sparsesvd import sparsesvd\n",
      "from mpltools import style\n",
      "import scipy.spatial.distance as dist\n",
      "import scipy.stats as stats\n",
      "from sklearn.metrics.pairwise import euclidean_distances\n",
      "from sklearn.metrics.pairwise import manhattan_distances\n",
      "from scipy.stats.stats import pearsonr\n",
      "style.use('ggplot')"
     ],
     "language": "python",
     "metadata": {},
     "outputs": [],
     "prompt_number": 23
    },
    {
     "cell_type": "code",
     "collapsed": false,
     "input": [
      "df = pd.read_csv('data.csv')\n",
      "df.set_index(df['Zip Code'])\n",
      "df.head(50)"
     ],
     "language": "python",
     "metadata": {},
     "outputs": [
      {
       "html": [
        "<div style=\"max-height:1000px;max-width:1500px;overflow:auto;\">\n",
        "<table border=\"1\" class=\"dataframe\">\n",
        "  <thead>\n",
        "    <tr style=\"text-align: right;\">\n",
        "      <th></th>\n",
        "      <th>Zip Code</th>\n",
        "      <th>bars</th>\n",
        "      <th>restaurants</th>\n",
        "      <th>laundry</th>\n",
        "      <th>pizza</th>\n",
        "      <th>hospitals</th>\n",
        "      <th>coffee</th>\n",
        "      <th>boutique</th>\n",
        "      <th>clothing</th>\n",
        "      <th>education</th>\n",
        "      <th>arts</th>\n",
        "    </tr>\n",
        "  </thead>\n",
        "  <tbody>\n",
        "    <tr>\n",
        "      <th>0 </th>\n",
        "      <td> 10001</td>\n",
        "      <td> 2.9536</td>\n",
        "      <td> 3.3522</td>\n",
        "      <td> 1.6918</td>\n",
        "      <td> 2.5488</td>\n",
        "      <td> 2.4202</td>\n",
        "      <td> 2.6022</td>\n",
        "      <td> 1.9770</td>\n",
        "      <td> 2.4052</td>\n",
        "      <td> 2.7608</td>\n",
        "      <td> 2.7884</td>\n",
        "    </tr>\n",
        "    <tr>\n",
        "      <th>1 </th>\n",
        "      <td> 10002</td>\n",
        "      <td> 3.1608</td>\n",
        "      <td> 3.5156</td>\n",
        "      <td> 2.2446</td>\n",
        "      <td> 2.6232</td>\n",
        "      <td> 0.8280</td>\n",
        "      <td> 3.0104</td>\n",
        "      <td> 2.6318</td>\n",
        "      <td> 2.7366</td>\n",
        "      <td> 2.6932</td>\n",
        "      <td> 2.6804</td>\n",
        "    </tr>\n",
        "    <tr>\n",
        "      <th>2 </th>\n",
        "      <td> 10003</td>\n",
        "      <td> 3.4370</td>\n",
        "      <td> 4.1120</td>\n",
        "      <td> 2.4756</td>\n",
        "      <td> 3.1474</td>\n",
        "      <td> 2.6350</td>\n",
        "      <td> 3.2066</td>\n",
        "      <td> 2.7040</td>\n",
        "      <td> 2.6900</td>\n",
        "      <td> 2.7740</td>\n",
        "      <td> 2.7080</td>\n",
        "    </tr>\n",
        "    <tr>\n",
        "      <th>3 </th>\n",
        "      <td> 10004</td>\n",
        "      <td> 2.8646</td>\n",
        "      <td> 3.1752</td>\n",
        "      <td> 1.9260</td>\n",
        "      <td> 2.4708</td>\n",
        "      <td> 2.3320</td>\n",
        "      <td> 2.6966</td>\n",
        "      <td> 2.3562</td>\n",
        "      <td> 2.5286</td>\n",
        "      <td> 2.5920</td>\n",
        "      <td> 2.6178</td>\n",
        "    </tr>\n",
        "    <tr>\n",
        "      <th>4 </th>\n",
        "      <td> 10005</td>\n",
        "      <td> 3.0154</td>\n",
        "      <td> 3.2064</td>\n",
        "      <td> 1.8618</td>\n",
        "      <td> 2.4368</td>\n",
        "      <td> 2.0394</td>\n",
        "      <td> 2.6892</td>\n",
        "      <td> 1.1366</td>\n",
        "      <td> 2.0842</td>\n",
        "      <td> 2.6002</td>\n",
        "      <td> 2.4910</td>\n",
        "    </tr>\n",
        "    <tr>\n",
        "      <th>5 </th>\n",
        "      <td> 10006</td>\n",
        "      <td> 2.8622</td>\n",
        "      <td> 3.2574</td>\n",
        "      <td> 1.9082</td>\n",
        "      <td> 2.4662</td>\n",
        "      <td> 2.3692</td>\n",
        "      <td> 2.8382</td>\n",
        "      <td> 2.6142</td>\n",
        "      <td> 2.5092</td>\n",
        "      <td> 2.7964</td>\n",
        "      <td> 2.7972</td>\n",
        "    </tr>\n",
        "    <tr>\n",
        "      <th>6 </th>\n",
        "      <td> 10007</td>\n",
        "      <td> 2.9906</td>\n",
        "      <td> 3.3124</td>\n",
        "      <td> 2.2646</td>\n",
        "      <td> 2.5330</td>\n",
        "      <td> 2.4096</td>\n",
        "      <td> 2.9104</td>\n",
        "      <td> 2.6394</td>\n",
        "      <td> 2.5722</td>\n",
        "      <td> 2.8200</td>\n",
        "      <td> 2.8244</td>\n",
        "    </tr>\n",
        "    <tr>\n",
        "      <th>7 </th>\n",
        "      <td> 10009</td>\n",
        "      <td> 3.5534</td>\n",
        "      <td> 3.8906</td>\n",
        "      <td> 2.3356</td>\n",
        "      <td> 3.1436</td>\n",
        "      <td> 2.4698</td>\n",
        "      <td> 3.0766</td>\n",
        "      <td> 2.6428</td>\n",
        "      <td> 2.7562</td>\n",
        "      <td> 2.4454</td>\n",
        "      <td> 2.7868</td>\n",
        "    </tr>\n",
        "    <tr>\n",
        "      <th>8 </th>\n",
        "      <td> 10010</td>\n",
        "      <td> 3.0204</td>\n",
        "      <td> 3.4556</td>\n",
        "      <td> 2.3490</td>\n",
        "      <td> 2.9848</td>\n",
        "      <td> 2.4458</td>\n",
        "      <td> 2.8516</td>\n",
        "      <td> 2.4302</td>\n",
        "      <td> 2.5374</td>\n",
        "      <td> 2.6644</td>\n",
        "      <td> 2.5400</td>\n",
        "    </tr>\n",
        "    <tr>\n",
        "      <th>9 </th>\n",
        "      <td> 10011</td>\n",
        "      <td> 3.4130</td>\n",
        "      <td> 3.5576</td>\n",
        "      <td> 1.5652</td>\n",
        "      <td> 3.0868</td>\n",
        "      <td> 1.0198</td>\n",
        "      <td> 2.8328</td>\n",
        "      <td> 2.4828</td>\n",
        "      <td> 2.5428</td>\n",
        "      <td> 2.0828</td>\n",
        "      <td> 2.9106</td>\n",
        "    </tr>\n",
        "    <tr>\n",
        "      <th>10</th>\n",
        "      <td> 10012</td>\n",
        "      <td> 3.2722</td>\n",
        "      <td> 3.9060</td>\n",
        "      <td> 2.1920</td>\n",
        "      <td> 3.4954</td>\n",
        "      <td> 2.5388</td>\n",
        "      <td> 3.2870</td>\n",
        "      <td> 2.5050</td>\n",
        "      <td> 2.7240</td>\n",
        "      <td> 2.8260</td>\n",
        "      <td> 2.8026</td>\n",
        "    </tr>\n",
        "    <tr>\n",
        "      <th>11</th>\n",
        "      <td> 10013</td>\n",
        "      <td> 3.0710</td>\n",
        "      <td> 3.6590</td>\n",
        "      <td> 2.0596</td>\n",
        "      <td> 2.5164</td>\n",
        "      <td> 2.7044</td>\n",
        "      <td> 2.8400</td>\n",
        "      <td> 2.7042</td>\n",
        "      <td> 2.5348</td>\n",
        "      <td> 2.9164</td>\n",
        "      <td> 2.6598</td>\n",
        "    </tr>\n",
        "    <tr>\n",
        "      <th>12</th>\n",
        "      <td> 10014</td>\n",
        "      <td> 3.3212</td>\n",
        "      <td> 3.9004</td>\n",
        "      <td> 1.9874</td>\n",
        "      <td> 2.8920</td>\n",
        "      <td> 0.9166</td>\n",
        "      <td> 2.9334</td>\n",
        "      <td> 2.5152</td>\n",
        "      <td> 2.6074</td>\n",
        "      <td> 2.2686</td>\n",
        "      <td> 2.8762</td>\n",
        "    </tr>\n",
        "    <tr>\n",
        "      <th>13</th>\n",
        "      <td> 10016</td>\n",
        "      <td> 3.2754</td>\n",
        "      <td> 3.6416</td>\n",
        "      <td> 2.1764</td>\n",
        "      <td> 2.7384</td>\n",
        "      <td> 2.8032</td>\n",
        "      <td> 2.9978</td>\n",
        "      <td> 2.5998</td>\n",
        "      <td> 2.3126</td>\n",
        "      <td> 2.7702</td>\n",
        "      <td> 2.8142</td>\n",
        "    </tr>\n",
        "    <tr>\n",
        "      <th>14</th>\n",
        "      <td> 10017</td>\n",
        "      <td> 2.8356</td>\n",
        "      <td> 3.5214</td>\n",
        "      <td> 2.3296</td>\n",
        "      <td> 2.3254</td>\n",
        "      <td> 2.5872</td>\n",
        "      <td> 2.7970</td>\n",
        "      <td> 2.3096</td>\n",
        "      <td> 2.0496</td>\n",
        "      <td> 2.6192</td>\n",
        "      <td> 2.7112</td>\n",
        "    </tr>\n",
        "    <tr>\n",
        "      <th>15</th>\n",
        "      <td> 10018</td>\n",
        "      <td> 3.2416</td>\n",
        "      <td> 3.4522</td>\n",
        "      <td> 2.2136</td>\n",
        "      <td> 3.0494</td>\n",
        "      <td> 2.2728</td>\n",
        "      <td> 2.8544</td>\n",
        "      <td> 2.6512</td>\n",
        "      <td> 2.3676</td>\n",
        "      <td> 2.7854</td>\n",
        "      <td> 2.8162</td>\n",
        "    </tr>\n",
        "    <tr>\n",
        "      <th>16</th>\n",
        "      <td> 10019</td>\n",
        "      <td> 3.1366</td>\n",
        "      <td> 3.5108</td>\n",
        "      <td> 2.1132</td>\n",
        "      <td> 2.7730</td>\n",
        "      <td> 2.0636</td>\n",
        "      <td> 3.1196</td>\n",
        "      <td> 1.3176</td>\n",
        "      <td> 2.2186</td>\n",
        "      <td> 2.7502</td>\n",
        "      <td> 2.8466</td>\n",
        "    </tr>\n",
        "    <tr>\n",
        "      <th>17</th>\n",
        "      <td> 10020</td>\n",
        "      <td> 3.2022</td>\n",
        "      <td> 4.1348</td>\n",
        "      <td> 1.7530</td>\n",
        "      <td> 3.1132</td>\n",
        "      <td> 2.8376</td>\n",
        "      <td> 3.1006</td>\n",
        "      <td> 2.6348</td>\n",
        "      <td> 2.5592</td>\n",
        "      <td> 2.8014</td>\n",
        "      <td> 2.9340</td>\n",
        "    </tr>\n",
        "    <tr>\n",
        "      <th>18</th>\n",
        "      <td> 10021</td>\n",
        "      <td> 3.0234</td>\n",
        "      <td> 3.4666</td>\n",
        "      <td> 2.3882</td>\n",
        "      <td> 2.4090</td>\n",
        "      <td> 2.4218</td>\n",
        "      <td> 2.7330</td>\n",
        "      <td> 2.3366</td>\n",
        "      <td> 2.1240</td>\n",
        "      <td> 2.7542</td>\n",
        "      <td> 2.6818</td>\n",
        "    </tr>\n",
        "    <tr>\n",
        "      <th>19</th>\n",
        "      <td> 10022</td>\n",
        "      <td> 2.9398</td>\n",
        "      <td> 3.3330</td>\n",
        "      <td> 2.1900</td>\n",
        "      <td> 2.4810</td>\n",
        "      <td> 2.7340</td>\n",
        "      <td> 2.9482</td>\n",
        "      <td> 2.5850</td>\n",
        "      <td> 2.2558</td>\n",
        "      <td> 2.5630</td>\n",
        "      <td> 2.6468</td>\n",
        "    </tr>\n",
        "    <tr>\n",
        "      <th>20</th>\n",
        "      <td> 10023</td>\n",
        "      <td> 2.8650</td>\n",
        "      <td> 3.3678</td>\n",
        "      <td> 2.2420</td>\n",
        "      <td> 2.7832</td>\n",
        "      <td> 2.5232</td>\n",
        "      <td> 2.9944</td>\n",
        "      <td> 2.1582</td>\n",
        "      <td> 2.2142</td>\n",
        "      <td> 2.7030</td>\n",
        "      <td> 2.7384</td>\n",
        "    </tr>\n",
        "    <tr>\n",
        "      <th>21</th>\n",
        "      <td> 10024</td>\n",
        "      <td> 3.0752</td>\n",
        "      <td> 3.6604</td>\n",
        "      <td> 2.4352</td>\n",
        "      <td> 2.6564</td>\n",
        "      <td> 2.7376</td>\n",
        "      <td> 2.9514</td>\n",
        "      <td> 2.3028</td>\n",
        "      <td> 2.3218</td>\n",
        "      <td> 2.7248</td>\n",
        "      <td> 2.8330</td>\n",
        "    </tr>\n",
        "    <tr>\n",
        "      <th>22</th>\n",
        "      <td> 10025</td>\n",
        "      <td> 2.6836</td>\n",
        "      <td> 3.0966</td>\n",
        "      <td> 2.0522</td>\n",
        "      <td> 2.4142</td>\n",
        "      <td> 1.2964</td>\n",
        "      <td> 2.8102</td>\n",
        "      <td> 0.6872</td>\n",
        "      <td> 1.9642</td>\n",
        "      <td> 2.7274</td>\n",
        "      <td> 2.7322</td>\n",
        "    </tr>\n",
        "    <tr>\n",
        "      <th>23</th>\n",
        "      <td> 10026</td>\n",
        "      <td> 2.7032</td>\n",
        "      <td> 3.1402</td>\n",
        "      <td> 2.0474</td>\n",
        "      <td> 2.2758</td>\n",
        "      <td> 0.5894</td>\n",
        "      <td> 2.6742</td>\n",
        "      <td> 0.9738</td>\n",
        "      <td> 2.0228</td>\n",
        "      <td> 2.1244</td>\n",
        "      <td> 2.6958</td>\n",
        "    </tr>\n",
        "    <tr>\n",
        "      <th>24</th>\n",
        "      <td> 10027</td>\n",
        "      <td> 2.8064</td>\n",
        "      <td> 2.9786</td>\n",
        "      <td> 0.9668</td>\n",
        "      <td> 2.9756</td>\n",
        "      <td> 0.3712</td>\n",
        "      <td> 2.6188</td>\n",
        "      <td> 0.3228</td>\n",
        "      <td> 0.4158</td>\n",
        "      <td> 2.4670</td>\n",
        "      <td> 2.4986</td>\n",
        "    </tr>\n",
        "    <tr>\n",
        "      <th>25</th>\n",
        "      <td> 10028</td>\n",
        "      <td> 3.0312</td>\n",
        "      <td> 3.6296</td>\n",
        "      <td> 2.4344</td>\n",
        "      <td> 2.6180</td>\n",
        "      <td> 2.5212</td>\n",
        "      <td> 2.8204</td>\n",
        "      <td> 2.3982</td>\n",
        "      <td> 2.0852</td>\n",
        "      <td> 2.6642</td>\n",
        "      <td> 2.6950</td>\n",
        "    </tr>\n",
        "    <tr>\n",
        "      <th>26</th>\n",
        "      <td> 10029</td>\n",
        "      <td> 2.8042</td>\n",
        "      <td> 3.0248</td>\n",
        "      <td> 1.6868</td>\n",
        "      <td> 2.4640</td>\n",
        "      <td> 1.0326</td>\n",
        "      <td> 2.4334</td>\n",
        "      <td> 0.6266</td>\n",
        "      <td> 1.4924</td>\n",
        "      <td> 1.3894</td>\n",
        "      <td> 2.5872</td>\n",
        "    </tr>\n",
        "    <tr>\n",
        "      <th>27</th>\n",
        "      <td> 10030</td>\n",
        "      <td> 2.6434</td>\n",
        "      <td> 2.6400</td>\n",
        "      <td> 1.8300</td>\n",
        "      <td> 1.9350</td>\n",
        "      <td> 0.8502</td>\n",
        "      <td> 2.3976</td>\n",
        "      <td> 0.3800</td>\n",
        "      <td> 1.5266</td>\n",
        "      <td> 0.9794</td>\n",
        "      <td> 2.7840</td>\n",
        "    </tr>\n",
        "    <tr>\n",
        "      <th>28</th>\n",
        "      <td> 10031</td>\n",
        "      <td> 2.5364</td>\n",
        "      <td> 2.7298</td>\n",
        "      <td> 2.0878</td>\n",
        "      <td> 2.1792</td>\n",
        "      <td> 0.1816</td>\n",
        "      <td> 2.4992</td>\n",
        "      <td> 0.0918</td>\n",
        "      <td> 0.6564</td>\n",
        "      <td> 0.3966</td>\n",
        "      <td> 1.2262</td>\n",
        "    </tr>\n",
        "    <tr>\n",
        "      <th>29</th>\n",
        "      <td> 10032</td>\n",
        "      <td> 2.4020</td>\n",
        "      <td> 2.6594</td>\n",
        "      <td> 1.5134</td>\n",
        "      <td> 2.3240</td>\n",
        "      <td> 1.7486</td>\n",
        "      <td> 2.4164</td>\n",
        "      <td> 0.1382</td>\n",
        "      <td> 0.5920</td>\n",
        "      <td> 0.6946</td>\n",
        "      <td> 1.9226</td>\n",
        "    </tr>\n",
        "    <tr>\n",
        "      <th>30</th>\n",
        "      <td> 10033</td>\n",
        "      <td> 0.9052</td>\n",
        "      <td> 1.2370</td>\n",
        "      <td> 0.3788</td>\n",
        "      <td> 0.5204</td>\n",
        "      <td> 0.3840</td>\n",
        "      <td> 0.5724</td>\n",
        "      <td> 0.1502</td>\n",
        "      <td> 0.2114</td>\n",
        "      <td> 0.3308</td>\n",
        "      <td> 0.2264</td>\n",
        "    </tr>\n",
        "    <tr>\n",
        "      <th>31</th>\n",
        "      <td> 10034</td>\n",
        "      <td> 2.4290</td>\n",
        "      <td> 2.5988</td>\n",
        "      <td> 2.1920</td>\n",
        "      <td> 2.0778</td>\n",
        "      <td> 0.3654</td>\n",
        "      <td> 2.4750</td>\n",
        "      <td> 0.5916</td>\n",
        "      <td> 1.5734</td>\n",
        "      <td> 2.7470</td>\n",
        "      <td> 2.9194</td>\n",
        "    </tr>\n",
        "    <tr>\n",
        "      <th>32</th>\n",
        "      <td> 10035</td>\n",
        "      <td> 0.2036</td>\n",
        "      <td> 0.2942</td>\n",
        "      <td> 0.1202</td>\n",
        "      <td> 0.2104</td>\n",
        "      <td> 0.0302</td>\n",
        "      <td> 0.3308</td>\n",
        "      <td> 0.0000</td>\n",
        "      <td> 0.7782</td>\n",
        "      <td> 0.5260</td>\n",
        "      <td> 0.5708</td>\n",
        "    </tr>\n",
        "    <tr>\n",
        "      <th>33</th>\n",
        "      <td> 10036</td>\n",
        "      <td> 3.3528</td>\n",
        "      <td> 3.6122</td>\n",
        "      <td> 2.1306</td>\n",
        "      <td> 3.0306</td>\n",
        "      <td> 2.1660</td>\n",
        "      <td> 2.9718</td>\n",
        "      <td> 2.6242</td>\n",
        "      <td> 2.6086</td>\n",
        "      <td> 2.8000</td>\n",
        "      <td> 2.7990</td>\n",
        "    </tr>\n",
        "    <tr>\n",
        "      <th>34</th>\n",
        "      <td> 10037</td>\n",
        "      <td> 2.4256</td>\n",
        "      <td> 2.5256</td>\n",
        "      <td> 1.7284</td>\n",
        "      <td> 1.3946</td>\n",
        "      <td> 0.3214</td>\n",
        "      <td> 2.3276</td>\n",
        "      <td> 0.3558</td>\n",
        "      <td> 1.2934</td>\n",
        "      <td> 0.4072</td>\n",
        "      <td> 1.7348</td>\n",
        "    </tr>\n",
        "    <tr>\n",
        "      <th>35</th>\n",
        "      <td> 10038</td>\n",
        "      <td> 2.9190</td>\n",
        "      <td> 3.0422</td>\n",
        "      <td> 2.0682</td>\n",
        "      <td> 2.4308</td>\n",
        "      <td> 2.5654</td>\n",
        "      <td> 2.7474</td>\n",
        "      <td> 2.4556</td>\n",
        "      <td> 2.3070</td>\n",
        "      <td> 2.8298</td>\n",
        "      <td> 2.8350</td>\n",
        "    </tr>\n",
        "    <tr>\n",
        "      <th>36</th>\n",
        "      <td> 10039</td>\n",
        "      <td> 1.1820</td>\n",
        "      <td> 2.5862</td>\n",
        "      <td> 1.7662</td>\n",
        "      <td> 1.0152</td>\n",
        "      <td> 0.2564</td>\n",
        "      <td> 2.0692</td>\n",
        "      <td> 0.2730</td>\n",
        "      <td> 0.6810</td>\n",
        "      <td> 0.3004</td>\n",
        "      <td> 0.9984</td>\n",
        "    </tr>\n",
        "    <tr>\n",
        "      <th>37</th>\n",
        "      <td> 10040</td>\n",
        "      <td> 2.4546</td>\n",
        "      <td> 2.6012</td>\n",
        "      <td> 1.1210</td>\n",
        "      <td> 1.4096</td>\n",
        "      <td> 0.1202</td>\n",
        "      <td> 2.4654</td>\n",
        "      <td> 0.1202</td>\n",
        "      <td> 0.2106</td>\n",
        "      <td> 0.7512</td>\n",
        "      <td> 1.1428</td>\n",
        "    </tr>\n",
        "    <tr>\n",
        "      <th>38</th>\n",
        "      <td> 10044</td>\n",
        "      <td> 2.6172</td>\n",
        "      <td> 2.7334</td>\n",
        "      <td> 1.2758</td>\n",
        "      <td> 2.5418</td>\n",
        "      <td> 1.8342</td>\n",
        "      <td> 2.4556</td>\n",
        "      <td> 0.1582</td>\n",
        "      <td> 0.8846</td>\n",
        "      <td> 0.9380</td>\n",
        "      <td> 1.4828</td>\n",
        "    </tr>\n",
        "    <tr>\n",
        "      <th>39</th>\n",
        "      <td> 10065</td>\n",
        "      <td> 2.8460</td>\n",
        "      <td> 3.4844</td>\n",
        "      <td> 2.2750</td>\n",
        "      <td> 2.2884</td>\n",
        "      <td> 2.4328</td>\n",
        "      <td> 2.9152</td>\n",
        "      <td> 2.5366</td>\n",
        "      <td> 2.2622</td>\n",
        "      <td> 2.5320</td>\n",
        "      <td> 2.6028</td>\n",
        "    </tr>\n",
        "    <tr>\n",
        "      <th>40</th>\n",
        "      <td> 10069</td>\n",
        "      <td> 2.5398</td>\n",
        "      <td> 2.4566</td>\n",
        "      <td> 0.6716</td>\n",
        "      <td> 2.0714</td>\n",
        "      <td> 1.2444</td>\n",
        "      <td> 2.4418</td>\n",
        "      <td> 0.1962</td>\n",
        "      <td> 0.4262</td>\n",
        "      <td> 1.3932</td>\n",
        "      <td> 2.8190</td>\n",
        "    </tr>\n",
        "    <tr>\n",
        "      <th>41</th>\n",
        "      <td> 10075</td>\n",
        "      <td> 3.0694</td>\n",
        "      <td> 3.5684</td>\n",
        "      <td> 2.3394</td>\n",
        "      <td> 2.5514</td>\n",
        "      <td> 2.6610</td>\n",
        "      <td> 2.8342</td>\n",
        "      <td> 2.2900</td>\n",
        "      <td> 2.2070</td>\n",
        "      <td> 2.6966</td>\n",
        "      <td> 2.6192</td>\n",
        "    </tr>\n",
        "    <tr>\n",
        "      <th>42</th>\n",
        "      <td> 10103</td>\n",
        "      <td> 3.0976</td>\n",
        "      <td> 3.7144</td>\n",
        "      <td> 1.9930</td>\n",
        "      <td> 2.9636</td>\n",
        "      <td> 2.8498</td>\n",
        "      <td> 2.9388</td>\n",
        "      <td> 2.7076</td>\n",
        "      <td> 2.4722</td>\n",
        "      <td> 2.5928</td>\n",
        "      <td> 2.6196</td>\n",
        "    </tr>\n",
        "    <tr>\n",
        "      <th>43</th>\n",
        "      <td> 10110</td>\n",
        "      <td> 3.1286</td>\n",
        "      <td> 3.6584</td>\n",
        "      <td> 1.8340</td>\n",
        "      <td> 2.8410</td>\n",
        "      <td> 2.8628</td>\n",
        "      <td> 3.0212</td>\n",
        "      <td> 2.6548</td>\n",
        "      <td> 2.6266</td>\n",
        "      <td> 2.7344</td>\n",
        "      <td> 2.9666</td>\n",
        "    </tr>\n",
        "    <tr>\n",
        "      <th>44</th>\n",
        "      <td> 10111</td>\n",
        "      <td> 3.1156</td>\n",
        "      <td> 3.7850</td>\n",
        "      <td> 1.6968</td>\n",
        "      <td> 2.9278</td>\n",
        "      <td> 2.8936</td>\n",
        "      <td> 2.9294</td>\n",
        "      <td> 2.7186</td>\n",
        "      <td> 2.5008</td>\n",
        "      <td> 2.7558</td>\n",
        "      <td> 2.7158</td>\n",
        "    </tr>\n",
        "    <tr>\n",
        "      <th>45</th>\n",
        "      <td> 10112</td>\n",
        "      <td> 3.1996</td>\n",
        "      <td> 3.8058</td>\n",
        "      <td> 1.6994</td>\n",
        "      <td> 2.8576</td>\n",
        "      <td> 2.9352</td>\n",
        "      <td> 3.0714</td>\n",
        "      <td> 2.7746</td>\n",
        "      <td> 2.5138</td>\n",
        "      <td> 2.7658</td>\n",
        "      <td> 2.8556</td>\n",
        "    </tr>\n",
        "    <tr>\n",
        "      <th>46</th>\n",
        "      <td> 10115</td>\n",
        "      <td> 2.9350</td>\n",
        "      <td> 3.1102</td>\n",
        "      <td> 1.5910</td>\n",
        "      <td> 2.9976</td>\n",
        "      <td> 0.5426</td>\n",
        "      <td> 2.7734</td>\n",
        "      <td> 0.3228</td>\n",
        "      <td> 0.6600</td>\n",
        "      <td> 2.4532</td>\n",
        "      <td> 2.4886</td>\n",
        "    </tr>\n",
        "    <tr>\n",
        "      <th>47</th>\n",
        "      <td> 10119</td>\n",
        "      <td> 3.0514</td>\n",
        "      <td> 3.3582</td>\n",
        "      <td> 2.0472</td>\n",
        "      <td> 2.9510</td>\n",
        "      <td> 2.5350</td>\n",
        "      <td> 2.9666</td>\n",
        "      <td> 2.5360</td>\n",
        "      <td> 2.3852</td>\n",
        "      <td> 2.8292</td>\n",
        "      <td> 2.8872</td>\n",
        "    </tr>\n",
        "    <tr>\n",
        "      <th>48</th>\n",
        "      <td> 10128</td>\n",
        "      <td> 3.0082</td>\n",
        "      <td> 3.2582</td>\n",
        "      <td> 2.3366</td>\n",
        "      <td> 2.4654</td>\n",
        "      <td> 2.2910</td>\n",
        "      <td> 2.8324</td>\n",
        "      <td> 2.4392</td>\n",
        "      <td> 1.9938</td>\n",
        "      <td> 2.3204</td>\n",
        "      <td> 2.7232</td>\n",
        "    </tr>\n",
        "    <tr>\n",
        "      <th>49</th>\n",
        "      <td> 10152</td>\n",
        "      <td> 3.0926</td>\n",
        "      <td> 3.3300</td>\n",
        "      <td> 2.0834</td>\n",
        "      <td> 2.7632</td>\n",
        "      <td> 2.7828</td>\n",
        "      <td> 2.9776</td>\n",
        "      <td> 2.6736</td>\n",
        "      <td> 2.5250</td>\n",
        "      <td> 2.6164</td>\n",
        "      <td> 2.6866</td>\n",
        "    </tr>\n",
        "  </tbody>\n",
        "</table>\n",
        "</div>"
       ],
       "metadata": {},
       "output_type": "pyout",
       "prompt_number": 4,
       "text": [
        "    Zip Code    bars  restaurants  laundry   pizza  hospitals  coffee  \\\n",
        "0      10001  2.9536       3.3522   1.6918  2.5488     2.4202  2.6022   \n",
        "1      10002  3.1608       3.5156   2.2446  2.6232     0.8280  3.0104   \n",
        "2      10003  3.4370       4.1120   2.4756  3.1474     2.6350  3.2066   \n",
        "3      10004  2.8646       3.1752   1.9260  2.4708     2.3320  2.6966   \n",
        "4      10005  3.0154       3.2064   1.8618  2.4368     2.0394  2.6892   \n",
        "5      10006  2.8622       3.2574   1.9082  2.4662     2.3692  2.8382   \n",
        "6      10007  2.9906       3.3124   2.2646  2.5330     2.4096  2.9104   \n",
        "7      10009  3.5534       3.8906   2.3356  3.1436     2.4698  3.0766   \n",
        "8      10010  3.0204       3.4556   2.3490  2.9848     2.4458  2.8516   \n",
        "9      10011  3.4130       3.5576   1.5652  3.0868     1.0198  2.8328   \n",
        "10     10012  3.2722       3.9060   2.1920  3.4954     2.5388  3.2870   \n",
        "11     10013  3.0710       3.6590   2.0596  2.5164     2.7044  2.8400   \n",
        "12     10014  3.3212       3.9004   1.9874  2.8920     0.9166  2.9334   \n",
        "13     10016  3.2754       3.6416   2.1764  2.7384     2.8032  2.9978   \n",
        "14     10017  2.8356       3.5214   2.3296  2.3254     2.5872  2.7970   \n",
        "15     10018  3.2416       3.4522   2.2136  3.0494     2.2728  2.8544   \n",
        "16     10019  3.1366       3.5108   2.1132  2.7730     2.0636  3.1196   \n",
        "17     10020  3.2022       4.1348   1.7530  3.1132     2.8376  3.1006   \n",
        "18     10021  3.0234       3.4666   2.3882  2.4090     2.4218  2.7330   \n",
        "19     10022  2.9398       3.3330   2.1900  2.4810     2.7340  2.9482   \n",
        "20     10023  2.8650       3.3678   2.2420  2.7832     2.5232  2.9944   \n",
        "21     10024  3.0752       3.6604   2.4352  2.6564     2.7376  2.9514   \n",
        "22     10025  2.6836       3.0966   2.0522  2.4142     1.2964  2.8102   \n",
        "23     10026  2.7032       3.1402   2.0474  2.2758     0.5894  2.6742   \n",
        "24     10027  2.8064       2.9786   0.9668  2.9756     0.3712  2.6188   \n",
        "25     10028  3.0312       3.6296   2.4344  2.6180     2.5212  2.8204   \n",
        "26     10029  2.8042       3.0248   1.6868  2.4640     1.0326  2.4334   \n",
        "27     10030  2.6434       2.6400   1.8300  1.9350     0.8502  2.3976   \n",
        "28     10031  2.5364       2.7298   2.0878  2.1792     0.1816  2.4992   \n",
        "29     10032  2.4020       2.6594   1.5134  2.3240     1.7486  2.4164   \n",
        "30     10033  0.9052       1.2370   0.3788  0.5204     0.3840  0.5724   \n",
        "31     10034  2.4290       2.5988   2.1920  2.0778     0.3654  2.4750   \n",
        "32     10035  0.2036       0.2942   0.1202  0.2104     0.0302  0.3308   \n",
        "33     10036  3.3528       3.6122   2.1306  3.0306     2.1660  2.9718   \n",
        "34     10037  2.4256       2.5256   1.7284  1.3946     0.3214  2.3276   \n",
        "35     10038  2.9190       3.0422   2.0682  2.4308     2.5654  2.7474   \n",
        "36     10039  1.1820       2.5862   1.7662  1.0152     0.2564  2.0692   \n",
        "37     10040  2.4546       2.6012   1.1210  1.4096     0.1202  2.4654   \n",
        "38     10044  2.6172       2.7334   1.2758  2.5418     1.8342  2.4556   \n",
        "39     10065  2.8460       3.4844   2.2750  2.2884     2.4328  2.9152   \n",
        "40     10069  2.5398       2.4566   0.6716  2.0714     1.2444  2.4418   \n",
        "41     10075  3.0694       3.5684   2.3394  2.5514     2.6610  2.8342   \n",
        "42     10103  3.0976       3.7144   1.9930  2.9636     2.8498  2.9388   \n",
        "43     10110  3.1286       3.6584   1.8340  2.8410     2.8628  3.0212   \n",
        "44     10111  3.1156       3.7850   1.6968  2.9278     2.8936  2.9294   \n",
        "45     10112  3.1996       3.8058   1.6994  2.8576     2.9352  3.0714   \n",
        "46     10115  2.9350       3.1102   1.5910  2.9976     0.5426  2.7734   \n",
        "47     10119  3.0514       3.3582   2.0472  2.9510     2.5350  2.9666   \n",
        "48     10128  3.0082       3.2582   2.3366  2.4654     2.2910  2.8324   \n",
        "49     10152  3.0926       3.3300   2.0834  2.7632     2.7828  2.9776   \n",
        "\n",
        "    boutique  clothing  education    arts  \n",
        "0     1.9770    2.4052     2.7608  2.7884  \n",
        "1     2.6318    2.7366     2.6932  2.6804  \n",
        "2     2.7040    2.6900     2.7740  2.7080  \n",
        "3     2.3562    2.5286     2.5920  2.6178  \n",
        "4     1.1366    2.0842     2.6002  2.4910  \n",
        "5     2.6142    2.5092     2.7964  2.7972  \n",
        "6     2.6394    2.5722     2.8200  2.8244  \n",
        "7     2.6428    2.7562     2.4454  2.7868  \n",
        "8     2.4302    2.5374     2.6644  2.5400  \n",
        "9     2.4828    2.5428     2.0828  2.9106  \n",
        "10    2.5050    2.7240     2.8260  2.8026  \n",
        "11    2.7042    2.5348     2.9164  2.6598  \n",
        "12    2.5152    2.6074     2.2686  2.8762  \n",
        "13    2.5998    2.3126     2.7702  2.8142  \n",
        "14    2.3096    2.0496     2.6192  2.7112  \n",
        "15    2.6512    2.3676     2.7854  2.8162  \n",
        "16    1.3176    2.2186     2.7502  2.8466  \n",
        "17    2.6348    2.5592     2.8014  2.9340  \n",
        "18    2.3366    2.1240     2.7542  2.6818  \n",
        "19    2.5850    2.2558     2.5630  2.6468  \n",
        "20    2.1582    2.2142     2.7030  2.7384  \n",
        "21    2.3028    2.3218     2.7248  2.8330  \n",
        "22    0.6872    1.9642     2.7274  2.7322  \n",
        "23    0.9738    2.0228     2.1244  2.6958  \n",
        "24    0.3228    0.4158     2.4670  2.4986  \n",
        "25    2.3982    2.0852     2.6642  2.6950  \n",
        "26    0.6266    1.4924     1.3894  2.5872  \n",
        "27    0.3800    1.5266     0.9794  2.7840  \n",
        "28    0.0918    0.6564     0.3966  1.2262  \n",
        "29    0.1382    0.5920     0.6946  1.9226  \n",
        "30    0.1502    0.2114     0.3308  0.2264  \n",
        "31    0.5916    1.5734     2.7470  2.9194  \n",
        "32    0.0000    0.7782     0.5260  0.5708  \n",
        "33    2.6242    2.6086     2.8000  2.7990  \n",
        "34    0.3558    1.2934     0.4072  1.7348  \n",
        "35    2.4556    2.3070     2.8298  2.8350  \n",
        "36    0.2730    0.6810     0.3004  0.9984  \n",
        "37    0.1202    0.2106     0.7512  1.1428  \n",
        "38    0.1582    0.8846     0.9380  1.4828  \n",
        "39    2.5366    2.2622     2.5320  2.6028  \n",
        "40    0.1962    0.4262     1.3932  2.8190  \n",
        "41    2.2900    2.2070     2.6966  2.6192  \n",
        "42    2.7076    2.4722     2.5928  2.6196  \n",
        "43    2.6548    2.6266     2.7344  2.9666  \n",
        "44    2.7186    2.5008     2.7558  2.7158  \n",
        "45    2.7746    2.5138     2.7658  2.8556  \n",
        "46    0.3228    0.6600     2.4532  2.4886  \n",
        "47    2.5360    2.3852     2.8292  2.8872  \n",
        "48    2.4392    1.9938     2.3204  2.7232  \n",
        "49    2.6736    2.5250     2.6164  2.6866  "
       ]
      }
     ],
     "prompt_number": 4
    },
    {
     "cell_type": "code",
     "collapsed": false,
     "input": [
      "columns = ['bars','restaurants','laundry','pizza','hospitals','coffee','boutique','clothing','education','arts']\n",
      "def calculate_similarity(item1, item2):\n",
      "    dists = []\n",
      "    for f in columns:\n",
      "        dists.append(euclidean_distances(df[df['Zip Code']==item1][f], df[df['Zip Code']==item2][f])[0][0])\n",
      "    \n",
      "    return dists"
     ],
     "language": "python",
     "metadata": {},
     "outputs": [],
     "prompt_number": 5
    },
    {
     "cell_type": "code",
     "collapsed": false,
     "input": [
      "df[df['Zip Code']==11101]"
     ],
     "language": "python",
     "metadata": {},
     "outputs": [
      {
       "html": [
        "<div style=\"max-height:1000px;max-width:1500px;overflow:auto;\">\n",
        "<table border=\"1\" class=\"dataframe\">\n",
        "  <thead>\n",
        "    <tr style=\"text-align: right;\">\n",
        "      <th></th>\n",
        "      <th>Zip Code</th>\n",
        "      <th>bars</th>\n",
        "      <th>restaurants</th>\n",
        "      <th>laundry</th>\n",
        "      <th>pizza</th>\n",
        "      <th>hospitals</th>\n",
        "      <th>coffee</th>\n",
        "      <th>boutique</th>\n",
        "      <th>clothing</th>\n",
        "      <th>education</th>\n",
        "      <th>arts</th>\n",
        "    </tr>\n",
        "  </thead>\n",
        "  <tbody>\n",
        "    <tr>\n",
        "      <th>109</th>\n",
        "      <td> 11101</td>\n",
        "      <td> 2.5814</td>\n",
        "      <td> 2.7782</td>\n",
        "      <td> 2.2142</td>\n",
        "      <td> 2.3688</td>\n",
        "      <td> 0.591</td>\n",
        "      <td> 2.4796</td>\n",
        "      <td> 0.7866</td>\n",
        "      <td> 2.3148</td>\n",
        "      <td> 2.8802</td>\n",
        "      <td> 2.7484</td>\n",
        "    </tr>\n",
        "  </tbody>\n",
        "</table>\n",
        "</div>"
       ],
       "metadata": {},
       "output_type": "pyout",
       "prompt_number": 6,
       "text": [
        "     Zip Code    bars  restaurants  laundry   pizza  hospitals  coffee  \\\n",
        "109     11101  2.5814       2.7782   2.2142  2.3688      0.591  2.4796   \n",
        "\n",
        "     boutique  clothing  education    arts  \n",
        "109    0.7866    2.3148     2.8802  2.7484  "
       ]
      }
     ],
     "prompt_number": 6
    },
    {
     "cell_type": "code",
     "collapsed": false,
     "input": [
      "simple_distances = []\n",
      "for i in df['Zip Code']:\n",
      "    print \"starting\", i\n",
      "    for j in df['Zip Code']:\n",
      "        if i != j:\n",
      "            row = [i, j] + calculate_similarity(i, j)\n",
      "            simple_distances.append(row)"
     ],
     "language": "python",
     "metadata": {},
     "outputs": [
      {
       "output_type": "stream",
       "stream": "stdout",
       "text": [
        "starting 10001\n",
        "starting"
       ]
      },
      {
       "output_type": "stream",
       "stream": "stdout",
       "text": [
        " 10002\n",
        "starting"
       ]
      },
      {
       "output_type": "stream",
       "stream": "stdout",
       "text": [
        " 10003\n",
        "starting"
       ]
      },
      {
       "output_type": "stream",
       "stream": "stdout",
       "text": [
        " 10004\n",
        "starting"
       ]
      },
      {
       "output_type": "stream",
       "stream": "stdout",
       "text": [
        " 10005\n",
        "starting"
       ]
      },
      {
       "output_type": "stream",
       "stream": "stdout",
       "text": [
        " 10006\n",
        "starting"
       ]
      },
      {
       "output_type": "stream",
       "stream": "stdout",
       "text": [
        " 10007\n",
        "starting"
       ]
      },
      {
       "output_type": "stream",
       "stream": "stdout",
       "text": [
        " 10009\n",
        "starting"
       ]
      },
      {
       "output_type": "stream",
       "stream": "stdout",
       "text": [
        " 10010\n",
        "starting"
       ]
      },
      {
       "output_type": "stream",
       "stream": "stdout",
       "text": [
        " 10011\n",
        "starting"
       ]
      },
      {
       "output_type": "stream",
       "stream": "stdout",
       "text": [
        " 10012\n",
        "starting"
       ]
      },
      {
       "output_type": "stream",
       "stream": "stdout",
       "text": [
        " 10013\n",
        "starting"
       ]
      },
      {
       "output_type": "stream",
       "stream": "stdout",
       "text": [
        " 10014\n",
        "starting"
       ]
      },
      {
       "output_type": "stream",
       "stream": "stdout",
       "text": [
        " 10016\n",
        "starting"
       ]
      },
      {
       "output_type": "stream",
       "stream": "stdout",
       "text": [
        " 10017\n",
        "starting"
       ]
      },
      {
       "output_type": "stream",
       "stream": "stdout",
       "text": [
        " 10018\n",
        "starting"
       ]
      },
      {
       "output_type": "stream",
       "stream": "stdout",
       "text": [
        " 10019\n",
        "starting"
       ]
      },
      {
       "output_type": "stream",
       "stream": "stdout",
       "text": [
        " 10020\n",
        "starting"
       ]
      },
      {
       "output_type": "stream",
       "stream": "stdout",
       "text": [
        " 10021\n",
        "starting"
       ]
      },
      {
       "output_type": "stream",
       "stream": "stdout",
       "text": [
        " 10022\n",
        "starting"
       ]
      },
      {
       "output_type": "stream",
       "stream": "stdout",
       "text": [
        " 10023\n",
        "starting"
       ]
      },
      {
       "output_type": "stream",
       "stream": "stdout",
       "text": [
        " 10024\n",
        "starting"
       ]
      },
      {
       "output_type": "stream",
       "stream": "stdout",
       "text": [
        " 10025\n",
        "starting"
       ]
      },
      {
       "output_type": "stream",
       "stream": "stdout",
       "text": [
        " 10026\n",
        "starting"
       ]
      },
      {
       "output_type": "stream",
       "stream": "stdout",
       "text": [
        " 10027\n",
        "starting"
       ]
      },
      {
       "output_type": "stream",
       "stream": "stdout",
       "text": [
        " 10028\n",
        "starting"
       ]
      },
      {
       "output_type": "stream",
       "stream": "stdout",
       "text": [
        " 10029\n",
        "starting"
       ]
      },
      {
       "output_type": "stream",
       "stream": "stdout",
       "text": [
        " 10030\n",
        "starting"
       ]
      },
      {
       "output_type": "stream",
       "stream": "stdout",
       "text": [
        " 10031\n",
        "starting"
       ]
      },
      {
       "output_type": "stream",
       "stream": "stdout",
       "text": [
        " 10032\n",
        "starting"
       ]
      },
      {
       "output_type": "stream",
       "stream": "stdout",
       "text": [
        " 10033\n",
        "starting"
       ]
      },
      {
       "output_type": "stream",
       "stream": "stdout",
       "text": [
        " 10034\n",
        "starting"
       ]
      },
      {
       "output_type": "stream",
       "stream": "stdout",
       "text": [
        " 10035\n",
        "starting"
       ]
      },
      {
       "output_type": "stream",
       "stream": "stdout",
       "text": [
        " 10036\n",
        "starting"
       ]
      },
      {
       "output_type": "stream",
       "stream": "stdout",
       "text": [
        " 10037\n",
        "starting"
       ]
      },
      {
       "output_type": "stream",
       "stream": "stdout",
       "text": [
        " 10038\n",
        "starting"
       ]
      },
      {
       "output_type": "stream",
       "stream": "stdout",
       "text": [
        " 10039\n",
        "starting"
       ]
      },
      {
       "output_type": "stream",
       "stream": "stdout",
       "text": [
        " 10040\n",
        "starting"
       ]
      },
      {
       "output_type": "stream",
       "stream": "stdout",
       "text": [
        " 10044\n",
        "starting"
       ]
      },
      {
       "output_type": "stream",
       "stream": "stdout",
       "text": [
        " 10065\n",
        "starting"
       ]
      },
      {
       "output_type": "stream",
       "stream": "stdout",
       "text": [
        " 10069\n",
        "starting"
       ]
      },
      {
       "output_type": "stream",
       "stream": "stdout",
       "text": [
        " 10075\n",
        "starting"
       ]
      },
      {
       "output_type": "stream",
       "stream": "stdout",
       "text": [
        " 10103\n",
        "starting"
       ]
      },
      {
       "output_type": "stream",
       "stream": "stdout",
       "text": [
        " 10110\n",
        "starting"
       ]
      },
      {
       "output_type": "stream",
       "stream": "stdout",
       "text": [
        " 10111\n",
        "starting"
       ]
      },
      {
       "output_type": "stream",
       "stream": "stdout",
       "text": [
        " 10112\n",
        "starting"
       ]
      },
      {
       "output_type": "stream",
       "stream": "stdout",
       "text": [
        " 10115\n",
        "starting"
       ]
      },
      {
       "output_type": "stream",
       "stream": "stdout",
       "text": [
        " 10119\n",
        "starting"
       ]
      },
      {
       "output_type": "stream",
       "stream": "stdout",
       "text": [
        " 10128\n",
        "starting"
       ]
      },
      {
       "output_type": "stream",
       "stream": "stdout",
       "text": [
        " 10152\n",
        "starting"
       ]
      },
      {
       "output_type": "stream",
       "stream": "stdout",
       "text": [
        " 10153\n",
        "starting"
       ]
      },
      {
       "output_type": "stream",
       "stream": "stdout",
       "text": [
        " 10154\n",
        "starting"
       ]
      },
      {
       "output_type": "stream",
       "stream": "stdout",
       "text": [
        " 10162\n",
        "starting"
       ]
      },
      {
       "output_type": "stream",
       "stream": "stdout",
       "text": [
        " 10165\n",
        "starting"
       ]
      },
      {
       "output_type": "stream",
       "stream": "stdout",
       "text": [
        " 10167\n",
        "starting"
       ]
      },
      {
       "output_type": "stream",
       "stream": "stdout",
       "text": [
        " 10168\n",
        "starting"
       ]
      },
      {
       "output_type": "stream",
       "stream": "stdout",
       "text": [
        " 10169\n",
        "starting"
       ]
      },
      {
       "output_type": "stream",
       "stream": "stdout",
       "text": [
        " 10170\n",
        "starting"
       ]
      },
      {
       "output_type": "stream",
       "stream": "stdout",
       "text": [
        " 10171\n",
        "starting"
       ]
      },
      {
       "output_type": "stream",
       "stream": "stdout",
       "text": [
        " 10172\n",
        "starting"
       ]
      },
      {
       "output_type": "stream",
       "stream": "stdout",
       "text": [
        " 10173\n",
        "starting"
       ]
      },
      {
       "output_type": "stream",
       "stream": "stdout",
       "text": [
        " 10174\n",
        "starting"
       ]
      },
      {
       "output_type": "stream",
       "stream": "stdout",
       "text": [
        " 10177\n",
        "starting"
       ]
      },
      {
       "output_type": "stream",
       "stream": "stdout",
       "text": [
        " 10199\n",
        "starting"
       ]
      },
      {
       "output_type": "stream",
       "stream": "stdout",
       "text": [
        " 10271\n",
        "starting"
       ]
      },
      {
       "output_type": "stream",
       "stream": "stdout",
       "text": [
        " 10278\n",
        "starting"
       ]
      },
      {
       "output_type": "stream",
       "stream": "stdout",
       "text": [
        " 10279\n",
        "starting"
       ]
      },
      {
       "output_type": "stream",
       "stream": "stdout",
       "text": [
        " 10280\n",
        "starting"
       ]
      },
      {
       "output_type": "stream",
       "stream": "stdout",
       "text": [
        " 10282\n",
        "starting"
       ]
      },
      {
       "output_type": "stream",
       "stream": "stdout",
       "text": [
        " 10301\n",
        "starting"
       ]
      },
      {
       "output_type": "stream",
       "stream": "stdout",
       "text": [
        " 10302\n",
        "starting"
       ]
      },
      {
       "output_type": "stream",
       "stream": "stdout",
       "text": [
        " 10303\n",
        "starting"
       ]
      },
      {
       "output_type": "stream",
       "stream": "stdout",
       "text": [
        " 10304\n",
        "starting"
       ]
      },
      {
       "output_type": "stream",
       "stream": "stdout",
       "text": [
        " 10305\n",
        "starting"
       ]
      },
      {
       "output_type": "stream",
       "stream": "stdout",
       "text": [
        " 10306\n",
        "starting"
       ]
      },
      {
       "output_type": "stream",
       "stream": "stdout",
       "text": [
        " 10307\n",
        "starting"
       ]
      },
      {
       "output_type": "stream",
       "stream": "stdout",
       "text": [
        " 10308\n",
        "starting"
       ]
      },
      {
       "output_type": "stream",
       "stream": "stdout",
       "text": [
        " 10309\n",
        "starting"
       ]
      },
      {
       "output_type": "stream",
       "stream": "stdout",
       "text": [
        " 10310\n",
        "starting"
       ]
      },
      {
       "output_type": "stream",
       "stream": "stdout",
       "text": [
        " 10311\n",
        "starting"
       ]
      },
      {
       "output_type": "stream",
       "stream": "stdout",
       "text": [
        " 10312\n",
        "starting"
       ]
      },
      {
       "output_type": "stream",
       "stream": "stdout",
       "text": [
        " 10314\n",
        "starting"
       ]
      },
      {
       "output_type": "stream",
       "stream": "stdout",
       "text": [
        " 10451\n",
        "starting"
       ]
      },
      {
       "output_type": "stream",
       "stream": "stdout",
       "text": [
        " 10452\n",
        "starting"
       ]
      },
      {
       "output_type": "stream",
       "stream": "stdout",
       "text": [
        " 10453\n",
        "starting"
       ]
      },
      {
       "output_type": "stream",
       "stream": "stdout",
       "text": [
        " 10454\n",
        "starting"
       ]
      },
      {
       "output_type": "stream",
       "stream": "stdout",
       "text": [
        " 10455\n",
        "starting"
       ]
      },
      {
       "output_type": "stream",
       "stream": "stdout",
       "text": [
        " 10456\n",
        "starting"
       ]
      },
      {
       "output_type": "stream",
       "stream": "stdout",
       "text": [
        " 10457\n",
        "starting"
       ]
      },
      {
       "output_type": "stream",
       "stream": "stdout",
       "text": [
        " 10458\n",
        "starting"
       ]
      },
      {
       "output_type": "stream",
       "stream": "stdout",
       "text": [
        " 10459\n",
        "starting"
       ]
      },
      {
       "output_type": "stream",
       "stream": "stdout",
       "text": [
        " 10460\n",
        "starting"
       ]
      },
      {
       "output_type": "stream",
       "stream": "stdout",
       "text": [
        " 10461\n",
        "starting"
       ]
      },
      {
       "output_type": "stream",
       "stream": "stdout",
       "text": [
        " 10462\n",
        "starting"
       ]
      },
      {
       "output_type": "stream",
       "stream": "stdout",
       "text": [
        " 10463\n",
        "starting"
       ]
      },
      {
       "output_type": "stream",
       "stream": "stdout",
       "text": [
        " 10464\n",
        "starting"
       ]
      },
      {
       "output_type": "stream",
       "stream": "stdout",
       "text": [
        " 10465\n",
        "starting"
       ]
      },
      {
       "output_type": "stream",
       "stream": "stdout",
       "text": [
        " 10466\n",
        "starting"
       ]
      },
      {
       "output_type": "stream",
       "stream": "stdout",
       "text": [
        " 10467\n",
        "starting"
       ]
      },
      {
       "output_type": "stream",
       "stream": "stdout",
       "text": [
        " 10468\n",
        "starting"
       ]
      },
      {
       "output_type": "stream",
       "stream": "stdout",
       "text": [
        " 10469\n",
        "starting"
       ]
      },
      {
       "output_type": "stream",
       "stream": "stdout",
       "text": [
        " 10470\n",
        "starting"
       ]
      },
      {
       "output_type": "stream",
       "stream": "stdout",
       "text": [
        " 10471\n",
        "starting"
       ]
      },
      {
       "output_type": "stream",
       "stream": "stdout",
       "text": [
        " 10472\n",
        "starting"
       ]
      },
      {
       "output_type": "stream",
       "stream": "stdout",
       "text": [
        " 10473\n",
        "starting"
       ]
      },
      {
       "output_type": "stream",
       "stream": "stdout",
       "text": [
        " 10474\n",
        "starting"
       ]
      },
      {
       "output_type": "stream",
       "stream": "stdout",
       "text": [
        " 10475\n",
        "starting"
       ]
      },
      {
       "output_type": "stream",
       "stream": "stdout",
       "text": [
        " 11004\n",
        "starting"
       ]
      },
      {
       "output_type": "stream",
       "stream": "stdout",
       "text": [
        " 11005\n",
        "starting"
       ]
      },
      {
       "output_type": "stream",
       "stream": "stdout",
       "text": [
        " 11101\n",
        "starting"
       ]
      },
      {
       "output_type": "stream",
       "stream": "stdout",
       "text": [
        " 11102\n",
        "starting"
       ]
      },
      {
       "output_type": "stream",
       "stream": "stdout",
       "text": [
        " 11103\n",
        "starting"
       ]
      },
      {
       "output_type": "stream",
       "stream": "stdout",
       "text": [
        " 11104\n",
        "starting"
       ]
      },
      {
       "output_type": "stream",
       "stream": "stdout",
       "text": [
        " 11105\n",
        "starting"
       ]
      },
      {
       "output_type": "stream",
       "stream": "stdout",
       "text": [
        " 11106\n",
        "starting"
       ]
      },
      {
       "output_type": "stream",
       "stream": "stdout",
       "text": [
        " 11109\n",
        "starting"
       ]
      },
      {
       "output_type": "stream",
       "stream": "stdout",
       "text": [
        " 11201\n",
        "starting"
       ]
      },
      {
       "output_type": "stream",
       "stream": "stdout",
       "text": [
        " 11203\n",
        "starting"
       ]
      },
      {
       "output_type": "stream",
       "stream": "stdout",
       "text": [
        " 11204\n",
        "starting"
       ]
      },
      {
       "output_type": "stream",
       "stream": "stdout",
       "text": [
        " 11205\n",
        "starting"
       ]
      },
      {
       "output_type": "stream",
       "stream": "stdout",
       "text": [
        " 11206\n",
        "starting"
       ]
      },
      {
       "output_type": "stream",
       "stream": "stdout",
       "text": [
        " 11207\n",
        "starting"
       ]
      },
      {
       "output_type": "stream",
       "stream": "stdout",
       "text": [
        " 11208\n",
        "starting"
       ]
      },
      {
       "output_type": "stream",
       "stream": "stdout",
       "text": [
        " 11209\n",
        "starting"
       ]
      },
      {
       "output_type": "stream",
       "stream": "stdout",
       "text": [
        " 11210\n",
        "starting"
       ]
      },
      {
       "output_type": "stream",
       "stream": "stdout",
       "text": [
        " 11211\n",
        "starting"
       ]
      },
      {
       "output_type": "stream",
       "stream": "stdout",
       "text": [
        " 11212\n",
        "starting"
       ]
      },
      {
       "output_type": "stream",
       "stream": "stdout",
       "text": [
        " 11213\n",
        "starting"
       ]
      },
      {
       "output_type": "stream",
       "stream": "stdout",
       "text": [
        " 11214\n",
        "starting"
       ]
      },
      {
       "output_type": "stream",
       "stream": "stdout",
       "text": [
        " 11215\n",
        "starting"
       ]
      },
      {
       "output_type": "stream",
       "stream": "stdout",
       "text": [
        " 11216\n",
        "starting"
       ]
      },
      {
       "output_type": "stream",
       "stream": "stdout",
       "text": [
        " 11217\n",
        "starting"
       ]
      },
      {
       "output_type": "stream",
       "stream": "stdout",
       "text": [
        " 11218\n",
        "starting"
       ]
      },
      {
       "output_type": "stream",
       "stream": "stdout",
       "text": [
        " 11219\n",
        "starting"
       ]
      },
      {
       "output_type": "stream",
       "stream": "stdout",
       "text": [
        " 11220\n",
        "starting"
       ]
      },
      {
       "output_type": "stream",
       "stream": "stdout",
       "text": [
        " 11221\n",
        "starting"
       ]
      },
      {
       "output_type": "stream",
       "stream": "stdout",
       "text": [
        " 11222\n",
        "starting"
       ]
      },
      {
       "output_type": "stream",
       "stream": "stdout",
       "text": [
        " 11223\n",
        "starting"
       ]
      },
      {
       "output_type": "stream",
       "stream": "stdout",
       "text": [
        " 11224\n",
        "starting"
       ]
      },
      {
       "output_type": "stream",
       "stream": "stdout",
       "text": [
        " 11225\n",
        "starting"
       ]
      },
      {
       "output_type": "stream",
       "stream": "stdout",
       "text": [
        " 11226\n",
        "starting"
       ]
      },
      {
       "output_type": "stream",
       "stream": "stdout",
       "text": [
        " 11228\n",
        "starting"
       ]
      },
      {
       "output_type": "stream",
       "stream": "stdout",
       "text": [
        " 11229\n",
        "starting"
       ]
      },
      {
       "output_type": "stream",
       "stream": "stdout",
       "text": [
        " 11230\n",
        "starting"
       ]
      },
      {
       "output_type": "stream",
       "stream": "stdout",
       "text": [
        " 11231\n",
        "starting"
       ]
      },
      {
       "output_type": "stream",
       "stream": "stdout",
       "text": [
        " 11232\n",
        "starting"
       ]
      },
      {
       "output_type": "stream",
       "stream": "stdout",
       "text": [
        " 11233\n",
        "starting"
       ]
      },
      {
       "output_type": "stream",
       "stream": "stdout",
       "text": [
        " 11234\n",
        "starting"
       ]
      },
      {
       "output_type": "stream",
       "stream": "stdout",
       "text": [
        " 11235\n",
        "starting"
       ]
      },
      {
       "output_type": "stream",
       "stream": "stdout",
       "text": [
        " 11236\n",
        "starting"
       ]
      },
      {
       "output_type": "stream",
       "stream": "stdout",
       "text": [
        " 11237\n",
        "starting"
       ]
      },
      {
       "output_type": "stream",
       "stream": "stdout",
       "text": [
        " 11238\n",
        "starting"
       ]
      },
      {
       "output_type": "stream",
       "stream": "stdout",
       "text": [
        " 11239\n",
        "starting"
       ]
      },
      {
       "output_type": "stream",
       "stream": "stdout",
       "text": [
        " 11351\n",
        "starting"
       ]
      },
      {
       "output_type": "stream",
       "stream": "stdout",
       "text": [
        " 11354\n",
        "starting"
       ]
      },
      {
       "output_type": "stream",
       "stream": "stdout",
       "text": [
        " 11355\n",
        "starting"
       ]
      },
      {
       "output_type": "stream",
       "stream": "stdout",
       "text": [
        " 11356\n",
        "starting"
       ]
      },
      {
       "output_type": "stream",
       "stream": "stdout",
       "text": [
        " 11357\n",
        "starting"
       ]
      },
      {
       "output_type": "stream",
       "stream": "stdout",
       "text": [
        " 11358\n",
        "starting"
       ]
      },
      {
       "output_type": "stream",
       "stream": "stdout",
       "text": [
        " 11359\n",
        "starting"
       ]
      },
      {
       "output_type": "stream",
       "stream": "stdout",
       "text": [
        " 11360\n",
        "starting"
       ]
      },
      {
       "output_type": "stream",
       "stream": "stdout",
       "text": [
        " 11361\n",
        "starting"
       ]
      },
      {
       "output_type": "stream",
       "stream": "stdout",
       "text": [
        " 11362\n",
        "starting"
       ]
      },
      {
       "output_type": "stream",
       "stream": "stdout",
       "text": [
        " 11363\n",
        "starting"
       ]
      },
      {
       "output_type": "stream",
       "stream": "stdout",
       "text": [
        " 11364\n",
        "starting"
       ]
      },
      {
       "output_type": "stream",
       "stream": "stdout",
       "text": [
        " 11365\n",
        "starting"
       ]
      },
      {
       "output_type": "stream",
       "stream": "stdout",
       "text": [
        " 11366\n",
        "starting"
       ]
      },
      {
       "output_type": "stream",
       "stream": "stdout",
       "text": [
        " 11367\n",
        "starting"
       ]
      },
      {
       "output_type": "stream",
       "stream": "stdout",
       "text": [
        " 11368\n",
        "starting"
       ]
      },
      {
       "output_type": "stream",
       "stream": "stdout",
       "text": [
        " 11369\n",
        "starting"
       ]
      },
      {
       "output_type": "stream",
       "stream": "stdout",
       "text": [
        " 11370\n",
        "starting"
       ]
      },
      {
       "output_type": "stream",
       "stream": "stdout",
       "text": [
        " 11371\n",
        "starting"
       ]
      },
      {
       "output_type": "stream",
       "stream": "stdout",
       "text": [
        " 11372\n",
        "starting"
       ]
      },
      {
       "output_type": "stream",
       "stream": "stdout",
       "text": [
        " 11373\n",
        "starting"
       ]
      },
      {
       "output_type": "stream",
       "stream": "stdout",
       "text": [
        " 11374\n",
        "starting"
       ]
      },
      {
       "output_type": "stream",
       "stream": "stdout",
       "text": [
        " 11375\n",
        "starting"
       ]
      },
      {
       "output_type": "stream",
       "stream": "stdout",
       "text": [
        " 11377\n",
        "starting"
       ]
      },
      {
       "output_type": "stream",
       "stream": "stdout",
       "text": [
        " 11378\n",
        "starting"
       ]
      },
      {
       "output_type": "stream",
       "stream": "stdout",
       "text": [
        " 11379\n",
        "starting"
       ]
      },
      {
       "output_type": "stream",
       "stream": "stdout",
       "text": [
        " 11385\n",
        "starting"
       ]
      },
      {
       "output_type": "stream",
       "stream": "stdout",
       "text": [
        " 11411\n",
        "starting"
       ]
      },
      {
       "output_type": "stream",
       "stream": "stdout",
       "text": [
        " 11412\n",
        "starting"
       ]
      },
      {
       "output_type": "stream",
       "stream": "stdout",
       "text": [
        " 11413\n",
        "starting"
       ]
      },
      {
       "output_type": "stream",
       "stream": "stdout",
       "text": [
        " 11414\n",
        "starting"
       ]
      },
      {
       "output_type": "stream",
       "stream": "stdout",
       "text": [
        " 11415\n",
        "starting"
       ]
      },
      {
       "output_type": "stream",
       "stream": "stdout",
       "text": [
        " 11416\n",
        "starting"
       ]
      },
      {
       "output_type": "stream",
       "stream": "stdout",
       "text": [
        " 11417\n",
        "starting"
       ]
      },
      {
       "output_type": "stream",
       "stream": "stdout",
       "text": [
        " 11418\n",
        "starting"
       ]
      },
      {
       "output_type": "stream",
       "stream": "stdout",
       "text": [
        " 11419\n",
        "starting"
       ]
      },
      {
       "output_type": "stream",
       "stream": "stdout",
       "text": [
        " 11420\n",
        "starting"
       ]
      },
      {
       "output_type": "stream",
       "stream": "stdout",
       "text": [
        " 11421\n",
        "starting"
       ]
      },
      {
       "output_type": "stream",
       "stream": "stdout",
       "text": [
        " 11422\n",
        "starting"
       ]
      },
      {
       "output_type": "stream",
       "stream": "stdout",
       "text": [
        " 11423\n",
        "starting"
       ]
      },
      {
       "output_type": "stream",
       "stream": "stdout",
       "text": [
        " 11424\n",
        "starting"
       ]
      },
      {
       "output_type": "stream",
       "stream": "stdout",
       "text": [
        " 11425\n",
        "starting"
       ]
      },
      {
       "output_type": "stream",
       "stream": "stdout",
       "text": [
        " 11426\n",
        "starting"
       ]
      },
      {
       "output_type": "stream",
       "stream": "stdout",
       "text": [
        " 11427\n",
        "starting"
       ]
      },
      {
       "output_type": "stream",
       "stream": "stdout",
       "text": [
        " 11428\n",
        "starting"
       ]
      },
      {
       "output_type": "stream",
       "stream": "stdout",
       "text": [
        " 11429\n",
        "starting"
       ]
      },
      {
       "output_type": "stream",
       "stream": "stdout",
       "text": [
        " 11430\n",
        "starting"
       ]
      },
      {
       "output_type": "stream",
       "stream": "stdout",
       "text": [
        " 11432\n",
        "starting"
       ]
      },
      {
       "output_type": "stream",
       "stream": "stdout",
       "text": [
        " 11433\n",
        "starting"
       ]
      },
      {
       "output_type": "stream",
       "stream": "stdout",
       "text": [
        " 11434\n",
        "starting"
       ]
      },
      {
       "output_type": "stream",
       "stream": "stdout",
       "text": [
        " 11435\n",
        "starting"
       ]
      },
      {
       "output_type": "stream",
       "stream": "stdout",
       "text": [
        " 11436\n",
        "starting"
       ]
      },
      {
       "output_type": "stream",
       "stream": "stdout",
       "text": [
        " 11451\n",
        "starting"
       ]
      },
      {
       "output_type": "stream",
       "stream": "stdout",
       "text": [
        " 11691\n",
        "starting"
       ]
      },
      {
       "output_type": "stream",
       "stream": "stdout",
       "text": [
        " 11692\n",
        "starting"
       ]
      },
      {
       "output_type": "stream",
       "stream": "stdout",
       "text": [
        " 11693\n",
        "starting"
       ]
      },
      {
       "output_type": "stream",
       "stream": "stdout",
       "text": [
        " 11694\n",
        "starting"
       ]
      },
      {
       "output_type": "stream",
       "stream": "stdout",
       "text": [
        " 11697\n"
       ]
      }
     ],
     "prompt_number": 7
    },
    {
     "cell_type": "code",
     "collapsed": false,
     "input": [
      "cols = [\"Zip Code 1\", \"Zip Code 2\",'bars','restaurants','laundry','pizza','hospitals','coffee','boutique','clothing','education','arts']\n",
      "simple_distances = pd.DataFrame(simple_distances, columns=cols)\n",
      "simple_distances.tail()"
     ],
     "language": "python",
     "metadata": {},
     "outputs": [
      {
       "html": [
        "<div style=\"max-height:1000px;max-width:1500px;overflow:auto;\">\n",
        "<table border=\"1\" class=\"dataframe\">\n",
        "  <thead>\n",
        "    <tr style=\"text-align: right;\">\n",
        "      <th></th>\n",
        "      <th>Zip Code 1</th>\n",
        "      <th>Zip Code 2</th>\n",
        "      <th>bars</th>\n",
        "      <th>restaurants</th>\n",
        "      <th>laundry</th>\n",
        "      <th>pizza</th>\n",
        "      <th>hospitals</th>\n",
        "      <th>coffee</th>\n",
        "      <th>boutique</th>\n",
        "      <th>clothing</th>\n",
        "      <th>education</th>\n",
        "      <th>arts</th>\n",
        "    </tr>\n",
        "  </thead>\n",
        "  <tbody>\n",
        "    <tr>\n",
        "      <th>44305</th>\n",
        "      <td> 11697</td>\n",
        "      <td> 11451</td>\n",
        "      <td> 1.3288</td>\n",
        "      <td> 2.3938</td>\n",
        "      <td> 2.5344</td>\n",
        "      <td> 2.2134</td>\n",
        "      <td> 0.4830</td>\n",
        "      <td> 1.6588</td>\n",
        "      <td> 0.7104</td>\n",
        "      <td> 2.2368</td>\n",
        "      <td> 2.6888</td>\n",
        "      <td> 2.8390</td>\n",
        "    </tr>\n",
        "    <tr>\n",
        "      <th>44306</th>\n",
        "      <td> 11697</td>\n",
        "      <td> 11691</td>\n",
        "      <td> 2.6414</td>\n",
        "      <td> 1.3172</td>\n",
        "      <td> 2.2798</td>\n",
        "      <td> 0.5756</td>\n",
        "      <td> 0.0884</td>\n",
        "      <td> 0.5478</td>\n",
        "      <td> 0.3048</td>\n",
        "      <td> 1.7396</td>\n",
        "      <td> 2.8336</td>\n",
        "      <td> 2.9304</td>\n",
        "    </tr>\n",
        "    <tr>\n",
        "      <th>44307</th>\n",
        "      <td> 11697</td>\n",
        "      <td> 11692</td>\n",
        "      <td> 0.3048</td>\n",
        "      <td> 2.2730</td>\n",
        "      <td> 2.5250</td>\n",
        "      <td> 0.8616</td>\n",
        "      <td> 0.4860</td>\n",
        "      <td> 0.6840</td>\n",
        "      <td> 1.0584</td>\n",
        "      <td> 2.4926</td>\n",
        "      <td> 2.8844</td>\n",
        "      <td> 2.9744</td>\n",
        "    </tr>\n",
        "    <tr>\n",
        "      <th>44308</th>\n",
        "      <td> 11697</td>\n",
        "      <td> 11693</td>\n",
        "      <td> 0.0716</td>\n",
        "      <td> 1.0832</td>\n",
        "      <td> 0.5668</td>\n",
        "      <td> 0.3170</td>\n",
        "      <td> 0.1748</td>\n",
        "      <td> 0.6632</td>\n",
        "      <td> 0.4150</td>\n",
        "      <td> 0.3036</td>\n",
        "      <td> 0.7590</td>\n",
        "      <td> 1.6550</td>\n",
        "    </tr>\n",
        "    <tr>\n",
        "      <th>44309</th>\n",
        "      <td> 11697</td>\n",
        "      <td> 11694</td>\n",
        "      <td> 0.0640</td>\n",
        "      <td> 0.9156</td>\n",
        "      <td> 2.8500</td>\n",
        "      <td> 0.2220</td>\n",
        "      <td> 0.7522</td>\n",
        "      <td> 0.0420</td>\n",
        "      <td> 0.4522</td>\n",
        "      <td> 1.1064</td>\n",
        "      <td> 2.9586</td>\n",
        "      <td> 2.9032</td>\n",
        "    </tr>\n",
        "  </tbody>\n",
        "</table>\n",
        "</div>"
       ],
       "metadata": {},
       "output_type": "pyout",
       "prompt_number": 8,
       "text": [
        "       Zip Code 1  Zip Code 2    bars  restaurants  laundry   pizza  \\\n",
        "44305       11697       11451  1.3288       2.3938   2.5344  2.2134   \n",
        "44306       11697       11691  2.6414       1.3172   2.2798  0.5756   \n",
        "44307       11697       11692  0.3048       2.2730   2.5250  0.8616   \n",
        "44308       11697       11693  0.0716       1.0832   0.5668  0.3170   \n",
        "44309       11697       11694  0.0640       0.9156   2.8500  0.2220   \n",
        "\n",
        "       hospitals  coffee  boutique  clothing  education    arts  \n",
        "44305     0.4830  1.6588    0.7104    2.2368     2.6888  2.8390  \n",
        "44306     0.0884  0.5478    0.3048    1.7396     2.8336  2.9304  \n",
        "44307     0.4860  0.6840    1.0584    2.4926     2.8844  2.9744  \n",
        "44308     0.1748  0.6632    0.4150    0.3036     0.7590  1.6550  \n",
        "44309     0.7522  0.0420    0.4522    1.1064     2.9586  2.9032  "
       ]
      }
     ],
     "prompt_number": 8
    },
    {
     "cell_type": "code",
     "collapsed": false,
     "input": [
      "def calc_distance(dists, z1, z2, weights):\n",
      "    mask = (dists['Zip Code 1']==z1) & (dists['Zip Code 2']==z2)\n",
      "    row = dists[mask]\n",
      "    row = row[['bars','restaurants','laundry','pizza','hospitals','coffee','boutique','clothing','education','arts']]\n",
      "    dist = weights * row\n",
      "    return dist.sum(axis=1).tolist()[0]\n"
     ],
     "language": "python",
     "metadata": {},
     "outputs": [],
     "prompt_number": 9
    },
    {
     "cell_type": "code",
     "collapsed": false,
     "input": [
      "#Adjust the weights to give priorities to one feature over another. Set preferences based in this manner.\n",
      "#The output shows the neighborhood most similar to the ones we want based on its similarity to these features.\n"
     ],
     "language": "python",
     "metadata": {},
     "outputs": [],
     "prompt_number": 10
    },
    {
     "cell_type": "code",
     "collapsed": false,
     "input": [
      "def minimum_sim_calc(neighborhood,weights,k):\n",
      "    m1 = 1000\n",
      "    l = []\n",
      "    for j in df['Zip Code']:\n",
      "        if j!=neighborhood:\n",
      "            l.append((calc_distance(simple_distances, neighborhood, j, weights),j))\n",
      "            #if calc_distance(simple_distances, neighborhood, j, weights)<m1:\n",
      "            #m1 = min(calc_distance(simple_distances, neighborhood, j, weights),m1)\n",
      "            #m = (m1,j)\n",
      "    l =sorted(l,key=lambda x: x[0])\n",
      "    print \"The\",k,\"most similar neighborhoods to\",neighborhood,\"are:\"\n",
      "    for i in xrange(k):\n",
      "        print l[i][1],\".The similarity score is =\",l[i][0]\n",
      "    #print \"Neighborhood:\",neighborhood,\"is most similar to Neighborhood:\",m[1],\".The similarity score is =\",m[0]\n",
      "  "
     ],
     "language": "python",
     "metadata": {},
     "outputs": [],
     "prompt_number": 11
    },
    {
     "cell_type": "code",
     "collapsed": false,
     "input": [
      "weights = [10,10,1,1,1,1,1,1,1,1]\n",
      "n = 10453\n",
      "k = 3\n",
      "minimum_sim_calc(n,weights,k)"
     ],
     "language": "python",
     "metadata": {},
     "outputs": [
      {
       "output_type": "stream",
       "stream": "stdout",
       "text": [
        "The 3 most similar neighborhoods to 10453 are:\n",
        "10310 .The similarity score is = 3.0982\n",
        "10457 .The similarity score is = 3.4572\n",
        "11208 .The similarity score is = 3.653\n"
       ]
      }
     ],
     "prompt_number": 21
    },
    {
     "cell_type": "code",
     "collapsed": false,
     "input": [
      "#Matrix Factorization Method"
     ],
     "language": "python",
     "metadata": {},
     "outputs": [],
     "prompt_number": 13
    },
    {
     "cell_type": "code",
     "collapsed": false,
     "input": [
      "import numpy\n",
      "\n",
      "def matrix_factorization(R, P, Q, K, steps=5000, alpha=0.0002, beta=0.02):\n",
      "    Q = Q.T\n",
      "    for step in xrange(steps):\n",
      "        for i in xrange(len(R)):\n",
      "            for j in xrange(len(R[i])):\n",
      "                if R[i][j] > 0:\n",
      "                    eij = R[i][j] - numpy.dot(P[i,:],Q[:,j])\n",
      "                    for k in xrange(K):\n",
      "                        P[i][k] = P[i][k] + alpha * (2 * eij * Q[k][j] - beta * P[i][k])\n",
      "                        Q[k][j] = Q[k][j] + alpha * (2 * eij * P[i][k] - beta * Q[k][j])\n",
      "        eR = numpy.dot(P,Q)\n",
      "        e = 0\n",
      "        for i in xrange(len(R)):\n",
      "            for j in xrange(len(R[i])):\n",
      "                if R[i][j] > 0:\n",
      "                    e = e + pow(R[i][j] - numpy.dot(P[i,:],Q[:,j]), 2)\n",
      "                    for k in xrange(K):\n",
      "                        e = e + (beta/2) * (pow(P[i][k],2) + pow(Q[k][j],2))\n",
      "        if e < 0.001:\n",
      "            break\n",
      "    return P, Q.T"
     ],
     "language": "python",
     "metadata": {},
     "outputs": [],
     "prompt_number": 14
    },
    {
     "cell_type": "code",
     "collapsed": false,
     "input": [
      "cols = ['bars','restaurants','laundry','pizza','hospitals','coffee','boutique','clothing','education','arts']\n",
      "\n",
      "R = numpy.array(df[cols])\n",
      "\n",
      "N = len(R)\n",
      "M = len(R[0])\n",
      "K = 2\n",
      "\n",
      "P = numpy.random.rand(N,K)\n",
      "Q = numpy.random.rand(M,K)\n",
      "\n",
      "nP, nQ = matrix_factorization(R, P, Q, K)\n",
      "nR = numpy.dot(nP, nQ.T)"
     ],
     "language": "python",
     "metadata": {},
     "outputs": [],
     "prompt_number": 15
    },
    {
     "cell_type": "code",
     "collapsed": false,
     "input": [
      "df1 = pd.DataFrame(data = nR, index = df['Zip Code'], columns = cols)\n",
      "df1.head(40)"
     ],
     "language": "python",
     "metadata": {},
     "outputs": [
      {
       "html": [
        "<div style=\"max-height:1000px;max-width:1500px;overflow:auto;\">\n",
        "<table border=\"1\" class=\"dataframe\">\n",
        "  <thead>\n",
        "    <tr style=\"text-align: right;\">\n",
        "      <th></th>\n",
        "      <th>bars</th>\n",
        "      <th>restaurants</th>\n",
        "      <th>laundry</th>\n",
        "      <th>pizza</th>\n",
        "      <th>hospitals</th>\n",
        "      <th>coffee</th>\n",
        "      <th>boutique</th>\n",
        "      <th>clothing</th>\n",
        "      <th>education</th>\n",
        "      <th>arts</th>\n",
        "    </tr>\n",
        "    <tr>\n",
        "      <th>Zip Code</th>\n",
        "      <th></th>\n",
        "      <th></th>\n",
        "      <th></th>\n",
        "      <th></th>\n",
        "      <th></th>\n",
        "      <th></th>\n",
        "      <th></th>\n",
        "      <th></th>\n",
        "      <th></th>\n",
        "      <th></th>\n",
        "    </tr>\n",
        "  </thead>\n",
        "  <tbody>\n",
        "    <tr>\n",
        "      <th>10001</th>\n",
        "      <td> 2.795245</td>\n",
        "      <td> 3.398471</td>\n",
        "      <td> 2.195887</td>\n",
        "      <td> 2.480664</td>\n",
        "      <td> 1.874241</td>\n",
        "      <td> 2.724196</td>\n",
        "      <td> 1.863282</td>\n",
        "      <td> 2.336650</td>\n",
        "      <td> 2.629464</td>\n",
        "      <td> 2.898335</td>\n",
        "    </tr>\n",
        "    <tr>\n",
        "      <th>10002</th>\n",
        "      <td> 2.966581</td>\n",
        "      <td> 3.610633</td>\n",
        "      <td> 2.198428</td>\n",
        "      <td> 2.631511</td>\n",
        "      <td> 1.893103</td>\n",
        "      <td> 2.886895</td>\n",
        "      <td> 1.870357</td>\n",
        "      <td> 2.356623</td>\n",
        "      <td> 2.607062</td>\n",
        "      <td> 2.930419</td>\n",
        "    </tr>\n",
        "    <tr>\n",
        "      <th>10003</th>\n",
        "      <td> 3.380362</td>\n",
        "      <td> 4.115610</td>\n",
        "      <td> 2.458356</td>\n",
        "      <td> 2.998131</td>\n",
        "      <td> 2.123191</td>\n",
        "      <td> 3.288047</td>\n",
        "      <td> 2.093340</td>\n",
        "      <td> 2.641729</td>\n",
        "      <td> 2.905763</td>\n",
        "      <td> 3.287666</td>\n",
        "    </tr>\n",
        "    <tr>\n",
        "      <th>10004</th>\n",
        "      <td> 2.731607</td>\n",
        "      <td> 3.318806</td>\n",
        "      <td> 2.224546</td>\n",
        "      <td> 2.424907</td>\n",
        "      <td> 1.888759</td>\n",
        "      <td> 2.664727</td>\n",
        "      <td> 1.884670</td>\n",
        "      <td> 2.356860</td>\n",
        "      <td> 2.678935</td>\n",
        "      <td> 2.919050</td>\n",
        "    </tr>\n",
        "    <tr>\n",
        "      <th>10005</th>\n",
        "      <td> 2.741766</td>\n",
        "      <td> 3.339695</td>\n",
        "      <td> 1.939767</td>\n",
        "      <td> 2.431248</td>\n",
        "      <td> 1.682703</td>\n",
        "      <td> 2.665133</td>\n",
        "      <td> 1.653932</td>\n",
        "      <td> 2.092111</td>\n",
        "      <td> 2.281520</td>\n",
        "      <td> 2.606866</td>\n",
        "    </tr>\n",
        "    <tr>\n",
        "      <th>10006</th>\n",
        "      <td> 2.784015</td>\n",
        "      <td> 3.380603</td>\n",
        "      <td> 2.331573</td>\n",
        "      <td> 2.472018</td>\n",
        "      <td> 1.971783</td>\n",
        "      <td> 2.717938</td>\n",
        "      <td> 1.973033</td>\n",
        "      <td> 2.462136</td>\n",
        "      <td> 2.819784</td>\n",
        "      <td> 3.045986</td>\n",
        "    </tr>\n",
        "    <tr>\n",
        "      <th>10007</th>\n",
        "      <td> 2.859005</td>\n",
        "      <td> 3.471101</td>\n",
        "      <td> 2.413621</td>\n",
        "      <td> 2.538779</td>\n",
        "      <td> 2.038888</td>\n",
        "      <td> 2.791772</td>\n",
        "      <td> 2.041792</td>\n",
        "      <td> 2.546418</td>\n",
        "      <td> 2.922490</td>\n",
        "      <td> 3.149247</td>\n",
        "    </tr>\n",
        "    <tr>\n",
        "      <th>10009</th>\n",
        "      <td> 3.329275</td>\n",
        "      <td> 4.055126</td>\n",
        "      <td> 2.362377</td>\n",
        "      <td> 2.952282</td>\n",
        "      <td> 2.048331</td>\n",
        "      <td> 3.236446</td>\n",
        "      <td> 2.013980</td>\n",
        "      <td> 2.546901</td>\n",
        "      <td> 2.780075</td>\n",
        "      <td> 3.173134</td>\n",
        "    </tr>\n",
        "    <tr>\n",
        "      <th>10010</th>\n",
        "      <td> 2.979825</td>\n",
        "      <td> 3.623682</td>\n",
        "      <td> 2.313519</td>\n",
        "      <td> 2.644221</td>\n",
        "      <td> 1.978102</td>\n",
        "      <td> 2.903197</td>\n",
        "      <td> 1.964116</td>\n",
        "      <td> 2.465401</td>\n",
        "      <td> 2.765049</td>\n",
        "      <td> 3.059551</td>\n",
        "    </tr>\n",
        "    <tr>\n",
        "      <th>10011</th>\n",
        "      <td> 3.125376</td>\n",
        "      <td> 3.814006</td>\n",
        "      <td> 1.969659</td>\n",
        "      <td> 2.769207</td>\n",
        "      <td> 1.742534</td>\n",
        "      <td> 3.030189</td>\n",
        "      <td> 1.689407</td>\n",
        "      <td> 2.159418</td>\n",
        "      <td> 2.265010</td>\n",
        "      <td> 2.705380</td>\n",
        "    </tr>\n",
        "    <tr>\n",
        "      <th>10012</th>\n",
        "      <td> 3.372435</td>\n",
        "      <td> 4.107129</td>\n",
        "      <td> 2.412443</td>\n",
        "      <td> 2.990733</td>\n",
        "      <td> 2.089020</td>\n",
        "      <td> 3.279034</td>\n",
        "      <td> 2.055860</td>\n",
        "      <td> 2.598063</td>\n",
        "      <td> 2.843139</td>\n",
        "      <td> 3.235700</td>\n",
        "    </tr>\n",
        "    <tr>\n",
        "      <th>10013</th>\n",
        "      <td> 2.953804</td>\n",
        "      <td> 3.588726</td>\n",
        "      <td> 2.406925</td>\n",
        "      <td> 2.622169</td>\n",
        "      <td> 2.043434</td>\n",
        "      <td> 2.881530</td>\n",
        "      <td> 2.039134</td>\n",
        "      <td> 2.549907</td>\n",
        "      <td> 2.898833</td>\n",
        "      <td> 3.158069</td>\n",
        "    </tr>\n",
        "    <tr>\n",
        "      <th>10014</th>\n",
        "      <td> 3.173340</td>\n",
        "      <td> 3.870481</td>\n",
        "      <td> 2.070431</td>\n",
        "      <td> 2.812349</td>\n",
        "      <td> 1.820569</td>\n",
        "      <td> 3.078980</td>\n",
        "      <td> 1.772566</td>\n",
        "      <td> 2.258399</td>\n",
        "      <td> 2.397835</td>\n",
        "      <td> 2.824662</td>\n",
        "    </tr>\n",
        "    <tr>\n",
        "      <th>10016</th>\n",
        "      <td> 3.082540</td>\n",
        "      <td> 3.748840</td>\n",
        "      <td> 2.384716</td>\n",
        "      <td> 2.735290</td>\n",
        "      <td> 2.040070</td>\n",
        "      <td> 3.002993</td>\n",
        "      <td> 2.024883</td>\n",
        "      <td> 2.542403</td>\n",
        "      <td> 2.848474</td>\n",
        "      <td> 3.155589</td>\n",
        "    </tr>\n",
        "    <tr>\n",
        "      <th>10017</th>\n",
        "      <td> 2.811579</td>\n",
        "      <td> 3.416817</td>\n",
        "      <td> 2.260575</td>\n",
        "      <td> 2.495634</td>\n",
        "      <td> 1.922898</td>\n",
        "      <td> 2.741797</td>\n",
        "      <td> 1.916240</td>\n",
        "      <td> 2.398703</td>\n",
        "      <td> 2.716916</td>\n",
        "      <td> 2.972434</td>\n",
        "    </tr>\n",
        "    <tr>\n",
        "      <th>10018</th>\n",
        "      <td> 3.042559</td>\n",
        "      <td> 3.700340</td>\n",
        "      <td> 2.349568</td>\n",
        "      <td> 2.699774</td>\n",
        "      <td> 2.010544</td>\n",
        "      <td> 2.963907</td>\n",
        "      <td> 1.995198</td>\n",
        "      <td> 2.505492</td>\n",
        "      <td> 2.805666</td>\n",
        "      <td> 3.110011</td>\n",
        "    </tr>\n",
        "    <tr>\n",
        "      <th>10019</th>\n",
        "      <td> 3.026706</td>\n",
        "      <td> 3.687504</td>\n",
        "      <td> 2.116356</td>\n",
        "      <td> 2.683689</td>\n",
        "      <td> 1.839399</td>\n",
        "      <td> 2.941298</td>\n",
        "      <td> 1.805533</td>\n",
        "      <td> 2.286198</td>\n",
        "      <td> 2.483871</td>\n",
        "      <td> 2.850225</td>\n",
        "    </tr>\n",
        "    <tr>\n",
        "      <th>10020</th>\n",
        "      <td> 3.314326</td>\n",
        "      <td> 4.035924</td>\n",
        "      <td> 2.385843</td>\n",
        "      <td> 2.939338</td>\n",
        "      <td> 2.063908</td>\n",
        "      <td> 3.223020</td>\n",
        "      <td> 2.032580</td>\n",
        "      <td> 2.567267</td>\n",
        "      <td> 2.814957</td>\n",
        "      <td> 3.196446</td>\n",
        "    </tr>\n",
        "    <tr>\n",
        "      <th>10021</th>\n",
        "      <td> 2.833573</td>\n",
        "      <td> 3.443220</td>\n",
        "      <td> 2.289444</td>\n",
        "      <td> 2.515258</td>\n",
        "      <td> 1.946073</td>\n",
        "      <td> 2.763608</td>\n",
        "      <td> 1.940305</td>\n",
        "      <td> 2.427907</td>\n",
        "      <td> 2.753718</td>\n",
        "      <td> 3.008016</td>\n",
        "    </tr>\n",
        "    <tr>\n",
        "      <th>10022</th>\n",
        "      <td> 2.855387</td>\n",
        "      <td> 3.469973</td>\n",
        "      <td> 2.298640</td>\n",
        "      <td> 2.534545</td>\n",
        "      <td> 1.954926</td>\n",
        "      <td> 2.784609</td>\n",
        "      <td> 1.948404</td>\n",
        "      <td> 2.438731</td>\n",
        "      <td> 2.763200</td>\n",
        "      <td> 3.021882</td>\n",
        "    </tr>\n",
        "    <tr>\n",
        "      <th>10023</th>\n",
        "      <td> 2.909587</td>\n",
        "      <td> 3.537992</td>\n",
        "      <td> 2.268424</td>\n",
        "      <td> 2.581980</td>\n",
        "      <td> 1.938338</td>\n",
        "      <td> 2.835071</td>\n",
        "      <td> 1.925477</td>\n",
        "      <td> 2.416098</td>\n",
        "      <td> 2.712993</td>\n",
        "      <td> 2.997838</td>\n",
        "    </tr>\n",
        "    <tr>\n",
        "      <th>10024</th>\n",
        "      <td> 3.014557</td>\n",
        "      <td> 3.664901</td>\n",
        "      <td> 2.375372</td>\n",
        "      <td> 2.675360</td>\n",
        "      <td> 2.026525</td>\n",
        "      <td> 2.938167</td>\n",
        "      <td> 2.015313</td>\n",
        "      <td> 2.526699</td>\n",
        "      <td> 2.845776</td>\n",
        "      <td> 3.133670</td>\n",
        "    </tr>\n",
        "    <tr>\n",
        "      <th>10025</th>\n",
        "      <td> 2.639190</td>\n",
        "      <td> 3.214317</td>\n",
        "      <td> 1.881996</td>\n",
        "      <td> 2.340424</td>\n",
        "      <td> 1.630510</td>\n",
        "      <td> 2.565904</td>\n",
        "      <td> 1.604061</td>\n",
        "      <td> 2.027653</td>\n",
        "      <td> 2.216737</td>\n",
        "      <td> 2.525651</td>\n",
        "    </tr>\n",
        "    <tr>\n",
        "      <th>10026</th>\n",
        "      <td> 2.609156</td>\n",
        "      <td> 3.182229</td>\n",
        "      <td> 1.706614</td>\n",
        "      <td> 2.312385</td>\n",
        "      <td> 1.500006</td>\n",
        "      <td> 2.531712</td>\n",
        "      <td> 1.460898</td>\n",
        "      <td> 1.860878</td>\n",
        "      <td> 1.977480</td>\n",
        "      <td> 2.327189</td>\n",
        "    </tr>\n",
        "    <tr>\n",
        "      <th>10027</th>\n",
        "      <td> 2.659943</td>\n",
        "      <td> 3.258910</td>\n",
        "      <td> 1.234446</td>\n",
        "      <td> 2.352779</td>\n",
        "      <td> 1.161732</td>\n",
        "      <td> 2.564602</td>\n",
        "      <td> 1.079321</td>\n",
        "      <td> 1.425405</td>\n",
        "      <td> 1.313420</td>\n",
        "      <td> 1.815383</td>\n",
        "    </tr>\n",
        "    <tr>\n",
        "      <th>10028</th>\n",
        "      <td> 2.948091</td>\n",
        "      <td> 3.585026</td>\n",
        "      <td> 2.291109</td>\n",
        "      <td> 2.616081</td>\n",
        "      <td> 1.958656</td>\n",
        "      <td> 2.872351</td>\n",
        "      <td> 1.945007</td>\n",
        "      <td> 2.441225</td>\n",
        "      <td> 2.738699</td>\n",
        "      <td> 3.029424</td>\n",
        "    </tr>\n",
        "    <tr>\n",
        "      <th>10029</th>\n",
        "      <td> 2.608780</td>\n",
        "      <td> 3.190758</td>\n",
        "      <td> 1.398211</td>\n",
        "      <td> 2.309237</td>\n",
        "      <td> 1.275726</td>\n",
        "      <td> 2.521354</td>\n",
        "      <td> 1.210684</td>\n",
        "      <td> 1.572996</td>\n",
        "      <td> 1.548817</td>\n",
        "      <td> 1.987162</td>\n",
        "    </tr>\n",
        "    <tr>\n",
        "      <th>10030</th>\n",
        "      <td> 2.366820</td>\n",
        "      <td> 2.893249</td>\n",
        "      <td> 1.322374</td>\n",
        "      <td> 2.095551</td>\n",
        "      <td> 1.196556</td>\n",
        "      <td> 2.289248</td>\n",
        "      <td> 1.142078</td>\n",
        "      <td> 1.477359</td>\n",
        "      <td> 1.480019</td>\n",
        "      <td> 1.862211</td>\n",
        "    </tr>\n",
        "    <tr>\n",
        "      <th>10031</th>\n",
        "      <td> 2.374141</td>\n",
        "      <td> 2.919778</td>\n",
        "      <td> 0.723712</td>\n",
        "      <td> 2.096528</td>\n",
        "      <td> 0.761991</td>\n",
        "      <td> 2.276783</td>\n",
        "      <td> 0.656608</td>\n",
        "      <td> 0.919359</td>\n",
        "      <td> 0.646695</td>\n",
        "      <td> 1.203538</td>\n",
        "    </tr>\n",
        "    <tr>\n",
        "      <th>10032</th>\n",
        "      <td> 2.380675</td>\n",
        "      <td> 2.919945</td>\n",
        "      <td> 0.995521</td>\n",
        "      <td> 2.104762</td>\n",
        "      <td> 0.960274</td>\n",
        "      <td> 2.291799</td>\n",
        "      <td> 0.877313</td>\n",
        "      <td> 1.173719</td>\n",
        "      <td> 1.023555</td>\n",
        "      <td> 1.504279</td>\n",
        "    </tr>\n",
        "    <tr>\n",
        "      <th>10033</th>\n",
        "      <td> 0.793379</td>\n",
        "      <td> 0.975445</td>\n",
        "      <td> 0.251178</td>\n",
        "      <td> 0.700693</td>\n",
        "      <td> 0.261424</td>\n",
        "      <td> 0.761147</td>\n",
        "      <td> 0.226993</td>\n",
        "      <td> 0.315937</td>\n",
        "      <td> 0.229082</td>\n",
        "      <td> 0.412479</td>\n",
        "    </tr>\n",
        "    <tr>\n",
        "      <th>10034</th>\n",
        "      <td> 2.277199</td>\n",
        "      <td> 2.769168</td>\n",
        "      <td> 1.770436</td>\n",
        "      <td> 2.020751</td>\n",
        "      <td> 1.513445</td>\n",
        "      <td> 2.218719</td>\n",
        "      <td> 1.502962</td>\n",
        "      <td> 1.886343</td>\n",
        "      <td> 2.116446</td>\n",
        "      <td> 2.340807</td>\n",
        "    </tr>\n",
        "    <tr>\n",
        "      <th>10035</th>\n",
        "      <td> 0.260844</td>\n",
        "      <td> 0.311755</td>\n",
        "      <td> 0.389369</td>\n",
        "      <td> 0.233172</td>\n",
        "      <td> 0.309017</td>\n",
        "      <td> 0.260195</td>\n",
        "      <td> 0.323521</td>\n",
        "      <td> 0.390207</td>\n",
        "      <td> 0.501789</td>\n",
        "      <td> 0.473795</td>\n",
        "    </tr>\n",
        "    <tr>\n",
        "      <th>10036</th>\n",
        "      <td> 3.136590</td>\n",
        "      <td> 3.816661</td>\n",
        "      <td> 2.354964</td>\n",
        "      <td> 2.782598</td>\n",
        "      <td> 2.023805</td>\n",
        "      <td> 3.053328</td>\n",
        "      <td> 2.002327</td>\n",
        "      <td> 2.520188</td>\n",
        "      <td> 2.798934</td>\n",
        "      <td> 3.132030</td>\n",
        "    </tr>\n",
        "    <tr>\n",
        "      <th>10037</th>\n",
        "      <td> 2.131137</td>\n",
        "      <td> 2.613511</td>\n",
        "      <td> 0.903880</td>\n",
        "      <td> 1.884261</td>\n",
        "      <td> 0.868860</td>\n",
        "      <td> 2.051989</td>\n",
        "      <td> 0.795665</td>\n",
        "      <td> 1.062553</td>\n",
        "      <td> 0.933933</td>\n",
        "      <td> 1.360611</td>\n",
        "    </tr>\n",
        "    <tr>\n",
        "      <th>10038</th>\n",
        "      <td> 2.707540</td>\n",
        "      <td> 3.285480</td>\n",
        "      <td> 2.345024</td>\n",
        "      <td> 2.404821</td>\n",
        "      <td> 1.973969</td>\n",
        "      <td> 2.645791</td>\n",
        "      <td> 1.981708</td>\n",
        "      <td> 2.466834</td>\n",
        "      <td> 2.850058</td>\n",
        "      <td> 3.047743</td>\n",
        "    </tr>\n",
        "    <tr>\n",
        "      <th>10039</th>\n",
        "      <td> 1.695313</td>\n",
        "      <td> 2.080910</td>\n",
        "      <td> 0.654891</td>\n",
        "      <td> 1.498338</td>\n",
        "      <td> 0.644537</td>\n",
        "      <td> 1.630270</td>\n",
        "      <td> 0.580911</td>\n",
        "      <td> 0.785391</td>\n",
        "      <td> 0.653775</td>\n",
        "      <td> 1.011655</td>\n",
        "    </tr>\n",
        "    <tr>\n",
        "      <th>10040</th>\n",
        "      <td> 2.133223</td>\n",
        "      <td> 2.625856</td>\n",
        "      <td> 0.569156</td>\n",
        "      <td> 1.883040</td>\n",
        "      <td> 0.625686</td>\n",
        "      <td> 2.043114</td>\n",
        "      <td> 0.524169</td>\n",
        "      <td> 0.750357</td>\n",
        "      <td> 0.468308</td>\n",
        "      <td> 0.991990</td>\n",
        "    </tr>\n",
        "    <tr>\n",
        "      <th>10044</th>\n",
        "      <td> 2.487046</td>\n",
        "      <td> 3.051901</td>\n",
        "      <td> 0.988892</td>\n",
        "      <td> 2.198338</td>\n",
        "      <td> 0.966018</td>\n",
        "      <td> 2.392541</td>\n",
        "      <td> 0.875048</td>\n",
        "      <td> 1.178460</td>\n",
        "      <td> 0.998240</td>\n",
        "      <td> 1.515151</td>\n",
        "    </tr>\n",
        "    <tr>\n",
        "      <th>10065</th>\n",
        "      <td> 2.823526</td>\n",
        "      <td> 3.431710</td>\n",
        "      <td> 2.257374</td>\n",
        "      <td> 2.506121</td>\n",
        "      <td> 1.921757</td>\n",
        "      <td> 2.753032</td>\n",
        "      <td> 1.913994</td>\n",
        "      <td> 2.396943</td>\n",
        "      <td> 2.710658</td>\n",
        "      <td> 2.970948</td>\n",
        "    </tr>\n",
        "  </tbody>\n",
        "</table>\n",
        "</div>"
       ],
       "metadata": {},
       "output_type": "pyout",
       "prompt_number": 16,
       "text": [
        "              bars  restaurants   laundry     pizza  hospitals    coffee  \\\n",
        "Zip Code                                                                   \n",
        "10001     2.795245     3.398471  2.195887  2.480664   1.874241  2.724196   \n",
        "10002     2.966581     3.610633  2.198428  2.631511   1.893103  2.886895   \n",
        "10003     3.380362     4.115610  2.458356  2.998131   2.123191  3.288047   \n",
        "10004     2.731607     3.318806  2.224546  2.424907   1.888759  2.664727   \n",
        "10005     2.741766     3.339695  1.939767  2.431248   1.682703  2.665133   \n",
        "10006     2.784015     3.380603  2.331573  2.472018   1.971783  2.717938   \n",
        "10007     2.859005     3.471101  2.413621  2.538779   2.038888  2.791772   \n",
        "10009     3.329275     4.055126  2.362377  2.952282   2.048331  3.236446   \n",
        "10010     2.979825     3.623682  2.313519  2.644221   1.978102  2.903197   \n",
        "10011     3.125376     3.814006  1.969659  2.769207   1.742534  3.030189   \n",
        "10012     3.372435     4.107129  2.412443  2.990733   2.089020  3.279034   \n",
        "10013     2.953804     3.588726  2.406925  2.622169   2.043434  2.881530   \n",
        "10014     3.173340     3.870481  2.070431  2.812349   1.820569  3.078980   \n",
        "10016     3.082540     3.748840  2.384716  2.735290   2.040070  3.002993   \n",
        "10017     2.811579     3.416817  2.260575  2.495634   1.922898  2.741797   \n",
        "10018     3.042559     3.700340  2.349568  2.699774   2.010544  2.963907   \n",
        "10019     3.026706     3.687504  2.116356  2.683689   1.839399  2.941298   \n",
        "10020     3.314326     4.035924  2.385843  2.939338   2.063908  3.223020   \n",
        "10021     2.833573     3.443220  2.289444  2.515258   1.946073  2.763608   \n",
        "10022     2.855387     3.469973  2.298640  2.534545   1.954926  2.784609   \n",
        "10023     2.909587     3.537992  2.268424  2.581980   1.938338  2.835071   \n",
        "10024     3.014557     3.664901  2.375372  2.675360   2.026525  2.938167   \n",
        "10025     2.639190     3.214317  1.881996  2.340424   1.630510  2.565904   \n",
        "10026     2.609156     3.182229  1.706614  2.312385   1.500006  2.531712   \n",
        "10027     2.659943     3.258910  1.234446  2.352779   1.161732  2.564602   \n",
        "10028     2.948091     3.585026  2.291109  2.616081   1.958656  2.872351   \n",
        "10029     2.608780     3.190758  1.398211  2.309237   1.275726  2.521354   \n",
        "10030     2.366820     2.893249  1.322374  2.095551   1.196556  2.289248   \n",
        "10031     2.374141     2.919778  0.723712  2.096528   0.761991  2.276783   \n",
        "10032     2.380675     2.919945  0.995521  2.104762   0.960274  2.291799   \n",
        "10033     0.793379     0.975445  0.251178  0.700693   0.261424  0.761147   \n",
        "10034     2.277199     2.769168  1.770436  2.020751   1.513445  2.218719   \n",
        "10035     0.260844     0.311755  0.389369  0.233172   0.309017  0.260195   \n",
        "10036     3.136590     3.816661  2.354964  2.782598   2.023805  3.053328   \n",
        "10037     2.131137     2.613511  0.903880  1.884261   0.868860  2.051989   \n",
        "10038     2.707540     3.285480  2.345024  2.404821   1.973969  2.645791   \n",
        "10039     1.695313     2.080910  0.654891  1.498338   0.644537  1.630270   \n",
        "10040     2.133223     2.625856  0.569156  1.883040   0.625686  2.043114   \n",
        "10044     2.487046     3.051901  0.988892  2.198338   0.966018  2.392541   \n",
        "10065     2.823526     3.431710  2.257374  2.506121   1.921757  2.753032   \n",
        "\n",
        "          boutique  clothing  education      arts  \n",
        "Zip Code                                           \n",
        "10001     1.863282  2.336650   2.629464  2.898335  \n",
        "10002     1.870357  2.356623   2.607062  2.930419  \n",
        "10003     2.093340  2.641729   2.905763  3.287666  \n",
        "10004     1.884670  2.356860   2.678935  2.919050  \n",
        "10005     1.653932  2.092111   2.281520  2.606866  \n",
        "10006     1.973033  2.462136   2.819784  3.045986  \n",
        "10007     2.041792  2.546418   2.922490  3.149247  \n",
        "10009     2.013980  2.546901   2.780075  3.173134  \n",
        "10010     1.964116  2.465401   2.765049  3.059551  \n",
        "10011     1.689407  2.159418   2.265010  2.705380  \n",
        "10012     2.055860  2.598063   2.843139  3.235700  \n",
        "10013     2.039134  2.549907   2.898833  3.158069  \n",
        "10014     1.772566  2.258399   2.397835  2.824662  \n",
        "10016     2.024883  2.542403   2.848474  3.155589  \n",
        "10017     1.916240  2.398703   2.716916  2.972434  \n",
        "10018     1.995198  2.505492   2.805666  3.110011  \n",
        "10019     1.805533  2.286198   2.483871  2.850225  \n",
        "10020     2.032580  2.567267   2.814957  3.196446  \n",
        "10021     1.940305  2.427907   2.753718  3.008016  \n",
        "10022     1.948404  2.438731   2.763200  3.021882  \n",
        "10023     1.925477  2.416098   2.712993  2.997838  \n",
        "10024     2.015313  2.526699   2.845776  3.133670  \n",
        "10025     1.604061  2.027653   2.216737  2.525651  \n",
        "10026     1.460898  1.860878   1.977480  2.327189  \n",
        "10027     1.079321  1.425405   1.313420  1.815383  \n",
        "10028     1.945007  2.441225   2.738699  3.029424  \n",
        "10029     1.210684  1.572996   1.548817  1.987162  \n",
        "10030     1.142078  1.477359   1.480019  1.862211  \n",
        "10031     0.656608  0.919359   0.646695  1.203538  \n",
        "10032     0.877313  1.173719   1.023555  1.504279  \n",
        "10033     0.226993  0.315937   0.229082  0.412479  \n",
        "10034     1.502962  1.886343   2.116446  2.340807  \n",
        "10035     0.323521  0.390207   0.501789  0.473795  \n",
        "10036     2.002327  2.520188   2.798934  3.132030  \n",
        "10037     0.795665  1.062553   0.933933  1.360611  \n",
        "10038     1.981708  2.466834   2.850058  3.047743  \n",
        "10039     0.580911  0.785391   0.653775  1.011655  \n",
        "10040     0.524169  0.750357   0.468308  0.991990  \n",
        "10044     0.875048  1.178460   0.998240  1.515151  \n",
        "10065     1.913994  2.396943   2.710658  2.970948  "
       ]
      }
     ],
     "prompt_number": 16
    },
    {
     "cell_type": "code",
     "collapsed": false,
     "input": [
      "df1.tail(10)"
     ],
     "language": "python",
     "metadata": {},
     "outputs": [
      {
       "html": [
        "<div style=\"max-height:1000px;max-width:1500px;overflow:auto;\">\n",
        "<table border=\"1\" class=\"dataframe\">\n",
        "  <thead>\n",
        "    <tr style=\"text-align: right;\">\n",
        "      <th></th>\n",
        "      <th>bars</th>\n",
        "      <th>restaurants</th>\n",
        "      <th>laundry</th>\n",
        "      <th>pizza</th>\n",
        "      <th>hospitals</th>\n",
        "      <th>coffee</th>\n",
        "      <th>boutique</th>\n",
        "      <th>clothing</th>\n",
        "      <th>education</th>\n",
        "      <th>arts</th>\n",
        "    </tr>\n",
        "    <tr>\n",
        "      <th>Zip Code</th>\n",
        "      <th></th>\n",
        "      <th></th>\n",
        "      <th></th>\n",
        "      <th></th>\n",
        "      <th></th>\n",
        "      <th></th>\n",
        "      <th></th>\n",
        "      <th></th>\n",
        "      <th></th>\n",
        "      <th></th>\n",
        "    </tr>\n",
        "  </thead>\n",
        "  <tbody>\n",
        "    <tr>\n",
        "      <th>11433</th>\n",
        "      <td> 0.736810</td>\n",
        "      <td> 0.905643</td>\n",
        "      <td> 0.241921</td>\n",
        "      <td> 0.650812</td>\n",
        "      <td> 0.249075</td>\n",
        "      <td> 0.707157</td>\n",
        "      <td> 0.217827</td>\n",
        "      <td> 0.301485</td>\n",
        "      <td> 0.224775</td>\n",
        "      <td> 0.392606</td>\n",
        "    </tr>\n",
        "    <tr>\n",
        "      <th>11434</th>\n",
        "      <td> 0.616121</td>\n",
        "      <td> 0.760242</td>\n",
        "      <td> 0.101363</td>\n",
        "      <td> 0.543287</td>\n",
        "      <td> 0.134888</td>\n",
        "      <td> 0.588051</td>\n",
        "      <td> 0.100263</td>\n",
        "      <td> 0.157899</td>\n",
        "      <td> 0.047649</td>\n",
        "      <td> 0.217037</td>\n",
        "    </tr>\n",
        "    <tr>\n",
        "      <th>11435</th>\n",
        "      <td> 1.746324</td>\n",
        "      <td> 2.151448</td>\n",
        "      <td> 0.402871</td>\n",
        "      <td> 1.540940</td>\n",
        "      <td> 0.466357</td>\n",
        "      <td> 1.670513</td>\n",
        "      <td> 0.377943</td>\n",
        "      <td> 0.555412</td>\n",
        "      <td> 0.295713</td>\n",
        "      <td> 0.742563</td>\n",
        "    </tr>\n",
        "    <tr>\n",
        "      <th>11436</th>\n",
        "      <td> 0.560445</td>\n",
        "      <td> 0.691373</td>\n",
        "      <td> 0.098016</td>\n",
        "      <td> 0.494246</td>\n",
        "      <td> 0.126926</td>\n",
        "      <td> 0.535101</td>\n",
        "      <td> 0.095918</td>\n",
        "      <td> 0.149056</td>\n",
        "      <td> 0.051424</td>\n",
        "      <td> 0.203833</td>\n",
        "    </tr>\n",
        "    <tr>\n",
        "      <th>11451</th>\n",
        "      <td> 1.943811</td>\n",
        "      <td> 2.350594</td>\n",
        "      <td> 1.962469</td>\n",
        "      <td> 1.729029</td>\n",
        "      <td> 1.619965</td>\n",
        "      <td> 1.908525</td>\n",
        "      <td> 1.648999</td>\n",
        "      <td> 2.031325</td>\n",
        "      <td> 2.433858</td>\n",
        "      <td> 2.495511</td>\n",
        "    </tr>\n",
        "    <tr>\n",
        "      <th>11691</th>\n",
        "      <td> 1.341067</td>\n",
        "      <td> 1.609113</td>\n",
        "      <td> 1.785971</td>\n",
        "      <td> 1.196831</td>\n",
        "      <td> 1.431774</td>\n",
        "      <td> 1.330733</td>\n",
        "      <td> 1.488172</td>\n",
        "      <td> 1.804674</td>\n",
        "      <td> 2.279736</td>\n",
        "      <td> 2.197936</td>\n",
        "    </tr>\n",
        "    <tr>\n",
        "      <th>11692</th>\n",
        "      <td> 1.194342</td>\n",
        "      <td> 1.417771</td>\n",
        "      <td> 2.114851</td>\n",
        "      <td> 1.070675</td>\n",
        "      <td> 1.656334</td>\n",
        "      <td> 1.202140</td>\n",
        "      <td> 1.750694</td>\n",
        "      <td> 2.096556</td>\n",
        "      <td> 2.759130</td>\n",
        "      <td> 2.535394</td>\n",
        "    </tr>\n",
        "    <tr>\n",
        "      <th>11693</th>\n",
        "      <td> 0.648154</td>\n",
        "      <td> 0.782865</td>\n",
        "      <td> 0.686242</td>\n",
        "      <td> 0.576827</td>\n",
        "      <td> 0.563340</td>\n",
        "      <td> 0.637422</td>\n",
        "      <td> 0.575704</td>\n",
        "      <td> 0.707078</td>\n",
        "      <td> 0.855857</td>\n",
        "      <td> 0.867244</td>\n",
        "    </tr>\n",
        "    <tr>\n",
        "      <th>11694</th>\n",
        "      <td> 0.453406</td>\n",
        "      <td> 0.505272</td>\n",
        "      <td> 1.932801</td>\n",
        "      <td> 0.416778</td>\n",
        "      <td> 1.450382</td>\n",
        "      <td> 0.493009</td>\n",
        "      <td> 1.581319</td>\n",
        "      <td> 1.850527</td>\n",
        "      <td> 2.618207</td>\n",
        "      <td> 2.208081</td>\n",
        "    </tr>\n",
        "    <tr>\n",
        "      <th>11697</th>\n",
        "      <td> 0.139459</td>\n",
        "      <td> 0.167849</td>\n",
        "      <td> 0.168071</td>\n",
        "      <td> 0.124299</td>\n",
        "      <td> 0.136055</td>\n",
        "      <td> 0.137812</td>\n",
        "      <td> 0.140434</td>\n",
        "      <td> 0.171193</td>\n",
        "      <td> 0.212531</td>\n",
        "      <td> 0.209105</td>\n",
        "    </tr>\n",
        "  </tbody>\n",
        "</table>\n",
        "</div>"
       ],
       "metadata": {},
       "output_type": "pyout",
       "prompt_number": 17,
       "text": [
        "              bars  restaurants   laundry     pizza  hospitals    coffee  \\\n",
        "Zip Code                                                                   \n",
        "11433     0.736810     0.905643  0.241921  0.650812   0.249075  0.707157   \n",
        "11434     0.616121     0.760242  0.101363  0.543287   0.134888  0.588051   \n",
        "11435     1.746324     2.151448  0.402871  1.540940   0.466357  1.670513   \n",
        "11436     0.560445     0.691373  0.098016  0.494246   0.126926  0.535101   \n",
        "11451     1.943811     2.350594  1.962469  1.729029   1.619965  1.908525   \n",
        "11691     1.341067     1.609113  1.785971  1.196831   1.431774  1.330733   \n",
        "11692     1.194342     1.417771  2.114851  1.070675   1.656334  1.202140   \n",
        "11693     0.648154     0.782865  0.686242  0.576827   0.563340  0.637422   \n",
        "11694     0.453406     0.505272  1.932801  0.416778   1.450382  0.493009   \n",
        "11697     0.139459     0.167849  0.168071  0.124299   0.136055  0.137812   \n",
        "\n",
        "          boutique  clothing  education      arts  \n",
        "Zip Code                                           \n",
        "11433     0.217827  0.301485   0.224775  0.392606  \n",
        "11434     0.100263  0.157899   0.047649  0.217037  \n",
        "11435     0.377943  0.555412   0.295713  0.742563  \n",
        "11436     0.095918  0.149056   0.051424  0.203833  \n",
        "11451     1.648999  2.031325   2.433858  2.495511  \n",
        "11691     1.488172  1.804674   2.279736  2.197936  \n",
        "11692     1.750694  2.096556   2.759130  2.535394  \n",
        "11693     0.575704  0.707078   0.855857  0.867244  \n",
        "11694     1.581319  1.850527   2.618207  2.208081  \n",
        "11697     0.140434  0.171193   0.212531  0.209105  "
       ]
      }
     ],
     "prompt_number": 17
    },
    {
     "cell_type": "code",
     "collapsed": false,
     "input": [
      "df.tail(10)"
     ],
     "language": "python",
     "metadata": {},
     "outputs": [
      {
       "html": [
        "<div style=\"max-height:1000px;max-width:1500px;overflow:auto;\">\n",
        "<table border=\"1\" class=\"dataframe\">\n",
        "  <thead>\n",
        "    <tr style=\"text-align: right;\">\n",
        "      <th></th>\n",
        "      <th>Zip Code</th>\n",
        "      <th>bars</th>\n",
        "      <th>restaurants</th>\n",
        "      <th>laundry</th>\n",
        "      <th>pizza</th>\n",
        "      <th>hospitals</th>\n",
        "      <th>coffee</th>\n",
        "      <th>boutique</th>\n",
        "      <th>clothing</th>\n",
        "      <th>education</th>\n",
        "      <th>arts</th>\n",
        "    </tr>\n",
        "  </thead>\n",
        "  <tbody>\n",
        "    <tr>\n",
        "      <th>201</th>\n",
        "      <td> 11433</td>\n",
        "      <td> 0.0904</td>\n",
        "      <td> 1.8616</td>\n",
        "      <td> 0.0766</td>\n",
        "      <td> 0.4380</td>\n",
        "      <td> 0.1810</td>\n",
        "      <td> 0.3782</td>\n",
        "      <td> 0.0000</td>\n",
        "      <td> 0.5220</td>\n",
        "      <td> 0.2706</td>\n",
        "      <td> 0.3616</td>\n",
        "    </tr>\n",
        "    <tr>\n",
        "      <th>202</th>\n",
        "      <td> 11434</td>\n",
        "      <td> 0.1522</td>\n",
        "      <td> 1.6318</td>\n",
        "      <td> 0.2106</td>\n",
        "      <td> 0.1502</td>\n",
        "      <td> 0.0602</td>\n",
        "      <td> 0.3644</td>\n",
        "      <td> 0.0000</td>\n",
        "      <td> 0.1824</td>\n",
        "      <td> 0.0000</td>\n",
        "      <td> 0.1522</td>\n",
        "    </tr>\n",
        "    <tr>\n",
        "      <th>203</th>\n",
        "      <td> 11435</td>\n",
        "      <td> 1.8956</td>\n",
        "      <td> 2.3568</td>\n",
        "      <td> 0.4660</td>\n",
        "      <td> 1.0370</td>\n",
        "      <td> 0.1548</td>\n",
        "      <td> 1.9638</td>\n",
        "      <td> 0.1354</td>\n",
        "      <td> 0.3616</td>\n",
        "      <td> 0.6622</td>\n",
        "      <td> 0.7048</td>\n",
        "    </tr>\n",
        "    <tr>\n",
        "      <th>204</th>\n",
        "      <td> 11436</td>\n",
        "      <td> 0.3496</td>\n",
        "      <td> 1.2826</td>\n",
        "      <td> 0.0302</td>\n",
        "      <td> 0.4056</td>\n",
        "      <td> 0.4382</td>\n",
        "      <td> 0.1076</td>\n",
        "      <td> 0.1090</td>\n",
        "      <td> 0.1270</td>\n",
        "      <td> 0.0620</td>\n",
        "      <td> 0.0604</td>\n",
        "    </tr>\n",
        "    <tr>\n",
        "      <th>205</th>\n",
        "      <td> 11451</td>\n",
        "      <td> 1.5594</td>\n",
        "      <td> 2.5034</td>\n",
        "      <td> 2.5344</td>\n",
        "      <td> 2.2134</td>\n",
        "      <td> 0.6342</td>\n",
        "      <td> 1.7684</td>\n",
        "      <td> 0.8606</td>\n",
        "      <td> 2.2368</td>\n",
        "      <td> 2.6888</td>\n",
        "      <td> 2.8390</td>\n",
        "    </tr>\n",
        "    <tr>\n",
        "      <th>206</th>\n",
        "      <td> 11691</td>\n",
        "      <td> 2.8720</td>\n",
        "      <td> 1.4268</td>\n",
        "      <td> 2.2798</td>\n",
        "      <td> 0.5756</td>\n",
        "      <td> 0.0628</td>\n",
        "      <td> 0.6574</td>\n",
        "      <td> 0.4550</td>\n",
        "      <td> 1.7396</td>\n",
        "      <td> 2.8336</td>\n",
        "      <td> 2.9304</td>\n",
        "    </tr>\n",
        "    <tr>\n",
        "      <th>207</th>\n",
        "      <td> 11692</td>\n",
        "      <td> 0.5354</td>\n",
        "      <td> 2.3826</td>\n",
        "      <td> 2.5250</td>\n",
        "      <td> 0.8616</td>\n",
        "      <td> 0.6372</td>\n",
        "      <td> 0.7936</td>\n",
        "      <td> 1.2086</td>\n",
        "      <td> 2.4926</td>\n",
        "      <td> 2.8844</td>\n",
        "      <td> 2.9744</td>\n",
        "    </tr>\n",
        "    <tr>\n",
        "      <th>208</th>\n",
        "      <td> 11693</td>\n",
        "      <td> 0.1590</td>\n",
        "      <td> 1.1928</td>\n",
        "      <td> 0.5668</td>\n",
        "      <td> 0.3170</td>\n",
        "      <td> 0.3260</td>\n",
        "      <td> 0.7728</td>\n",
        "      <td> 0.5652</td>\n",
        "      <td> 0.3036</td>\n",
        "      <td> 0.7590</td>\n",
        "      <td> 1.6550</td>\n",
        "    </tr>\n",
        "    <tr>\n",
        "      <th>209</th>\n",
        "      <td> 11694</td>\n",
        "      <td> 0.2946</td>\n",
        "      <td> 1.0252</td>\n",
        "      <td> 2.8500</td>\n",
        "      <td> 0.2220</td>\n",
        "      <td> 0.9034</td>\n",
        "      <td> 0.1516</td>\n",
        "      <td> 0.6024</td>\n",
        "      <td> 1.1064</td>\n",
        "      <td> 2.9586</td>\n",
        "      <td> 2.9032</td>\n",
        "    </tr>\n",
        "    <tr>\n",
        "      <th>210</th>\n",
        "      <td> 11697</td>\n",
        "      <td> 0.2306</td>\n",
        "      <td> 0.1096</td>\n",
        "      <td> 0.0000</td>\n",
        "      <td> 0.0000</td>\n",
        "      <td> 0.1512</td>\n",
        "      <td> 0.1096</td>\n",
        "      <td> 0.1502</td>\n",
        "      <td> 0.0000</td>\n",
        "      <td> 0.0000</td>\n",
        "      <td> 0.0000</td>\n",
        "    </tr>\n",
        "  </tbody>\n",
        "</table>\n",
        "</div>"
       ],
       "metadata": {},
       "output_type": "pyout",
       "prompt_number": 18,
       "text": [
        "     Zip Code    bars  restaurants  laundry   pizza  hospitals  coffee  \\\n",
        "201     11433  0.0904       1.8616   0.0766  0.4380     0.1810  0.3782   \n",
        "202     11434  0.1522       1.6318   0.2106  0.1502     0.0602  0.3644   \n",
        "203     11435  1.8956       2.3568   0.4660  1.0370     0.1548  1.9638   \n",
        "204     11436  0.3496       1.2826   0.0302  0.4056     0.4382  0.1076   \n",
        "205     11451  1.5594       2.5034   2.5344  2.2134     0.6342  1.7684   \n",
        "206     11691  2.8720       1.4268   2.2798  0.5756     0.0628  0.6574   \n",
        "207     11692  0.5354       2.3826   2.5250  0.8616     0.6372  0.7936   \n",
        "208     11693  0.1590       1.1928   0.5668  0.3170     0.3260  0.7728   \n",
        "209     11694  0.2946       1.0252   2.8500  0.2220     0.9034  0.1516   \n",
        "210     11697  0.2306       0.1096   0.0000  0.0000     0.1512  0.1096   \n",
        "\n",
        "     boutique  clothing  education    arts  \n",
        "201    0.0000    0.5220     0.2706  0.3616  \n",
        "202    0.0000    0.1824     0.0000  0.1522  \n",
        "203    0.1354    0.3616     0.6622  0.7048  \n",
        "204    0.1090    0.1270     0.0620  0.0604  \n",
        "205    0.8606    2.2368     2.6888  2.8390  \n",
        "206    0.4550    1.7396     2.8336  2.9304  \n",
        "207    1.2086    2.4926     2.8844  2.9744  \n",
        "208    0.5652    0.3036     0.7590  1.6550  \n",
        "209    0.6024    1.1064     2.9586  2.9032  \n",
        "210    0.1502    0.0000     0.0000  0.0000  "
       ]
      }
     ],
     "prompt_number": 18
    },
    {
     "cell_type": "code",
     "collapsed": false,
     "input": [
      "def minimum_sim_calc(neighborhood,weights,k):\n",
      "    m1 = 1000\n",
      "    l = []\n",
      "    for j in df['Zip Code']:\n",
      "        if j!=neighborhood:\n",
      "            l.append((calc_distance(simple_distances, neighborhood, j, weights),j))\n",
      "            #if calc_distance(simple_distances, neighborhood, j, weights)<m1:\n",
      "            #m1 = min(calc_distance(simple_distances, neighborhood, j, weights),m1)\n",
      "            #m = (m1,j)\n",
      "    l =sorted(l,key=lambda x: x[0])\n",
      "    print \"The\",k,\"most similar neighborhoods to\",neighborhood,\"are:\"\n",
      "    for i in xrange(k):\n",
      "        print l[i][1],\".The similarity score is =\",l[i][0]\n",
      "    #print \"Neighborhood:\",neighborhood,\"is most similar to Neighborhood:\",m[1],\".The similarity score is =\",m[0]\n"
     ],
     "language": "python",
     "metadata": {},
     "outputs": [],
     "prompt_number": 19
    },
    {
     "cell_type": "code",
     "collapsed": false,
     "input": [
      "weights = [10,10,1,1,1,1,1,1,1,1]\n",
      "n = 10453\n",
      "k = 3\n",
      "minimum_sim_calc(n,weights,k)"
     ],
     "language": "python",
     "metadata": {},
     "outputs": [
      {
       "output_type": "stream",
       "stream": "stdout",
       "text": [
        "The 3 most similar neighborhoods to 10453 are:\n",
        "10310 .The similarity score is = 3.0982\n",
        "10457 .The similarity score is = 3.4572\n",
        "11208 .The similarity score is = 3.653\n"
       ]
      }
     ],
     "prompt_number": 22
    },
    {
     "cell_type": "code",
     "collapsed": false,
     "input": [],
     "language": "python",
     "metadata": {},
     "outputs": [],
     "prompt_number": 20
    }
   ],
   "metadata": {}
  }
 ]
}