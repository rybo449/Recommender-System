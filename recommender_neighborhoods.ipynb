{
 "metadata": {
  "name": "",
  "signature": "sha256:ad7be64c8b712e09af8e89381035fca572a54354f9402981753277a316df80b1"
 },
 "nbformat": 3,
 "nbformat_minor": 0,
 "worksheets": [
  {
   "cells": [
    {
     "cell_type": "code",
     "collapsed": false,
     "input": [
      "import pandas as pd\n",
      "#import cvxpy as cvx\n",
      "import numpy as np\n",
      "import scipy.stats as stats\n",
      "import scipy.spatial.distance as dist\n",
      "#import nimfa\n",
      "import time\n",
      "import matplotlib.pyplot as plt\n",
      "#from mpltools import style\n",
      "from scipy.linalg import svd,diagsvd\n",
      "from scipy import sparse\n",
      "#from sparsesvd import sparsesvd\n",
      "from mpltools import style\n",
      "import scipy.spatial.distance as dist\n",
      "import scipy.stats as stats\n",
      "from sklearn.metrics.pairwise import euclidean_distances\n",
      "from sklearn.metrics.pairwise import manhattan_distances\n",
      "from scipy.stats.stats import pearsonr\n",
      "style.use('ggplot')"
     ],
     "language": "python",
     "metadata": {},
     "outputs": [],
     "prompt_number": 2
    },
    {
     "cell_type": "code",
     "collapsed": false,
     "input": [
      "df = pd.read_csv('data1.csv')\n",
      "df.set_index(df['Neighborhood'])\n",
      "df.head(50)"
     ],
     "language": "python",
     "metadata": {},
     "outputs": [
      {
       "html": [
        "<div style=\"max-height:1000px;max-width:1500px;overflow:auto;\">\n",
        "<table border=\"1\" class=\"dataframe\">\n",
        "  <thead>\n",
        "    <tr style=\"text-align: right;\">\n",
        "      <th></th>\n",
        "      <th>Neighborhood</th>\n",
        "      <th>bars</th>\n",
        "      <th>restaurants</th>\n",
        "      <th>laundry</th>\n",
        "      <th>pizza</th>\n",
        "      <th>hospitals</th>\n",
        "      <th>coffee</th>\n",
        "      <th>boutique</th>\n",
        "      <th>clothing</th>\n",
        "      <th>education</th>\n",
        "      <th>arts</th>\n",
        "    </tr>\n",
        "  </thead>\n",
        "  <tbody>\n",
        "    <tr>\n",
        "      <th>0 </th>\n",
        "      <td>                 Central Bronx</td>\n",
        "      <td> 0.3674</td>\n",
        "      <td> 0.5932</td>\n",
        "      <td> 0.0000</td>\n",
        "      <td> 0.1206</td>\n",
        "      <td> 0.0000</td>\n",
        "      <td> 0.1240</td>\n",
        "      <td> 0.0000</td>\n",
        "      <td> 0.0000</td>\n",
        "      <td> 0.0000</td>\n",
        "      <td> 0.1962</td>\n",
        "    </tr>\n",
        "    <tr>\n",
        "      <th>1 </th>\n",
        "      <td>        Bronx Park and Fordham</td>\n",
        "      <td> 1.0900</td>\n",
        "      <td> 2.5012</td>\n",
        "      <td> 1.0502</td>\n",
        "      <td> 1.8712</td>\n",
        "      <td> 0.1358</td>\n",
        "      <td> 1.6246</td>\n",
        "      <td> 0.3694</td>\n",
        "      <td> 0.2814</td>\n",
        "      <td> 0.8620</td>\n",
        "      <td> 2.0708</td>\n",
        "    </tr>\n",
        "    <tr>\n",
        "      <th>2 </th>\n",
        "      <td>    High Bridge and Morrisania</td>\n",
        "      <td> 1.0972</td>\n",
        "      <td> 2.3032</td>\n",
        "      <td> 0.3006</td>\n",
        "      <td> 0.6752</td>\n",
        "      <td> 0.0616</td>\n",
        "      <td> 0.9702</td>\n",
        "      <td> 0.0906</td>\n",
        "      <td> 0.8448</td>\n",
        "      <td> 0.0604</td>\n",
        "      <td> 0.1504</td>\n",
        "    </tr>\n",
        "    <tr>\n",
        "      <th>3 </th>\n",
        "      <td>    Hunts Point and Mott Haven</td>\n",
        "      <td> 1.3522</td>\n",
        "      <td> 2.5278</td>\n",
        "      <td> 0.0302</td>\n",
        "      <td> 1.7218</td>\n",
        "      <td> 0.2574</td>\n",
        "      <td> 1.5546</td>\n",
        "      <td> 0.1364</td>\n",
        "      <td> 0.5886</td>\n",
        "      <td> 0.2858</td>\n",
        "      <td> 0.6204</td>\n",
        "    </tr>\n",
        "    <tr>\n",
        "      <th>4 </th>\n",
        "      <td>     Kingsbridge and Riverdale</td>\n",
        "      <td> 0.1136</td>\n",
        "      <td> 0.3014</td>\n",
        "      <td> 2.9866</td>\n",
        "      <td> 0.1572</td>\n",
        "      <td> 0.4822</td>\n",
        "      <td> 3.1212</td>\n",
        "      <td> 0.3016</td>\n",
        "      <td> 0.4526</td>\n",
        "      <td> 2.1062</td>\n",
        "      <td> 2.8250</td>\n",
        "    </tr>\n",
        "    <tr>\n",
        "      <th>5 </th>\n",
        "      <td>               Northeast Bronx</td>\n",
        "      <td> 0.8832</td>\n",
        "      <td> 2.3460</td>\n",
        "      <td> 1.1422</td>\n",
        "      <td> 1.4760</td>\n",
        "      <td> 1.4610</td>\n",
        "      <td> 1.2800</td>\n",
        "      <td> 0.3694</td>\n",
        "      <td> 0.2552</td>\n",
        "      <td> 0.5758</td>\n",
        "      <td> 1.7852</td>\n",
        "    </tr>\n",
        "    <tr>\n",
        "      <th>6 </th>\n",
        "      <td>               Southeast Bronx</td>\n",
        "      <td> 0.8832</td>\n",
        "      <td> 2.3460</td>\n",
        "      <td> 1.1422</td>\n",
        "      <td> 1.4760</td>\n",
        "      <td> 1.4610</td>\n",
        "      <td> 1.2800</td>\n",
        "      <td> 0.3694</td>\n",
        "      <td> 0.2552</td>\n",
        "      <td> 0.5758</td>\n",
        "      <td> 1.7852</td>\n",
        "    </tr>\n",
        "    <tr>\n",
        "      <th>7 </th>\n",
        "      <td>              Central Brooklyn</td>\n",
        "      <td> 2.2554</td>\n",
        "      <td> 2.5626</td>\n",
        "      <td> 1.4340</td>\n",
        "      <td> 2.3662</td>\n",
        "      <td> 0.6908</td>\n",
        "      <td> 2.3214</td>\n",
        "      <td> 0.1746</td>\n",
        "      <td> 1.1776</td>\n",
        "      <td> 0.5276</td>\n",
        "      <td> 1.4330</td>\n",
        "    </tr>\n",
        "    <tr>\n",
        "      <th>8 </th>\n",
        "      <td>            Southwest Brooklyn</td>\n",
        "      <td> 2.4870</td>\n",
        "      <td> 2.7846</td>\n",
        "      <td> 1.6470</td>\n",
        "      <td> 2.0632</td>\n",
        "      <td> 0.0302</td>\n",
        "      <td> 2.6906</td>\n",
        "      <td> 0.9268</td>\n",
        "      <td> 1.4218</td>\n",
        "      <td> 0.3992</td>\n",
        "      <td> 2.0554</td>\n",
        "    </tr>\n",
        "    <tr>\n",
        "      <th>9 </th>\n",
        "      <td>                  Borough Park</td>\n",
        "      <td> 0.6950</td>\n",
        "      <td> 2.3712</td>\n",
        "      <td> 0.5116</td>\n",
        "      <td> 0.7934</td>\n",
        "      <td> 0.7684</td>\n",
        "      <td> 1.6886</td>\n",
        "      <td> 0.2862</td>\n",
        "      <td> 0.8572</td>\n",
        "      <td> 0.0302</td>\n",
        "      <td> 0.7224</td>\n",
        "    </tr>\n",
        "    <tr>\n",
        "      <th>10</th>\n",
        "      <td>        Canarsie and Flatlands</td>\n",
        "      <td> 0.3366</td>\n",
        "      <td> 2.1216</td>\n",
        "      <td> 0.1358</td>\n",
        "      <td> 0.3928</td>\n",
        "      <td> 0.0754</td>\n",
        "      <td> 0.1206</td>\n",
        "      <td> 0.0000</td>\n",
        "      <td> 0.2558</td>\n",
        "      <td> 0.7532</td>\n",
        "      <td> 0.6326</td>\n",
        "    </tr>\n",
        "    <tr>\n",
        "      <th>11</th>\n",
        "      <td>             Southern Brooklyn</td>\n",
        "      <td> 0.0000</td>\n",
        "      <td> 0.0000</td>\n",
        "      <td> 0.0000</td>\n",
        "      <td> 0.0000</td>\n",
        "      <td> 0.0000</td>\n",
        "      <td> 0.0000</td>\n",
        "      <td> 0.0000</td>\n",
        "      <td> 0.0000</td>\n",
        "      <td> 0.0000</td>\n",
        "      <td> 0.0000</td>\n",
        "    </tr>\n",
        "    <tr>\n",
        "      <th>12</th>\n",
        "      <td>            Northwest Brooklyn</td>\n",
        "      <td> 2.4870</td>\n",
        "      <td> 2.7846</td>\n",
        "      <td> 1.6470</td>\n",
        "      <td> 2.0632</td>\n",
        "      <td> 0.0302</td>\n",
        "      <td> 2.6906</td>\n",
        "      <td> 0.9268</td>\n",
        "      <td> 1.4218</td>\n",
        "      <td> 0.3992</td>\n",
        "      <td> 2.0554</td>\n",
        "    </tr>\n",
        "    <tr>\n",
        "      <th>13</th>\n",
        "      <td>                      Flatbush</td>\n",
        "      <td> 2.7194</td>\n",
        "      <td> 2.7542</td>\n",
        "      <td> 2.1464</td>\n",
        "      <td> 2.3446</td>\n",
        "      <td> 2.1718</td>\n",
        "      <td> 2.6712</td>\n",
        "      <td> 2.0660</td>\n",
        "      <td> 2.5960</td>\n",
        "      <td> 2.9664</td>\n",
        "      <td> 2.9380</td>\n",
        "    </tr>\n",
        "    <tr>\n",
        "      <th>14</th>\n",
        "      <td>    East New York and New Lots</td>\n",
        "      <td> 0.0000</td>\n",
        "      <td> 0.4070</td>\n",
        "      <td> 0.0000</td>\n",
        "      <td> 0.0000</td>\n",
        "      <td> 0.0000</td>\n",
        "      <td> 0.0302</td>\n",
        "      <td> 0.0000</td>\n",
        "      <td> 0.0000</td>\n",
        "      <td> 0.1530</td>\n",
        "      <td> 0.0626</td>\n",
        "    </tr>\n",
        "    <tr>\n",
        "      <th>15</th>\n",
        "      <td>                    Greenpoint</td>\n",
        "      <td> 2.8066</td>\n",
        "      <td> 2.9680</td>\n",
        "      <td> 2.3124</td>\n",
        "      <td> 2.3448</td>\n",
        "      <td> 0.5364</td>\n",
        "      <td> 2.9586</td>\n",
        "      <td> 2.0944</td>\n",
        "      <td> 2.5832</td>\n",
        "      <td> 1.8420</td>\n",
        "      <td> 2.8606</td>\n",
        "    </tr>\n",
        "    <tr>\n",
        "      <th>16</th>\n",
        "      <td>                   Sunset Park</td>\n",
        "      <td> 2.3882</td>\n",
        "      <td> 2.7632</td>\n",
        "      <td> 0.9974</td>\n",
        "      <td> 2.1322</td>\n",
        "      <td> 0.0316</td>\n",
        "      <td> 2.4496</td>\n",
        "      <td> 0.0904</td>\n",
        "      <td> 0.7094</td>\n",
        "      <td> 0.5074</td>\n",
        "      <td> 1.4460</td>\n",
        "    </tr>\n",
        "    <tr>\n",
        "      <th>17</th>\n",
        "      <td>     Bushwick and Williamsburg</td>\n",
        "      <td> 2.9198</td>\n",
        "      <td> 3.3180</td>\n",
        "      <td> 1.2038</td>\n",
        "      <td> 3.0138</td>\n",
        "      <td> 1.0262</td>\n",
        "      <td> 2.9012</td>\n",
        "      <td> 2.6016</td>\n",
        "      <td> 2.6480</td>\n",
        "      <td> 2.4086</td>\n",
        "      <td> 2.8000</td>\n",
        "    </tr>\n",
        "    <tr>\n",
        "      <th>18</th>\n",
        "      <td>                Central Harlem</td>\n",
        "      <td> 0.0000</td>\n",
        "      <td> 0.0000</td>\n",
        "      <td> 0.0000</td>\n",
        "      <td> 0.0000</td>\n",
        "      <td> 0.0000</td>\n",
        "      <td> 0.0000</td>\n",
        "      <td> 0.0000</td>\n",
        "      <td> 0.0000</td>\n",
        "      <td> 0.0000</td>\n",
        "      <td> 0.0000</td>\n",
        "    </tr>\n",
        "    <tr>\n",
        "      <th>19</th>\n",
        "      <td>           Chelsea and Clinton</td>\n",
        "      <td> 0.8688</td>\n",
        "      <td> 2.3424</td>\n",
        "      <td> 2.1932</td>\n",
        "      <td> 0.8620</td>\n",
        "      <td> 2.5870</td>\n",
        "      <td> 0.9584</td>\n",
        "      <td> 0.1208</td>\n",
        "      <td> 0.1508</td>\n",
        "      <td> 0.6194</td>\n",
        "      <td> 2.9002</td>\n",
        "    </tr>\n",
        "    <tr>\n",
        "      <th>20</th>\n",
        "      <td>                   East Harlem</td>\n",
        "      <td> 2.8096</td>\n",
        "      <td> 2.9794</td>\n",
        "      <td> 1.8194</td>\n",
        "      <td> 2.4080</td>\n",
        "      <td> 0.6326</td>\n",
        "      <td> 2.4526</td>\n",
        "      <td> 0.6846</td>\n",
        "      <td> 1.7260</td>\n",
        "      <td> 1.2816</td>\n",
        "      <td> 2.4242</td>\n",
        "    </tr>\n",
        "    <tr>\n",
        "      <th>21</th>\n",
        "      <td> Gramercy Park and Murray Hill</td>\n",
        "      <td> 3.3360</td>\n",
        "      <td> 3.7516</td>\n",
        "      <td> 2.3438</td>\n",
        "      <td> 3.2514</td>\n",
        "      <td> 2.6846</td>\n",
        "      <td> 2.9390</td>\n",
        "      <td> 2.5496</td>\n",
        "      <td> 2.3916</td>\n",
        "      <td> 2.7340</td>\n",
        "      <td> 2.6254</td>\n",
        "    </tr>\n",
        "    <tr>\n",
        "      <th>22</th>\n",
        "      <td>    Greenwich Village and Soho</td>\n",
        "      <td> 3.4224</td>\n",
        "      <td> 4.2702</td>\n",
        "      <td> 2.4332</td>\n",
        "      <td> 3.3308</td>\n",
        "      <td> 2.5992</td>\n",
        "      <td> 3.1632</td>\n",
        "      <td> 2.6634</td>\n",
        "      <td> 2.4864</td>\n",
        "      <td> 2.7702</td>\n",
        "      <td> 2.6714</td>\n",
        "    </tr>\n",
        "    <tr>\n",
        "      <th>23</th>\n",
        "      <td>               Lower Manhattan</td>\n",
        "      <td> 3.1904</td>\n",
        "      <td> 3.9474</td>\n",
        "      <td> 2.0918</td>\n",
        "      <td> 3.3462</td>\n",
        "      <td> 2.5004</td>\n",
        "      <td> 3.1882</td>\n",
        "      <td> 2.4874</td>\n",
        "      <td> 2.7194</td>\n",
        "      <td> 2.8674</td>\n",
        "      <td> 2.8920</td>\n",
        "    </tr>\n",
        "    <tr>\n",
        "      <th>24</th>\n",
        "      <td>               Lower East Side</td>\n",
        "      <td> 3.2718</td>\n",
        "      <td> 3.6176</td>\n",
        "      <td> 2.2530</td>\n",
        "      <td> 2.7510</td>\n",
        "      <td> 0.8280</td>\n",
        "      <td> 3.0344</td>\n",
        "      <td> 2.6750</td>\n",
        "      <td> 2.7618</td>\n",
        "      <td> 2.8166</td>\n",
        "      <td> 2.6662</td>\n",
        "    </tr>\n",
        "    <tr>\n",
        "      <th>25</th>\n",
        "      <td>               Upper East Side</td>\n",
        "      <td> 3.0774</td>\n",
        "      <td> 3.5698</td>\n",
        "      <td> 2.3396</td>\n",
        "      <td> 2.5306</td>\n",
        "      <td> 2.6612</td>\n",
        "      <td> 2.8344</td>\n",
        "      <td> 2.3632</td>\n",
        "      <td> 2.2070</td>\n",
        "      <td> 2.6966</td>\n",
        "      <td> 2.6194</td>\n",
        "    </tr>\n",
        "    <tr>\n",
        "      <th>26</th>\n",
        "      <td>               Upper West Side</td>\n",
        "      <td> 3.0486</td>\n",
        "      <td> 3.6388</td>\n",
        "      <td> 2.4366</td>\n",
        "      <td> 2.6704</td>\n",
        "      <td> 2.6820</td>\n",
        "      <td> 3.0678</td>\n",
        "      <td> 2.1876</td>\n",
        "      <td> 2.2142</td>\n",
        "      <td> 2.7970</td>\n",
        "      <td> 2.8704</td>\n",
        "    </tr>\n",
        "    <tr>\n",
        "      <th>27</th>\n",
        "      <td> Inwood and Washington Heights</td>\n",
        "      <td> 0.1246</td>\n",
        "      <td> 0.1246</td>\n",
        "      <td> 0.0000</td>\n",
        "      <td> 0.0000</td>\n",
        "      <td> 0.0000</td>\n",
        "      <td> 0.0000</td>\n",
        "      <td> 0.0000</td>\n",
        "      <td> 0.0000</td>\n",
        "      <td> 0.0000</td>\n",
        "      <td> 0.0000</td>\n",
        "    </tr>\n",
        "    <tr>\n",
        "      <th>28</th>\n",
        "      <td>              Northeast Queens</td>\n",
        "      <td> 2.3248</td>\n",
        "      <td> 2.7188</td>\n",
        "      <td> 0.4808</td>\n",
        "      <td> 2.0948</td>\n",
        "      <td> 0.0756</td>\n",
        "      <td> 2.4170</td>\n",
        "      <td> 0.2704</td>\n",
        "      <td> 1.1886</td>\n",
        "      <td> 0.4818</td>\n",
        "      <td> 0.9992</td>\n",
        "    </tr>\n",
        "    <tr>\n",
        "      <th>29</th>\n",
        "      <td>                  North Queens</td>\n",
        "      <td> 2.3248</td>\n",
        "      <td> 2.7188</td>\n",
        "      <td> 0.4808</td>\n",
        "      <td> 2.0948</td>\n",
        "      <td> 0.0756</td>\n",
        "      <td> 2.4170</td>\n",
        "      <td> 0.2704</td>\n",
        "      <td> 1.1886</td>\n",
        "      <td> 0.4818</td>\n",
        "      <td> 0.9992</td>\n",
        "    </tr>\n",
        "    <tr>\n",
        "      <th>30</th>\n",
        "      <td>                Central Queens</td>\n",
        "      <td> 0.0000</td>\n",
        "      <td> 0.0000</td>\n",
        "      <td> 0.0000</td>\n",
        "      <td> 0.0000</td>\n",
        "      <td> 0.0000</td>\n",
        "      <td> 0.0000</td>\n",
        "      <td> 0.0000</td>\n",
        "      <td> 0.0000</td>\n",
        "      <td> 0.0000</td>\n",
        "      <td> 0.0000</td>\n",
        "    </tr>\n",
        "    <tr>\n",
        "      <th>31</th>\n",
        "      <td>                       Jamaica</td>\n",
        "      <td> 0.1810</td>\n",
        "      <td> 2.7996</td>\n",
        "      <td> 2.5590</td>\n",
        "      <td> 0.5504</td>\n",
        "      <td> 0.7880</td>\n",
        "      <td> 1.0210</td>\n",
        "      <td> 1.2086</td>\n",
        "      <td> 2.5674</td>\n",
        "      <td> 2.9112</td>\n",
        "      <td> 2.9868</td>\n",
        "    </tr>\n",
        "    <tr>\n",
        "      <th>32</th>\n",
        "      <td>              Northwest Queens</td>\n",
        "      <td> 2.3248</td>\n",
        "      <td> 2.7188</td>\n",
        "      <td> 0.4808</td>\n",
        "      <td> 2.0948</td>\n",
        "      <td> 0.0756</td>\n",
        "      <td> 2.4170</td>\n",
        "      <td> 0.2704</td>\n",
        "      <td> 1.1886</td>\n",
        "      <td> 0.4818</td>\n",
        "      <td> 0.9992</td>\n",
        "    </tr>\n",
        "    <tr>\n",
        "      <th>33</th>\n",
        "      <td>           West Central Queens</td>\n",
        "      <td> 0.0000</td>\n",
        "      <td> 0.0000</td>\n",
        "      <td> 0.0000</td>\n",
        "      <td> 0.0000</td>\n",
        "      <td> 0.0000</td>\n",
        "      <td> 0.0000</td>\n",
        "      <td> 0.0000</td>\n",
        "      <td> 0.0000</td>\n",
        "      <td> 0.0000</td>\n",
        "      <td> 0.0000</td>\n",
        "    </tr>\n",
        "    <tr>\n",
        "      <th>34</th>\n",
        "      <td>                     Rockaways</td>\n",
        "      <td> 0.5356</td>\n",
        "      <td> 2.3828</td>\n",
        "      <td> 2.5260</td>\n",
        "      <td> 0.8618</td>\n",
        "      <td> 0.6372</td>\n",
        "      <td> 0.7936</td>\n",
        "      <td> 1.2086</td>\n",
        "      <td> 2.4930</td>\n",
        "      <td> 2.9136</td>\n",
        "      <td> 3.0048</td>\n",
        "    </tr>\n",
        "    <tr>\n",
        "      <th>35</th>\n",
        "      <td>              Southeast Queens</td>\n",
        "      <td> 2.3248</td>\n",
        "      <td> 2.7188</td>\n",
        "      <td> 0.4808</td>\n",
        "      <td> 2.0948</td>\n",
        "      <td> 0.0756</td>\n",
        "      <td> 2.4170</td>\n",
        "      <td> 0.2704</td>\n",
        "      <td> 1.1886</td>\n",
        "      <td> 0.4818</td>\n",
        "      <td> 0.9992</td>\n",
        "    </tr>\n",
        "    <tr>\n",
        "      <th>36</th>\n",
        "      <td>              Southwest Queens</td>\n",
        "      <td> 2.3248</td>\n",
        "      <td> 2.7188</td>\n",
        "      <td> 0.4808</td>\n",
        "      <td> 2.0948</td>\n",
        "      <td> 0.0756</td>\n",
        "      <td> 2.4170</td>\n",
        "      <td> 0.2704</td>\n",
        "      <td> 1.1886</td>\n",
        "      <td> 0.4818</td>\n",
        "      <td> 0.9992</td>\n",
        "    </tr>\n",
        "    <tr>\n",
        "      <th>37</th>\n",
        "      <td>                   West Queens</td>\n",
        "      <td> 2.3248</td>\n",
        "      <td> 2.7188</td>\n",
        "      <td> 0.4808</td>\n",
        "      <td> 2.0948</td>\n",
        "      <td> 0.0756</td>\n",
        "      <td> 2.4170</td>\n",
        "      <td> 0.2704</td>\n",
        "      <td> 1.1886</td>\n",
        "      <td> 0.4818</td>\n",
        "      <td> 0.9992</td>\n",
        "    </tr>\n",
        "    <tr>\n",
        "      <th>38</th>\n",
        "      <td>                 Port Richmond</td>\n",
        "      <td> 0.3308</td>\n",
        "      <td> 2.1850</td>\n",
        "      <td> 0.1502</td>\n",
        "      <td> 0.4678</td>\n",
        "      <td> 0.1354</td>\n",
        "      <td> 0.0000</td>\n",
        "      <td> 0.1202</td>\n",
        "      <td> 0.1202</td>\n",
        "      <td> 0.1504</td>\n",
        "      <td> 0.3922</td>\n",
        "    </tr>\n",
        "    <tr>\n",
        "      <th>39</th>\n",
        "      <td>                   South Shore</td>\n",
        "      <td> 0.4698</td>\n",
        "      <td> 2.1682</td>\n",
        "      <td> 0.2258</td>\n",
        "      <td> 0.3204</td>\n",
        "      <td> 0.1202</td>\n",
        "      <td> 0.3942</td>\n",
        "      <td> 0.3010</td>\n",
        "      <td> 0.1504</td>\n",
        "      <td> 0.3012</td>\n",
        "      <td> 0.2300</td>\n",
        "    </tr>\n",
        "    <tr>\n",
        "      <th>40</th>\n",
        "      <td>      Stapleton and St. George</td>\n",
        "      <td> 0.0000</td>\n",
        "      <td> 0.0000</td>\n",
        "      <td> 0.0000</td>\n",
        "      <td> 0.0000</td>\n",
        "      <td> 0.0000</td>\n",
        "      <td> 0.0000</td>\n",
        "      <td> 0.0000</td>\n",
        "      <td> 0.0000</td>\n",
        "      <td> 0.0000</td>\n",
        "      <td> 0.0000</td>\n",
        "    </tr>\n",
        "    <tr>\n",
        "      <th>41</th>\n",
        "      <td>                    Mid-Island</td>\n",
        "      <td> 0.0000</td>\n",
        "      <td> 0.0000</td>\n",
        "      <td> 0.0000</td>\n",
        "      <td> 0.0000</td>\n",
        "      <td> 0.0000</td>\n",
        "      <td> 0.0000</td>\n",
        "      <td> 0.0000</td>\n",
        "      <td> 0.0000</td>\n",
        "      <td> 0.0000</td>\n",
        "      <td> 0.0000</td>\n",
        "    </tr>\n",
        "  </tbody>\n",
        "</table>\n",
        "</div>"
       ],
       "metadata": {},
       "output_type": "pyout",
       "prompt_number": 4,
       "text": [
        "                     Neighborhood    bars  restaurants  laundry   pizza  \\\n",
        "0                   Central Bronx  0.3674       0.5932   0.0000  0.1206   \n",
        "1          Bronx Park and Fordham  1.0900       2.5012   1.0502  1.8712   \n",
        "2      High Bridge and Morrisania  1.0972       2.3032   0.3006  0.6752   \n",
        "3      Hunts Point and Mott Haven  1.3522       2.5278   0.0302  1.7218   \n",
        "4       Kingsbridge and Riverdale  0.1136       0.3014   2.9866  0.1572   \n",
        "5                 Northeast Bronx  0.8832       2.3460   1.1422  1.4760   \n",
        "6                 Southeast Bronx  0.8832       2.3460   1.1422  1.4760   \n",
        "7                Central Brooklyn  2.2554       2.5626   1.4340  2.3662   \n",
        "8              Southwest Brooklyn  2.4870       2.7846   1.6470  2.0632   \n",
        "9                    Borough Park  0.6950       2.3712   0.5116  0.7934   \n",
        "10         Canarsie and Flatlands  0.3366       2.1216   0.1358  0.3928   \n",
        "11              Southern Brooklyn  0.0000       0.0000   0.0000  0.0000   \n",
        "12             Northwest Brooklyn  2.4870       2.7846   1.6470  2.0632   \n",
        "13                       Flatbush  2.7194       2.7542   2.1464  2.3446   \n",
        "14     East New York and New Lots  0.0000       0.4070   0.0000  0.0000   \n",
        "15                     Greenpoint  2.8066       2.9680   2.3124  2.3448   \n",
        "16                    Sunset Park  2.3882       2.7632   0.9974  2.1322   \n",
        "17      Bushwick and Williamsburg  2.9198       3.3180   1.2038  3.0138   \n",
        "18                 Central Harlem  0.0000       0.0000   0.0000  0.0000   \n",
        "19            Chelsea and Clinton  0.8688       2.3424   2.1932  0.8620   \n",
        "20                    East Harlem  2.8096       2.9794   1.8194  2.4080   \n",
        "21  Gramercy Park and Murray Hill  3.3360       3.7516   2.3438  3.2514   \n",
        "22     Greenwich Village and Soho  3.4224       4.2702   2.4332  3.3308   \n",
        "23                Lower Manhattan  3.1904       3.9474   2.0918  3.3462   \n",
        "24                Lower East Side  3.2718       3.6176   2.2530  2.7510   \n",
        "25                Upper East Side  3.0774       3.5698   2.3396  2.5306   \n",
        "26                Upper West Side  3.0486       3.6388   2.4366  2.6704   \n",
        "27  Inwood and Washington Heights  0.1246       0.1246   0.0000  0.0000   \n",
        "28               Northeast Queens  2.3248       2.7188   0.4808  2.0948   \n",
        "29                   North Queens  2.3248       2.7188   0.4808  2.0948   \n",
        "30                 Central Queens  0.0000       0.0000   0.0000  0.0000   \n",
        "31                        Jamaica  0.1810       2.7996   2.5590  0.5504   \n",
        "32               Northwest Queens  2.3248       2.7188   0.4808  2.0948   \n",
        "33            West Central Queens  0.0000       0.0000   0.0000  0.0000   \n",
        "34                      Rockaways  0.5356       2.3828   2.5260  0.8618   \n",
        "35               Southeast Queens  2.3248       2.7188   0.4808  2.0948   \n",
        "36               Southwest Queens  2.3248       2.7188   0.4808  2.0948   \n",
        "37                    West Queens  2.3248       2.7188   0.4808  2.0948   \n",
        "38                  Port Richmond  0.3308       2.1850   0.1502  0.4678   \n",
        "39                    South Shore  0.4698       2.1682   0.2258  0.3204   \n",
        "40       Stapleton and St. George  0.0000       0.0000   0.0000  0.0000   \n",
        "41                     Mid-Island  0.0000       0.0000   0.0000  0.0000   \n",
        "\n",
        "    hospitals  coffee  boutique  clothing  education    arts  \n",
        "0      0.0000  0.1240    0.0000    0.0000     0.0000  0.1962  \n",
        "1      0.1358  1.6246    0.3694    0.2814     0.8620  2.0708  \n",
        "2      0.0616  0.9702    0.0906    0.8448     0.0604  0.1504  \n",
        "3      0.2574  1.5546    0.1364    0.5886     0.2858  0.6204  \n",
        "4      0.4822  3.1212    0.3016    0.4526     2.1062  2.8250  \n",
        "5      1.4610  1.2800    0.3694    0.2552     0.5758  1.7852  \n",
        "6      1.4610  1.2800    0.3694    0.2552     0.5758  1.7852  \n",
        "7      0.6908  2.3214    0.1746    1.1776     0.5276  1.4330  \n",
        "8      0.0302  2.6906    0.9268    1.4218     0.3992  2.0554  \n",
        "9      0.7684  1.6886    0.2862    0.8572     0.0302  0.7224  \n",
        "10     0.0754  0.1206    0.0000    0.2558     0.7532  0.6326  \n",
        "11     0.0000  0.0000    0.0000    0.0000     0.0000  0.0000  \n",
        "12     0.0302  2.6906    0.9268    1.4218     0.3992  2.0554  \n",
        "13     2.1718  2.6712    2.0660    2.5960     2.9664  2.9380  \n",
        "14     0.0000  0.0302    0.0000    0.0000     0.1530  0.0626  \n",
        "15     0.5364  2.9586    2.0944    2.5832     1.8420  2.8606  \n",
        "16     0.0316  2.4496    0.0904    0.7094     0.5074  1.4460  \n",
        "17     1.0262  2.9012    2.6016    2.6480     2.4086  2.8000  \n",
        "18     0.0000  0.0000    0.0000    0.0000     0.0000  0.0000  \n",
        "19     2.5870  0.9584    0.1208    0.1508     0.6194  2.9002  \n",
        "20     0.6326  2.4526    0.6846    1.7260     1.2816  2.4242  \n",
        "21     2.6846  2.9390    2.5496    2.3916     2.7340  2.6254  \n",
        "22     2.5992  3.1632    2.6634    2.4864     2.7702  2.6714  \n",
        "23     2.5004  3.1882    2.4874    2.7194     2.8674  2.8920  \n",
        "24     0.8280  3.0344    2.6750    2.7618     2.8166  2.6662  \n",
        "25     2.6612  2.8344    2.3632    2.2070     2.6966  2.6194  \n",
        "26     2.6820  3.0678    2.1876    2.2142     2.7970  2.8704  \n",
        "27     0.0000  0.0000    0.0000    0.0000     0.0000  0.0000  \n",
        "28     0.0756  2.4170    0.2704    1.1886     0.4818  0.9992  \n",
        "29     0.0756  2.4170    0.2704    1.1886     0.4818  0.9992  \n",
        "30     0.0000  0.0000    0.0000    0.0000     0.0000  0.0000  \n",
        "31     0.7880  1.0210    1.2086    2.5674     2.9112  2.9868  \n",
        "32     0.0756  2.4170    0.2704    1.1886     0.4818  0.9992  \n",
        "33     0.0000  0.0000    0.0000    0.0000     0.0000  0.0000  \n",
        "34     0.6372  0.7936    1.2086    2.4930     2.9136  3.0048  \n",
        "35     0.0756  2.4170    0.2704    1.1886     0.4818  0.9992  \n",
        "36     0.0756  2.4170    0.2704    1.1886     0.4818  0.9992  \n",
        "37     0.0756  2.4170    0.2704    1.1886     0.4818  0.9992  \n",
        "38     0.1354  0.0000    0.1202    0.1202     0.1504  0.3922  \n",
        "39     0.1202  0.3942    0.3010    0.1504     0.3012  0.2300  \n",
        "40     0.0000  0.0000    0.0000    0.0000     0.0000  0.0000  \n",
        "41     0.0000  0.0000    0.0000    0.0000     0.0000  0.0000  "
       ]
      }
     ],
     "prompt_number": 4
    },
    {
     "cell_type": "code",
     "collapsed": false,
     "input": [
      "columns = ['bars','restaurants','laundry','pizza','hospitals','coffee','boutique','clothing','education','arts']\n",
      "def calculate_similarity(item1, item2):\n",
      "    dists = []\n",
      "    for f in columns:\n",
      "        dists.append(euclidean_distances(df[df['Neighborhood']==item1][f], df[df['Neighborhood']==item2][f])[0][0])\n",
      "    \n",
      "    return dists"
     ],
     "language": "python",
     "metadata": {},
     "outputs": [],
     "prompt_number": 5
    },
    {
     "cell_type": "code",
     "collapsed": false,
     "input": [
      "simple_distances = []\n",
      "for i in df['Neighborhood']:\n",
      "    print \"starting\", i\n",
      "    for j in df['Neighborhood']:\n",
      "        if i != j:\n",
      "            row = [i, j] + calculate_similarity(i, j)\n",
      "            simple_distances.append(row)"
     ],
     "language": "python",
     "metadata": {},
     "outputs": [
      {
       "output_type": "stream",
       "stream": "stdout",
       "text": [
        "starting Central Bronx\n",
        "starting"
       ]
      },
      {
       "output_type": "stream",
       "stream": "stdout",
       "text": [
        " Bronx Park and Fordham\n",
        "starting"
       ]
      },
      {
       "output_type": "stream",
       "stream": "stdout",
       "text": [
        " High Bridge and Morrisania\n",
        "starting"
       ]
      },
      {
       "output_type": "stream",
       "stream": "stdout",
       "text": [
        " Hunts Point and Mott Haven\n",
        "starting"
       ]
      },
      {
       "output_type": "stream",
       "stream": "stdout",
       "text": [
        " Kingsbridge and Riverdale\n",
        "starting"
       ]
      },
      {
       "output_type": "stream",
       "stream": "stdout",
       "text": [
        " Northeast Bronx\n",
        "starting"
       ]
      },
      {
       "output_type": "stream",
       "stream": "stdout",
       "text": [
        " Southeast Bronx\n",
        "starting"
       ]
      },
      {
       "output_type": "stream",
       "stream": "stdout",
       "text": [
        " Central Brooklyn\n",
        "starting"
       ]
      },
      {
       "output_type": "stream",
       "stream": "stdout",
       "text": [
        " Southwest Brooklyn\n",
        "starting"
       ]
      },
      {
       "output_type": "stream",
       "stream": "stdout",
       "text": [
        " Borough Park\n",
        "starting"
       ]
      },
      {
       "output_type": "stream",
       "stream": "stdout",
       "text": [
        " Canarsie and Flatlands\n",
        "starting"
       ]
      },
      {
       "output_type": "stream",
       "stream": "stdout",
       "text": [
        " Southern Brooklyn\n",
        "starting"
       ]
      },
      {
       "output_type": "stream",
       "stream": "stdout",
       "text": [
        " Northwest Brooklyn\n",
        "starting"
       ]
      },
      {
       "output_type": "stream",
       "stream": "stdout",
       "text": [
        " Flatbush\n",
        "starting"
       ]
      },
      {
       "output_type": "stream",
       "stream": "stdout",
       "text": [
        " East New York and New Lots\n",
        "starting"
       ]
      },
      {
       "output_type": "stream",
       "stream": "stdout",
       "text": [
        " Greenpoint\n",
        "starting"
       ]
      },
      {
       "output_type": "stream",
       "stream": "stdout",
       "text": [
        " Sunset Park\n",
        "starting"
       ]
      },
      {
       "output_type": "stream",
       "stream": "stdout",
       "text": [
        " Bushwick and Williamsburg\n",
        "starting"
       ]
      },
      {
       "output_type": "stream",
       "stream": "stdout",
       "text": [
        " Central Harlem\n",
        "starting"
       ]
      },
      {
       "output_type": "stream",
       "stream": "stdout",
       "text": [
        " Chelsea and Clinton\n",
        "starting"
       ]
      },
      {
       "output_type": "stream",
       "stream": "stdout",
       "text": [
        " East Harlem\n",
        "starting"
       ]
      },
      {
       "output_type": "stream",
       "stream": "stdout",
       "text": [
        " Gramercy Park and Murray Hill\n",
        "starting"
       ]
      },
      {
       "output_type": "stream",
       "stream": "stdout",
       "text": [
        " Greenwich Village and Soho\n",
        "starting"
       ]
      },
      {
       "output_type": "stream",
       "stream": "stdout",
       "text": [
        " Lower Manhattan\n",
        "starting"
       ]
      },
      {
       "output_type": "stream",
       "stream": "stdout",
       "text": [
        " Lower East Side\n",
        "starting"
       ]
      },
      {
       "output_type": "stream",
       "stream": "stdout",
       "text": [
        " Upper East Side\n",
        "starting"
       ]
      },
      {
       "output_type": "stream",
       "stream": "stdout",
       "text": [
        " Upper West Side\n",
        "starting"
       ]
      },
      {
       "output_type": "stream",
       "stream": "stdout",
       "text": [
        " Inwood and Washington Heights\n",
        "starting"
       ]
      },
      {
       "output_type": "stream",
       "stream": "stdout",
       "text": [
        " Northeast Queens\n",
        "starting"
       ]
      },
      {
       "output_type": "stream",
       "stream": "stdout",
       "text": [
        " North Queens\n",
        "starting"
       ]
      },
      {
       "output_type": "stream",
       "stream": "stdout",
       "text": [
        " Central Queens\n",
        "starting"
       ]
      },
      {
       "output_type": "stream",
       "stream": "stdout",
       "text": [
        " Jamaica\n",
        "starting"
       ]
      },
      {
       "output_type": "stream",
       "stream": "stdout",
       "text": [
        " Northwest Queens\n",
        "starting"
       ]
      },
      {
       "output_type": "stream",
       "stream": "stdout",
       "text": [
        " West Central Queens\n",
        "starting"
       ]
      },
      {
       "output_type": "stream",
       "stream": "stdout",
       "text": [
        " Rockaways\n",
        "starting"
       ]
      },
      {
       "output_type": "stream",
       "stream": "stdout",
       "text": [
        " Southeast Queens\n",
        "starting"
       ]
      },
      {
       "output_type": "stream",
       "stream": "stdout",
       "text": [
        " Southwest Queens\n",
        "starting"
       ]
      },
      {
       "output_type": "stream",
       "stream": "stdout",
       "text": [
        " West Queens\n",
        "starting"
       ]
      },
      {
       "output_type": "stream",
       "stream": "stdout",
       "text": [
        " Port Richmond\n",
        "starting"
       ]
      },
      {
       "output_type": "stream",
       "stream": "stdout",
       "text": [
        " South Shore\n",
        "starting"
       ]
      },
      {
       "output_type": "stream",
       "stream": "stdout",
       "text": [
        " Stapleton and St. George\n",
        "starting"
       ]
      },
      {
       "output_type": "stream",
       "stream": "stdout",
       "text": [
        " Mid-Island\n"
       ]
      }
     ],
     "prompt_number": 7
    },
    {
     "cell_type": "code",
     "collapsed": false,
     "input": [
      "cols = [\"Neighborhood 1\", \"Neighborhood 2\",'bars','restaurants','laundry','pizza','hospitals','coffee','boutique','clothing','education','arts']\n",
      "simple_distances = pd.DataFrame(simple_distances, columns=cols)\n",
      "simple_distances.tail()"
     ],
     "language": "python",
     "metadata": {},
     "outputs": [
      {
       "html": [
        "<div style=\"max-height:1000px;max-width:1500px;overflow:auto;\">\n",
        "<table border=\"1\" class=\"dataframe\">\n",
        "  <thead>\n",
        "    <tr style=\"text-align: right;\">\n",
        "      <th></th>\n",
        "      <th>Neighborhood 1</th>\n",
        "      <th>Neighborhood 2</th>\n",
        "      <th>bars</th>\n",
        "      <th>restaurants</th>\n",
        "      <th>laundry</th>\n",
        "      <th>pizza</th>\n",
        "      <th>hospitals</th>\n",
        "      <th>coffee</th>\n",
        "      <th>boutique</th>\n",
        "      <th>clothing</th>\n",
        "      <th>education</th>\n",
        "      <th>arts</th>\n",
        "    </tr>\n",
        "  </thead>\n",
        "  <tbody>\n",
        "    <tr>\n",
        "      <th>1717</th>\n",
        "      <td> Mid-Island</td>\n",
        "      <td>         Southwest Queens</td>\n",
        "      <td> 2.3248</td>\n",
        "      <td> 2.7188</td>\n",
        "      <td> 0.4808</td>\n",
        "      <td> 2.0948</td>\n",
        "      <td> 0.0756</td>\n",
        "      <td> 2.4170</td>\n",
        "      <td> 0.2704</td>\n",
        "      <td> 1.1886</td>\n",
        "      <td> 0.4818</td>\n",
        "      <td> 0.9992</td>\n",
        "    </tr>\n",
        "    <tr>\n",
        "      <th>1718</th>\n",
        "      <td> Mid-Island</td>\n",
        "      <td>              West Queens</td>\n",
        "      <td> 2.3248</td>\n",
        "      <td> 2.7188</td>\n",
        "      <td> 0.4808</td>\n",
        "      <td> 2.0948</td>\n",
        "      <td> 0.0756</td>\n",
        "      <td> 2.4170</td>\n",
        "      <td> 0.2704</td>\n",
        "      <td> 1.1886</td>\n",
        "      <td> 0.4818</td>\n",
        "      <td> 0.9992</td>\n",
        "    </tr>\n",
        "    <tr>\n",
        "      <th>1719</th>\n",
        "      <td> Mid-Island</td>\n",
        "      <td>            Port Richmond</td>\n",
        "      <td> 0.3308</td>\n",
        "      <td> 2.1850</td>\n",
        "      <td> 0.1502</td>\n",
        "      <td> 0.4678</td>\n",
        "      <td> 0.1354</td>\n",
        "      <td> 0.0000</td>\n",
        "      <td> 0.1202</td>\n",
        "      <td> 0.1202</td>\n",
        "      <td> 0.1504</td>\n",
        "      <td> 0.3922</td>\n",
        "    </tr>\n",
        "    <tr>\n",
        "      <th>1720</th>\n",
        "      <td> Mid-Island</td>\n",
        "      <td>              South Shore</td>\n",
        "      <td> 0.4698</td>\n",
        "      <td> 2.1682</td>\n",
        "      <td> 0.2258</td>\n",
        "      <td> 0.3204</td>\n",
        "      <td> 0.1202</td>\n",
        "      <td> 0.3942</td>\n",
        "      <td> 0.3010</td>\n",
        "      <td> 0.1504</td>\n",
        "      <td> 0.3012</td>\n",
        "      <td> 0.2300</td>\n",
        "    </tr>\n",
        "    <tr>\n",
        "      <th>1721</th>\n",
        "      <td> Mid-Island</td>\n",
        "      <td> Stapleton and St. George</td>\n",
        "      <td> 0.0000</td>\n",
        "      <td> 0.0000</td>\n",
        "      <td> 0.0000</td>\n",
        "      <td> 0.0000</td>\n",
        "      <td> 0.0000</td>\n",
        "      <td> 0.0000</td>\n",
        "      <td> 0.0000</td>\n",
        "      <td> 0.0000</td>\n",
        "      <td> 0.0000</td>\n",
        "      <td> 0.0000</td>\n",
        "    </tr>\n",
        "  </tbody>\n",
        "</table>\n",
        "</div>"
       ],
       "metadata": {},
       "output_type": "pyout",
       "prompt_number": 8,
       "text": [
        "     Neighborhood 1            Neighborhood 2    bars  restaurants  laundry  \\\n",
        "1717     Mid-Island          Southwest Queens  2.3248       2.7188   0.4808   \n",
        "1718     Mid-Island               West Queens  2.3248       2.7188   0.4808   \n",
        "1719     Mid-Island             Port Richmond  0.3308       2.1850   0.1502   \n",
        "1720     Mid-Island               South Shore  0.4698       2.1682   0.2258   \n",
        "1721     Mid-Island  Stapleton and St. George  0.0000       0.0000   0.0000   \n",
        "\n",
        "       pizza  hospitals  coffee  boutique  clothing  education    arts  \n",
        "1717  2.0948     0.0756  2.4170    0.2704    1.1886     0.4818  0.9992  \n",
        "1718  2.0948     0.0756  2.4170    0.2704    1.1886     0.4818  0.9992  \n",
        "1719  0.4678     0.1354  0.0000    0.1202    0.1202     0.1504  0.3922  \n",
        "1720  0.3204     0.1202  0.3942    0.3010    0.1504     0.3012  0.2300  \n",
        "1721  0.0000     0.0000  0.0000    0.0000    0.0000     0.0000  0.0000  "
       ]
      }
     ],
     "prompt_number": 8
    },
    {
     "cell_type": "code",
     "collapsed": false,
     "input": [
      "def calc_distance(dists, z1, z2, weights):\n",
      "    mask = (dists['Neighborhood 1']==z1) & (dists['Neighborhood 2']==z2)\n",
      "    row = dists[mask]\n",
      "    row = row[['bars','restaurants','laundry','pizza','hospitals','coffee','boutique','clothing','education','arts']]\n",
      "    dist = weights * row\n",
      "    return dist.sum(axis=1).tolist()[0]\n"
     ],
     "language": "python",
     "metadata": {},
     "outputs": [],
     "prompt_number": 9
    },
    {
     "cell_type": "code",
     "collapsed": false,
     "input": [
      "#Adjust the weights to give priorities to one feature over another. Set preferences based in this manner.\n",
      "#The output shows the neighborhood most similar to the ones we want based on its similarity to these features.\n"
     ],
     "language": "python",
     "metadata": {},
     "outputs": [],
     "prompt_number": 10
    },
    {
     "cell_type": "code",
     "collapsed": false,
     "input": [
      "def minimum_sim_calc(neighborhood,weights,k):\n",
      "    m1 = 1000\n",
      "    l = []\n",
      "    for j in df['Neighborhood']:\n",
      "        if j!=neighborhood:\n",
      "            l.append((calc_distance(simple_distances, neighborhood, j, weights),j))\n",
      "            #if calc_distance(simple_distances, neighborhood, j, weights)<m1:\n",
      "            #m1 = min(calc_distance(simple_distances, neighborhood, j, weights),m1)\n",
      "            #m = (m1,j)\n",
      "    l =sorted(l,key=lambda x: x[0])\n",
      "    print \"The\",k,\"most similar neighborhoods to\",neighborhood,\"are:\"\n",
      "    for i in xrange(k):\n",
      "        print l[i][1],\".The similarity score is =\",l[i][0]\n",
      "    #print \"Neighborhood:\",neighborhood,\"is most similar to Neighborhood:\",m[1],\".The similarity score is =\",m[0]\n",
      " "
     ],
     "language": "python",
     "metadata": {},
     "outputs": [],
     "prompt_number": 19
    },
    {
     "cell_type": "code",
     "collapsed": false,
     "input": [
      "weights = [10,10,1,1,1,1,1,1,1,1]\n",
      "n = \"Lower East Side\"\n",
      "k = 3\n",
      "minimum_sim_calc(n,weights,k)"
     ],
     "language": "python",
     "metadata": {},
     "outputs": [
      {
       "output_type": "stream",
       "stream": "stdout",
       "text": [
        "The 3 most similar neighborhoods to Lower East Side are:\n",
        "Gramercy Park and Murray Hill .The similarity score is = 5.1442\n",
        "Upper East Side .The similarity score is = 5.7956\n",
        "Upper West Side .The similarity score is = 5.8544\n"
       ]
      }
     ],
     "prompt_number": 20
    },
    {
     "cell_type": "code",
     "collapsed": false,
     "input": [
      "weights = [1,1,1,1,1,1,1,1,1,1]\n",
      "\n",
      "for i in df['Zip Code']:\n",
      "    m1 = 1000\n",
      "    for j in df['Zip Code']:\n",
      "        if i!=j:\n",
      "            if calc_distance(simple_distances, i, j, weights)<m1:\n",
      "                m1 = min(calc_distance(simple_distances, i, j, weights),m1)\n",
      "                m = (m1,j)\n",
      "    print i,m[1],m[0]\n",
      "#print simple_distances['Zip Code 1']\n",
      "#print simple_distances[simple_distances['Zip Code 1'] == 11101]"
     ],
     "language": "python",
     "metadata": {},
     "outputs": [
      {
       "output_type": "stream",
       "stream": "stdout",
       "text": [
        "10001 11215 1.6854\n",
        "10002"
       ]
      },
      {
       "output_type": "stream",
       "stream": "stdout",
       "text": [
        " 11211 2.424\n",
        "10003"
       ]
      },
      {
       "output_type": "stream",
       "stream": "stdout",
       "text": [
        " 10009 2.3592\n",
        "10004"
       ]
      },
      {
       "output_type": "stream",
       "stream": "stdout",
       "text": [
        " 10006 0.968599999997\n",
        "10005"
       ]
      },
      {
       "output_type": "stream",
       "stream": "stdout",
       "text": [
        " 10162 2.41\n",
        "10006"
       ]
      },
      {
       "output_type": "stream",
       "stream": "stdout",
       "text": [
        " 10004 0.968599999997\n",
        "10007"
       ]
      },
      {
       "output_type": "stream",
       "stream": "stdout",
       "text": [
        " 10271 0.893\n",
        "10009"
       ]
      },
      {
       "output_type": "stream",
       "stream": "stdout",
       "text": [
        " 10003 2.3592\n",
        "10010"
       ]
      },
      {
       "output_type": "stream",
       "stream": "stdout",
       "text": [
        " 10028 1.4802\n",
        "10011"
       ]
      },
      {
       "output_type": "stream",
       "stream": "stdout",
       "text": [
        " 10014 2.3988\n",
        "10012"
       ]
      },
      {
       "output_type": "stream",
       "stream": "stdout",
       "text": [
        " 10278 2.0498\n",
        "10013"
       ]
      },
      {
       "output_type": "stream",
       "stream": "stdout",
       "text": [
        " 10168 0.959399999999\n",
        "10014"
       ]
      },
      {
       "output_type": "stream",
       "stream": "stdout",
       "text": [
        " 10011 2.3988\n",
        "10016"
       ]
      },
      {
       "output_type": "stream",
       "stream": "stdout",
       "text": [
        " 10165 1.327\n",
        "10017"
       ]
      },
      {
       "output_type": "stream",
       "stream": "stdout",
       "text": [
        " 10065 1.1404\n",
        "10018"
       ]
      },
      {
       "output_type": "stream",
       "stream": "stdout",
       "text": [
        " 10016 1.673\n",
        "10019"
       ]
      },
      {
       "output_type": "stream",
       "stream": "stdout",
       "text": [
        " 10199 3.1102\n",
        "10020"
       ]
      },
      {
       "output_type": "stream",
       "stream": "stdout",
       "text": [
        " 10112 1.0902\n",
        "10021"
       ]
      },
      {
       "output_type": "stream",
       "stream": "stdout",
       "text": [
        " 10028 0.8866\n",
        "10022"
       ]
      },
      {
       "output_type": "stream",
       "stream": "stdout",
       "text": [
        " 10271 1.6034\n",
        "10023"
       ]
      },
      {
       "output_type": "stream",
       "stream": "stdout",
       "text": [
        " 10017 1.6814\n",
        "10024"
       ]
      },
      {
       "output_type": "stream",
       "stream": "stdout",
       "text": [
        " 10075 0.914199999998\n",
        "10025"
       ]
      },
      {
       "output_type": "stream",
       "stream": "stdout",
       "text": [
        " 10026 2.2104\n",
        "10026"
       ]
      },
      {
       "output_type": "stream",
       "stream": "stdout",
       "text": [
        " 11216 2.1916\n",
        "10027"
       ]
      },
      {
       "output_type": "stream",
       "stream": "stdout",
       "text": [
        " 10115 2.6578\n",
        "10028"
       ]
      },
      {
       "output_type": "stream",
       "stream": "stdout",
       "text": [
        " 10021 0.8866\n",
        "10029"
       ]
      },
      {
       "output_type": "stream",
       "stream": "stdout",
       "text": [
        " 11216 2.7062\n",
        "10030"
       ]
      },
      {
       "output_type": "stream",
       "stream": "stdout",
       "text": [
        " 11209 3.323\n",
        "10031"
       ]
      },
      {
       "output_type": "stream",
       "stream": "stdout",
       "text": [
        " 10040 3.6904\n",
        "10032"
       ]
      },
      {
       "output_type": "stream",
       "stream": "stdout",
       "text": [
        " 11220 2.3998\n",
        "10033"
       ]
      },
      {
       "output_type": "stream",
       "stream": "stdout",
       "text": [
        " 11360 2.4736\n",
        "10034"
       ]
      },
      {
       "output_type": "stream",
       "stream": "stdout",
       "text": [
        " 11101 3.4874\n",
        "10035"
       ]
      },
      {
       "output_type": "stream",
       "stream": "stdout",
       "text": [
        " 10301 2.1696\n",
        "10036"
       ]
      },
      {
       "output_type": "stream",
       "stream": "stdout",
       "text": [
        " 10018 1.8978\n",
        "10037"
       ]
      },
      {
       "output_type": "stream",
       "stream": "stdout",
       "text": [
        " 11102 3.26\n",
        "10038"
       ]
      },
      {
       "output_type": "stream",
       "stream": "stdout",
       "text": [
        " 10271 1.4092\n",
        "10039"
       ]
      },
      {
       "output_type": "stream",
       "stream": "stdout",
       "text": [
        " 11210 3.8438\n",
        "10040"
       ]
      },
      {
       "output_type": "stream",
       "stream": "stdout",
       "text": [
        " 11220 3.4424\n",
        "10044"
       ]
      },
      {
       "output_type": "stream",
       "stream": "stdout",
       "text": [
        " 10032 3.802\n",
        "10065"
       ]
      },
      {
       "output_type": "stream",
       "stream": "stdout",
       "text": [
        " 10017 1.1404\n",
        "10069"
       ]
      },
      {
       "output_type": "stream",
       "stream": "stdout",
       "text": [
        " 10030 4.6856\n",
        "10075"
       ]
      },
      {
       "output_type": "stream",
       "stream": "stdout",
       "text": [
        " 10024 0.914199999998\n",
        "10103"
       ]
      },
      {
       "output_type": "stream",
       "stream": "stdout",
       "text": [
        " 10172 0.799999999999\n",
        "10110"
       ]
      },
      {
       "output_type": "stream",
       "stream": "stdout",
       "text": [
        " 10171 0.8168\n",
        "10111"
       ]
      },
      {
       "output_type": "stream",
       "stream": "stdout",
       "text": [
        " 10171 0.8778\n",
        "10112"
       ]
      },
      {
       "output_type": "stream",
       "stream": "stdout",
       "text": [
        " 10020 1.0902\n",
        "10115"
       ]
      },
      {
       "output_type": "stream",
       "stream": "stdout",
       "text": [
        " 10027 2.6578\n",
        "10119"
       ]
      },
      {
       "output_type": "stream",
       "stream": "stdout",
       "text": [
        " 10199 0.635400000001\n",
        "10128"
       ]
      },
      {
       "output_type": "stream",
       "stream": "stdout",
       "text": [
        " 10021 1.4066\n",
        "10152"
       ]
      },
      {
       "output_type": "stream",
       "stream": "stdout",
       "text": [
        " 10154 0.6768\n",
        "10153"
       ]
      },
      {
       "output_type": "stream",
       "stream": "stdout",
       "text": [
        " 10065 2.4012\n",
        "10154"
       ]
      },
      {
       "output_type": "stream",
       "stream": "stdout",
       "text": [
        " 10152 0.6768\n",
        "10162"
       ]
      },
      {
       "output_type": "stream",
       "stream": "stdout",
       "text": [
        " 10128 1.587\n",
        "10165"
       ]
      },
      {
       "output_type": "stream",
       "stream": "stdout",
       "text": [
        " 10112 1.3116\n",
        "10167"
       ]
      },
      {
       "output_type": "stream",
       "stream": "stdout",
       "text": [
        " 10171 0.6676\n",
        "10168"
       ]
      },
      {
       "output_type": "stream",
       "stream": "stdout",
       "text": [
        " 10170 0.458\n",
        "10169"
       ]
      },
      {
       "output_type": "stream",
       "stream": "stdout",
       "text": [
        " 10177 0.9808\n",
        "10170"
       ]
      },
      {
       "output_type": "stream",
       "stream": "stdout",
       "text": [
        " 10168 0.458\n",
        "10171"
       ]
      },
      {
       "output_type": "stream",
       "stream": "stdout",
       "text": [
        " 10167 0.6676\n",
        "10172"
       ]
      },
      {
       "output_type": "stream",
       "stream": "stdout",
       "text": [
        " 10168 0.736200000001\n",
        "10173"
       ]
      },
      {
       "output_type": "stream",
       "stream": "stdout",
       "text": [
        " 10168 0.815599999996\n",
        "10174"
       ]
      },
      {
       "output_type": "stream",
       "stream": "stdout",
       "text": [
        " 10170 0.811599999994\n",
        "10177"
       ]
      },
      {
       "output_type": "stream",
       "stream": "stdout",
       "text": [
        " 10172 0.8684\n",
        "10199"
       ]
      },
      {
       "output_type": "stream",
       "stream": "stdout",
       "text": [
        " 10119 0.635400000001\n",
        "10271"
       ]
      },
      {
       "output_type": "stream",
       "stream": "stdout",
       "text": [
        " 10007 0.893\n",
        "10278"
       ]
      },
      {
       "output_type": "stream",
       "stream": "stdout",
       "text": [
        " 10165 1.635\n",
        "10279"
       ]
      },
      {
       "output_type": "stream",
       "stream": "stdout",
       "text": [
        " 10152 1.3534\n",
        "10280"
       ]
      },
      {
       "output_type": "stream",
       "stream": "stdout",
       "text": [
        " 10025 2.4068\n",
        "10282"
       ]
      },
      {
       "output_type": "stream",
       "stream": "stdout",
       "text": [
        " 11201 2.7648\n",
        "10301"
       ]
      },
      {
       "output_type": "stream",
       "stream": "stdout",
       "text": [
        " 10473 1.4142\n",
        "10302"
       ]
      },
      {
       "output_type": "stream",
       "stream": "stdout",
       "text": [
        " 11371 3.0146\n",
        "10303"
       ]
      },
      {
       "output_type": "stream",
       "stream": "stdout",
       "text": [
        " 10309 0.621\n",
        "10304"
       ]
      },
      {
       "output_type": "stream",
       "stream": "stdout",
       "text": [
        " 11414 1.3154\n",
        "10305"
       ]
      },
      {
       "output_type": "stream",
       "stream": "stdout",
       "text": [
        " 11378 3.1424\n",
        "10306"
       ]
      },
      {
       "output_type": "stream",
       "stream": "stdout",
       "text": [
        " 10301 1.5856\n",
        "10307"
       ]
      },
      {
       "output_type": "stream",
       "stream": "stdout",
       "text": [
        " 11378 1.906\n",
        "10308"
       ]
      },
      {
       "output_type": "stream",
       "stream": "stdout",
       "text": [
        " 11417 2.7994\n",
        "10309"
       ]
      },
      {
       "output_type": "stream",
       "stream": "stdout",
       "text": [
        " 10303 0.621\n",
        "10310"
       ]
      },
      {
       "output_type": "stream",
       "stream": "stdout",
       "text": [
        " 11207 1.8206\n",
        "10311"
       ]
      },
      {
       "output_type": "stream",
       "stream": "stdout",
       "text": [
        " 11426 0.5346\n",
        "10312"
       ]
      },
      {
       "output_type": "stream",
       "stream": "stdout",
       "text": [
        " 10464 1.1378\n",
        "10314"
       ]
      },
      {
       "output_type": "stream",
       "stream": "stdout",
       "text": [
        " 10311 1.3736\n",
        "10451"
       ]
      },
      {
       "output_type": "stream",
       "stream": "stdout",
       "text": [
        " 10465 1.9042\n",
        "10452"
       ]
      },
      {
       "output_type": "stream",
       "stream": "stdout",
       "text": [
        " 11417 2.1898\n",
        "10453"
       ]
      },
      {
       "output_type": "stream",
       "stream": "stdout",
       "text": [
        " 11212 2.0352\n",
        "10454"
       ]
      },
      {
       "output_type": "stream",
       "stream": "stdout",
       "text": [
        " 10469 1.4602\n",
        "10455"
       ]
      },
      {
       "output_type": "stream",
       "stream": "stdout",
       "text": [
        " 10310 2.36\n",
        "10456"
       ]
      },
      {
       "output_type": "stream",
       "stream": "stdout",
       "text": [
        " 10460 1.9524\n",
        "10457"
       ]
      },
      {
       "output_type": "stream",
       "stream": "stdout",
       "text": [
        " 11208 1.549\n",
        "10458"
       ]
      },
      {
       "output_type": "stream",
       "stream": "stdout",
       "text": [
        " 11232 3.3718\n",
        "10459"
       ]
      },
      {
       "output_type": "stream",
       "stream": "stdout",
       "text": [
        " 11236 1.7012\n",
        "10460"
       ]
      },
      {
       "output_type": "stream",
       "stream": "stdout",
       "text": [
        " 11434 1.1436\n",
        "10461"
       ]
      },
      {
       "output_type": "stream",
       "stream": "stdout",
       "text": [
        " 11416 2.2892\n",
        "10462"
       ]
      },
      {
       "output_type": "stream",
       "stream": "stdout",
       "text": [
        " 11418 1.9738\n",
        "10463"
       ]
      },
      {
       "output_type": "stream",
       "stream": "stdout",
       "text": [
        " 11214 2.155\n",
        "10464"
       ]
      },
      {
       "output_type": "stream",
       "stream": "stdout",
       "text": [
        " 11234 0.4744\n",
        "10465"
       ]
      },
      {
       "output_type": "stream",
       "stream": "stdout",
       "text": [
        " 10470 1.6168\n",
        "10466"
       ]
      },
      {
       "output_type": "stream",
       "stream": "stdout",
       "text": [
        " 10312 1.1726\n",
        "10467"
       ]
      },
      {
       "output_type": "stream",
       "stream": "stdout",
       "text": [
        " 11208 1.9358\n",
        "10468"
       ]
      },
      {
       "output_type": "stream",
       "stream": "stdout",
       "text": [
        " 11416 4.1516\n",
        "10469"
       ]
      },
      {
       "output_type": "stream",
       "stream": "stdout",
       "text": [
        " 10454 1.4602\n",
        "10470"
       ]
      },
      {
       "output_type": "stream",
       "stream": "stdout",
       "text": [
        " 10465 1.6168\n",
        "10471"
       ]
      },
      {
       "output_type": "stream",
       "stream": "stdout",
       "text": [
        " 11413 2.8446\n",
        "10472"
       ]
      },
      {
       "output_type": "stream",
       "stream": "stdout",
       "text": [
        " 11212 1.5756\n",
        "10473"
       ]
      },
      {
       "output_type": "stream",
       "stream": "stdout",
       "text": [
        " 11697 0.7532\n",
        "10474"
       ]
      },
      {
       "output_type": "stream",
       "stream": "stdout",
       "text": [
        " 11434 1.3562\n",
        "10475"
       ]
      },
      {
       "output_type": "stream",
       "stream": "stdout",
       "text": [
        " 11432 2.4196\n",
        "11004"
       ]
      },
      {
       "output_type": "stream",
       "stream": "stdout",
       "text": [
        " 11364 4.7352\n",
        "11005"
       ]
      },
      {
       "output_type": "stream",
       "stream": "stdout",
       "text": [
        " 10314 1.9304\n",
        "11101"
       ]
      },
      {
       "output_type": "stream",
       "stream": "stdout",
       "text": [
        " 11104 2.8924\n",
        "11102"
       ]
      },
      {
       "output_type": "stream",
       "stream": "stdout",
       "text": [
        " 11220 2.4166\n",
        "11103"
       ]
      },
      {
       "output_type": "stream",
       "stream": "stdout",
       "text": [
        " 10029 3.3366\n",
        "11104"
       ]
      },
      {
       "output_type": "stream",
       "stream": "stdout",
       "text": [
        " 11377 1.2152\n",
        "11105"
       ]
      },
      {
       "output_type": "stream",
       "stream": "stdout",
       "text": [
        " 11109 2.5082\n",
        "11106"
       ]
      },
      {
       "output_type": "stream",
       "stream": "stdout",
       "text": [
        " 10279 1.4188\n",
        "11109"
       ]
      },
      {
       "output_type": "stream",
       "stream": "stdout",
       "text": [
        " 11105 2.5082\n",
        "11201"
       ]
      },
      {
       "output_type": "stream",
       "stream": "stdout",
       "text": [
        " 10282 2.7648\n",
        "11203"
       ]
      },
      {
       "output_type": "stream",
       "stream": "stdout",
       "text": [
        " 10454 1.8654\n",
        "11204"
       ]
      },
      {
       "output_type": "stream",
       "stream": "stdout",
       "text": [
        " 11366 3.3028\n",
        "11205"
       ]
      },
      {
       "output_type": "stream",
       "stream": "stdout",
       "text": [
        " 11237 4.5458\n",
        "11206"
       ]
      },
      {
       "output_type": "stream",
       "stream": "stdout",
       "text": [
        " 11216 2.4964\n",
        "11207"
       ]
      },
      {
       "output_type": "stream",
       "stream": "stdout",
       "text": [
        " 11420 1.2198\n",
        "11208"
       ]
      },
      {
       "output_type": "stream",
       "stream": "stdout",
       "text": [
        " 10457 1.549\n",
        "11209"
       ]
      },
      {
       "output_type": "stream",
       "stream": "stdout",
       "text": [
        " 11216 3.118\n",
        "11210"
       ]
      },
      {
       "output_type": "stream",
       "stream": "stdout",
       "text": [
        " 10461 3.5254\n",
        "11211"
       ]
      },
      {
       "output_type": "stream",
       "stream": "stdout",
       "text": [
        " 10002 2.424\n",
        "11212"
       ]
      },
      {
       "output_type": "stream",
       "stream": "stdout",
       "text": [
        " 10472 1.5756\n",
        "11213"
       ]
      },
      {
       "output_type": "stream",
       "stream": "stdout",
       "text": [
        " 11435 3.061\n",
        "11214"
       ]
      },
      {
       "output_type": "stream",
       "stream": "stdout",
       "text": [
        " 10463 2.155\n",
        "11215"
       ]
      },
      {
       "output_type": "stream",
       "stream": "stdout",
       "text": [
        " 11217 1.2898\n",
        "11216"
       ]
      },
      {
       "output_type": "stream",
       "stream": "stdout",
       "text": [
        " 11225 1.8384\n",
        "11217"
       ]
      },
      {
       "output_type": "stream",
       "stream": "stdout",
       "text": [
        " 10007 0.9126\n",
        "11218"
       ]
      },
      {
       "output_type": "stream",
       "stream": "stdout",
       "text": [
        " 10463 2.8328\n",
        "11219"
       ]
      },
      {
       "output_type": "stream",
       "stream": "stdout",
       "text": [
        " 11416 2.5372\n",
        "11220"
       ]
      },
      {
       "output_type": "stream",
       "stream": "stdout",
       "text": [
        " 10032 2.3998\n",
        "11221"
       ]
      },
      {
       "output_type": "stream",
       "stream": "stdout",
       "text": [
        " 10037 3.5266\n",
        "11222"
       ]
      },
      {
       "output_type": "stream",
       "stream": "stdout",
       "text": [
        " 11238 2.0642\n",
        "11223"
       ]
      },
      {
       "output_type": "stream",
       "stream": "stdout",
       "text": [
        " 11218 3.0708\n",
        "11224"
       ]
      },
      {
       "output_type": "stream",
       "stream": "stdout",
       "text": [
        " 10465 2.7682\n",
        "11225"
       ]
      },
      {
       "output_type": "stream",
       "stream": "stdout",
       "text": [
        " 11216 1.8384\n",
        "11226"
       ]
      },
      {
       "output_type": "stream",
       "stream": "stdout",
       "text": [
        " 11377 2.7532\n",
        "11228"
       ]
      },
      {
       "output_type": "stream",
       "stream": "stdout",
       "text": [
        " 11435 1.9702\n",
        "11229"
       ]
      },
      {
       "output_type": "stream",
       "stream": "stdout",
       "text": [
        " 10451 3.5972\n",
        "11230"
       ]
      },
      {
       "output_type": "stream",
       "stream": "stdout",
       "text": [
        " 11214 3.4984\n",
        "11231"
       ]
      },
      {
       "output_type": "stream",
       "stream": "stdout",
       "text": [
        " 11105 5.5234\n",
        "11232"
       ]
      },
      {
       "output_type": "stream",
       "stream": "stdout",
       "text": [
        " 11220 3.074\n",
        "11233"
       ]
      },
      {
       "output_type": "stream",
       "stream": "stdout",
       "text": [
        " 10307 3.3552\n",
        "11234"
       ]
      },
      {
       "output_type": "stream",
       "stream": "stdout",
       "text": [
        " 10464 0.4744\n",
        "11235"
       ]
      },
      {
       "output_type": "stream",
       "stream": "stdout",
       "text": [
        " 10458 3.6882\n",
        "11236"
       ]
      },
      {
       "output_type": "stream",
       "stream": "stdout",
       "text": [
        " 10459 1.7012\n",
        "11237"
       ]
      },
      {
       "output_type": "stream",
       "stream": "stdout",
       "text": [
        " 11216 2.7542\n",
        "11238"
       ]
      },
      {
       "output_type": "stream",
       "stream": "stdout",
       "text": [
        " 11222 2.0642\n",
        "11239"
       ]
      },
      {
       "output_type": "stream",
       "stream": "stdout",
       "text": [
        " 11414 2.2174\n",
        "11351"
       ]
      },
      {
       "output_type": "stream",
       "stream": "stdout",
       "text": [
        " 10474 1.991\n",
        "11354"
       ]
      },
      {
       "output_type": "stream",
       "stream": "stdout",
       "text": [
        " 10031 4.7026\n",
        "11355"
       ]
      },
      {
       "output_type": "stream",
       "stream": "stdout",
       "text": [
        " 10302 5.948\n",
        "11356"
       ]
      },
      {
       "output_type": "stream",
       "stream": "stdout",
       "text": [
        " 11421 2.7114\n",
        "11357"
       ]
      },
      {
       "output_type": "stream",
       "stream": "stdout",
       "text": [
        " 11374 0.8274\n",
        "11358"
       ]
      },
      {
       "output_type": "stream",
       "stream": "stdout",
       "text": [
        " 11229 3.8356\n",
        "11359"
       ]
      },
      {
       "output_type": "stream",
       "stream": "stdout",
       "text": [
        " 10303 0.7934\n",
        "11360"
       ]
      },
      {
       "output_type": "stream",
       "stream": "stdout",
       "text": [
        " 10033 2.4736\n",
        "11361"
       ]
      },
      {
       "output_type": "stream",
       "stream": "stdout",
       "text": [
        " 11377 2.2418\n",
        "11362"
       ]
      },
      {
       "output_type": "stream",
       "stream": "stdout",
       "text": [
        " 11363 3.32\n",
        "11363"
       ]
      },
      {
       "output_type": "stream",
       "stream": "stdout",
       "text": [
        " 11362 3.32\n",
        "11364"
       ]
      },
      {
       "output_type": "stream",
       "stream": "stdout",
       "text": [
        " 11004 4.7352\n",
        "11365"
       ]
      },
      {
       "output_type": "stream",
       "stream": "stdout",
       "text": [
        " 11419 3.6774\n",
        "11366"
       ]
      },
      {
       "output_type": "stream",
       "stream": "stdout",
       "text": [
        " 11204 3.3028\n",
        "11367"
       ]
      },
      {
       "output_type": "stream",
       "stream": "stdout",
       "text": [
        " 10452 3.3702\n",
        "11368"
       ]
      },
      {
       "output_type": "stream",
       "stream": "stdout",
       "text": [
        " 10034 5.9256\n",
        "11369"
       ]
      },
      {
       "output_type": "stream",
       "stream": "stdout",
       "text": [
        " 11379 1.8096\n",
        "11370"
       ]
      },
      {
       "output_type": "stream",
       "stream": "stdout",
       "text": [
        " 10462 2.0416\n",
        "11371"
       ]
      },
      {
       "output_type": "stream",
       "stream": "stdout",
       "text": [
        " 11430 2.6404\n",
        "11372"
       ]
      },
      {
       "output_type": "stream",
       "stream": "stdout",
       "text": [
        " 11374 2.0466\n",
        "11373"
       ]
      },
      {
       "output_type": "stream",
       "stream": "stdout",
       "text": [
        " 11415 1.7916\n",
        "11374"
       ]
      },
      {
       "output_type": "stream",
       "stream": "stdout",
       "text": [
        " 11357 0.8274\n",
        "11375"
       ]
      },
      {
       "output_type": "stream",
       "stream": "stdout",
       "text": [
        " 10023 2.1602\n",
        "11377"
       ]
      },
      {
       "output_type": "stream",
       "stream": "stdout",
       "text": [
        " 11104 1.2152\n",
        "11378"
       ]
      },
      {
       "output_type": "stream",
       "stream": "stdout",
       "text": [
        " 10307 1.906\n",
        "11379"
       ]
      },
      {
       "output_type": "stream",
       "stream": "stdout",
       "text": [
        " 11421 1.7374\n",
        "11385"
       ]
      },
      {
       "output_type": "stream",
       "stream": "stdout",
       "text": [
        " 11221 3.9316\n",
        "11411"
       ]
      },
      {
       "output_type": "stream",
       "stream": "stdout",
       "text": [
        " 11692 2.8402\n",
        "11412"
       ]
      },
      {
       "output_type": "stream",
       "stream": "stdout",
       "text": [
        " 10453 6.265\n",
        "11413"
       ]
      },
      {
       "output_type": "stream",
       "stream": "stdout",
       "text": [
        " 11694 2.367\n",
        "11414"
       ]
      },
      {
       "output_type": "stream",
       "stream": "stdout",
       "text": [
        " 10304 1.3154\n",
        "11415"
       ]
      },
      {
       "output_type": "stream",
       "stream": "stdout",
       "text": [
        " 11424 1.1814\n",
        "11416"
       ]
      },
      {
       "output_type": "stream",
       "stream": "stdout",
       "text": [
        " 11417 1.4802\n",
        "11417"
       ]
      },
      {
       "output_type": "stream",
       "stream": "stdout",
       "text": [
        " 11416 1.4802\n",
        "11418"
       ]
      },
      {
       "output_type": "stream",
       "stream": "stdout",
       "text": [
        " 10462 1.9738\n",
        "11419"
       ]
      },
      {
       "output_type": "stream",
       "stream": "stdout",
       "text": [
        " 11365 3.6774\n",
        "11420"
       ]
      },
      {
       "output_type": "stream",
       "stream": "stdout",
       "text": [
        " 11207 1.2198\n",
        "11421"
       ]
      },
      {
       "output_type": "stream",
       "stream": "stdout",
       "text": [
        " 11379 1.7374\n",
        "11422"
       ]
      },
      {
       "output_type": "stream",
       "stream": "stdout",
       "text": [
        " 11428 1.9586\n",
        "11423"
       ]
      },
      {
       "output_type": "stream",
       "stream": "stdout",
       "text": [
        " 11692 2.6772\n",
        "11424"
       ]
      },
      {
       "output_type": "stream",
       "stream": "stdout",
       "text": [
        " 11415 1.1814\n",
        "11425"
       ]
      },
      {
       "output_type": "stream",
       "stream": "stdout",
       "text": [
        " 10314 1.603\n",
        "11426"
       ]
      },
      {
       "output_type": "stream",
       "stream": "stdout",
       "text": [
        " 10311 0.5346\n",
        "11427"
       ]
      },
      {
       "output_type": "stream",
       "stream": "stdout",
       "text": [
        " 10314 1.9248\n",
        "11428"
       ]
      },
      {
       "output_type": "stream",
       "stream": "stdout",
       "text": [
        " 11422 1.9586\n",
        "11429"
       ]
      },
      {
       "output_type": "stream",
       "stream": "stdout",
       "text": [
        " 11413 4.7906\n",
        "11430"
       ]
      },
      {
       "output_type": "stream",
       "stream": "stdout",
       "text": [
        " 11371 2.6404\n",
        "11432"
       ]
      },
      {
       "output_type": "stream",
       "stream": "stdout",
       "text": [
        " 10454 2.2716\n",
        "11433"
       ]
      },
      {
       "output_type": "stream",
       "stream": "stdout",
       "text": [
        " 10456 1.9606\n",
        "11434"
       ]
      },
      {
       "output_type": "stream",
       "stream": "stdout",
       "text": [
        " 10460 1.1436\n",
        "11435"
       ]
      },
      {
       "output_type": "stream",
       "stream": "stdout",
       "text": [
        " 11228 1.9702\n",
        "11436"
       ]
      },
      {
       "output_type": "stream",
       "stream": "stdout",
       "text": [
        " 11414 1.788\n",
        "11451"
       ]
      },
      {
       "output_type": "stream",
       "stream": "stdout",
       "text": [
        " 11356 4.8108\n",
        "11691"
       ]
      },
      {
       "output_type": "stream",
       "stream": "stdout",
       "text": [
        " 11368 7.0766\n",
        "11692"
       ]
      },
      {
       "output_type": "stream",
       "stream": "stdout",
       "text": [
        " 11423 2.6772\n",
        "11693"
       ]
      },
      {
       "output_type": "stream",
       "stream": "stdout",
       "text": [
        " 11351 3.4372\n",
        "11694"
       ]
      },
      {
       "output_type": "stream",
       "stream": "stdout",
       "text": [
        " 11413 2.367\n",
        "11697"
       ]
      },
      {
       "output_type": "stream",
       "stream": "stdout",
       "text": [
        " 10473 0.7532\n"
       ]
      }
     ],
     "prompt_number": 24
    },
    {
     "cell_type": "code",
     "collapsed": false,
     "input": [
      "#Matrix Factorization Method"
     ],
     "language": "python",
     "metadata": {},
     "outputs": [],
     "prompt_number": 25
    },
    {
     "cell_type": "code",
     "collapsed": false,
     "input": [
      "import numpy\n",
      "\n",
      "def matrix_factorization(R, P, Q, K, steps=5000, alpha=0.0002, beta=0.02):\n",
      "    Q = Q.T\n",
      "    for step in xrange(steps):\n",
      "        for i in xrange(len(R)):\n",
      "            for j in xrange(len(R[i])):\n",
      "                if R[i][j] > 0:\n",
      "                    eij = R[i][j] - numpy.dot(P[i,:],Q[:,j])\n",
      "                    for k in xrange(K):\n",
      "                        P[i][k] = P[i][k] + alpha * (2 * eij * Q[k][j] - beta * P[i][k])\n",
      "                        Q[k][j] = Q[k][j] + alpha * (2 * eij * P[i][k] - beta * Q[k][j])\n",
      "        eR = numpy.dot(P,Q)\n",
      "        e = 0\n",
      "        for i in xrange(len(R)):\n",
      "            for j in xrange(len(R[i])):\n",
      "                if R[i][j] > 0:\n",
      "                    e = e + pow(R[i][j] - numpy.dot(P[i,:],Q[:,j]), 2)\n",
      "                    for k in xrange(K):\n",
      "                        e = e + (beta/2) * (pow(P[i][k],2) + pow(Q[k][j],2))\n",
      "        if e < 0.001:\n",
      "            break\n",
      "    return P, Q.T"
     ],
     "language": "python",
     "metadata": {},
     "outputs": [],
     "prompt_number": 13
    },
    {
     "cell_type": "code",
     "collapsed": false,
     "input": [
      "cols = ['bars','restaurants','laundry','pizza','hospitals','coffee','boutique','clothing','education','arts']\n",
      "\n",
      "R = numpy.array(df[cols])\n",
      "\n",
      "N = len(R)\n",
      "M = len(R[0])\n",
      "K = 2\n",
      "\n",
      "P = numpy.random.rand(N,K)\n",
      "Q = numpy.random.rand(M,K)\n",
      "\n",
      "nP, nQ = matrix_factorization(R, P, Q, K)\n",
      "nR = numpy.dot(nP, nQ.T)"
     ],
     "language": "python",
     "metadata": {},
     "outputs": [],
     "prompt_number": 14
    },
    {
     "cell_type": "code",
     "collapsed": false,
     "input": [
      "df1 = pd.DataFrame(data = nR, index = df['Neighborhood'], columns = cols)\n",
      "df1.head(40)"
     ],
     "language": "python",
     "metadata": {},
     "outputs": [
      {
       "html": [
        "<div style=\"max-height:1000px;max-width:1500px;overflow:auto;\">\n",
        "<table border=\"1\" class=\"dataframe\">\n",
        "  <thead>\n",
        "    <tr style=\"text-align: right;\">\n",
        "      <th></th>\n",
        "      <th>bars</th>\n",
        "      <th>restaurants</th>\n",
        "      <th>laundry</th>\n",
        "      <th>pizza</th>\n",
        "      <th>hospitals</th>\n",
        "      <th>coffee</th>\n",
        "      <th>boutique</th>\n",
        "      <th>clothing</th>\n",
        "      <th>education</th>\n",
        "      <th>arts</th>\n",
        "    </tr>\n",
        "    <tr>\n",
        "      <th>Neighborhood</th>\n",
        "      <th></th>\n",
        "      <th></th>\n",
        "      <th></th>\n",
        "      <th></th>\n",
        "      <th></th>\n",
        "      <th></th>\n",
        "      <th></th>\n",
        "      <th></th>\n",
        "      <th></th>\n",
        "      <th></th>\n",
        "    </tr>\n",
        "  </thead>\n",
        "  <tbody>\n",
        "    <tr>\n",
        "      <th>Central Bronx</th>\n",
        "      <td> 0.274418</td>\n",
        "      <td> 0.366563</td>\n",
        "      <td> 0.223979</td>\n",
        "      <td> 0.262145</td>\n",
        "      <td> 0.158204</td>\n",
        "      <td> 0.293899</td>\n",
        "      <td> 0.177733</td>\n",
        "      <td> 0.223692</td>\n",
        "      <td> 0.229634</td>\n",
        "      <td> 0.286467</td>\n",
        "    </tr>\n",
        "    <tr>\n",
        "      <th>Bronx Park and Fordham</th>\n",
        "      <td> 1.655065</td>\n",
        "      <td> 2.091423</td>\n",
        "      <td> 0.893716</td>\n",
        "      <td> 1.551788</td>\n",
        "      <td> 0.594738</td>\n",
        "      <td> 1.687053</td>\n",
        "      <td> 0.740255</td>\n",
        "      <td> 1.063270</td>\n",
        "      <td> 0.854122</td>\n",
        "      <td> 1.249465</td>\n",
        "    </tr>\n",
        "    <tr>\n",
        "      <th>High Bridge and Morrisania</th>\n",
        "      <td> 1.289827</td>\n",
        "      <td> 1.500610</td>\n",
        "      <td> 0.201467</td>\n",
        "      <td> 1.177660</td>\n",
        "      <td> 0.074290</td>\n",
        "      <td> 1.222167</td>\n",
        "      <td> 0.217722</td>\n",
        "      <td> 0.519081</td>\n",
        "      <td> 0.090801</td>\n",
        "      <td> 0.455830</td>\n",
        "    </tr>\n",
        "    <tr>\n",
        "      <th>Hunts Point and Mott Haven</th>\n",
        "      <td> 1.753548</td>\n",
        "      <td> 2.041517</td>\n",
        "      <td> 0.279275</td>\n",
        "      <td> 1.601398</td>\n",
        "      <td> 0.105226</td>\n",
        "      <td> 1.662569</td>\n",
        "      <td> 0.299898</td>\n",
        "      <td> 0.709064</td>\n",
        "      <td> 0.129689</td>\n",
        "      <td> 0.625335</td>\n",
        "    </tr>\n",
        "    <tr>\n",
        "      <th>Kingsbridge and Riverdale</th>\n",
        "      <td> 0.614733</td>\n",
        "      <td> 1.169746</td>\n",
        "      <td> 1.836545</td>\n",
        "      <td> 0.672668</td>\n",
        "      <td> 1.403855</td>\n",
        "      <td> 0.908032</td>\n",
        "      <td> 1.366637</td>\n",
        "      <td> 1.335775</td>\n",
        "      <td> 2.064413</td>\n",
        "      <td> 2.038219</td>\n",
        "    </tr>\n",
        "    <tr>\n",
        "      <th>Northeast Bronx</th>\n",
        "      <td> 1.352080</td>\n",
        "      <td> 1.780081</td>\n",
        "      <td> 1.003981</td>\n",
        "      <td> 1.285237</td>\n",
        "      <td> 0.701189</td>\n",
        "      <td> 1.429437</td>\n",
        "      <td> 0.803454</td>\n",
        "      <td> 1.039880</td>\n",
        "      <td> 1.015790</td>\n",
        "      <td> 1.307263</td>\n",
        "    </tr>\n",
        "    <tr>\n",
        "      <th>Southeast Bronx</th>\n",
        "      <td> 1.352075</td>\n",
        "      <td> 1.780105</td>\n",
        "      <td> 1.004098</td>\n",
        "      <td> 1.285240</td>\n",
        "      <td> 0.701281</td>\n",
        "      <td> 1.429454</td>\n",
        "      <td> 0.803539</td>\n",
        "      <td> 1.039951</td>\n",
        "      <td> 1.015926</td>\n",
        "      <td> 1.307384</td>\n",
        "    </tr>\n",
        "    <tr>\n",
        "      <th>Central Brooklyn</th>\n",
        "      <td> 2.254782</td>\n",
        "      <td> 2.760642</td>\n",
        "      <td> 0.878247</td>\n",
        "      <td> 2.092366</td>\n",
        "      <td> 0.543469</td>\n",
        "      <td> 2.234896</td>\n",
        "      <td> 0.762296</td>\n",
        "      <td> 1.236372</td>\n",
        "      <td> 0.769601</td>\n",
        "      <td> 1.347219</td>\n",
        "    </tr>\n",
        "    <tr>\n",
        "      <th>Southwest Brooklyn</th>\n",
        "      <td> 2.427039</td>\n",
        "      <td> 2.998500</td>\n",
        "      <td> 1.048554</td>\n",
        "      <td> 2.258821</td>\n",
        "      <td> 0.666136</td>\n",
        "      <td> 2.424939</td>\n",
        "      <td> 0.895420</td>\n",
        "      <td> 1.395367</td>\n",
        "      <td> 0.948249</td>\n",
        "      <td> 1.558125</td>\n",
        "    </tr>\n",
        "    <tr>\n",
        "      <th>Borough Park</th>\n",
        "      <td> 1.362998</td>\n",
        "      <td> 1.662658</td>\n",
        "      <td> 0.507427</td>\n",
        "      <td> 1.263317</td>\n",
        "      <td> 0.310072</td>\n",
        "      <td> 1.346588</td>\n",
        "      <td> 0.443775</td>\n",
        "      <td> 0.732703</td>\n",
        "      <td> 0.437968</td>\n",
        "      <td> 0.789832</td>\n",
        "    </tr>\n",
        "    <tr>\n",
        "      <th>Canarsie and Flatlands</th>\n",
        "      <td> 0.728428</td>\n",
        "      <td> 0.929174</td>\n",
        "      <td> 0.426641</td>\n",
        "      <td> 0.685104</td>\n",
        "      <td> 0.287936</td>\n",
        "      <td> 0.748734</td>\n",
        "      <td> 0.349961</td>\n",
        "      <td> 0.488788</td>\n",
        "      <td> 0.414583</td>\n",
        "      <td> 0.584752</td>\n",
        "    </tr>\n",
        "    <tr>\n",
        "      <th>Southern Brooklyn</th>\n",
        "      <td> 1.019257</td>\n",
        "      <td> 1.234831</td>\n",
        "      <td> 0.346858</td>\n",
        "      <td> 0.942629</td>\n",
        "      <td> 0.206244</td>\n",
        "      <td> 1.000889</td>\n",
        "      <td> 0.308205</td>\n",
        "      <td> 0.527535</td>\n",
        "      <td> 0.289661</td>\n",
        "      <td> 0.556536</td>\n",
        "    </tr>\n",
        "    <tr>\n",
        "      <th>Northwest Brooklyn</th>\n",
        "      <td> 2.427281</td>\n",
        "      <td> 2.998732</td>\n",
        "      <td> 1.048402</td>\n",
        "      <td> 2.259030</td>\n",
        "      <td> 0.666000</td>\n",
        "      <td> 2.425133</td>\n",
        "      <td> 0.895323</td>\n",
        "      <td> 1.395346</td>\n",
        "      <td> 0.948044</td>\n",
        "      <td> 1.558011</td>\n",
        "    </tr>\n",
        "    <tr>\n",
        "      <th>Flatbush</th>\n",
        "      <td> 2.303971</td>\n",
        "      <td> 3.251490</td>\n",
        "      <td> 2.546302</td>\n",
        "      <td> 2.243542</td>\n",
        "      <td> 1.851731</td>\n",
        "      <td> 2.592059</td>\n",
        "      <td> 1.975313</td>\n",
        "      <td> 2.294427</td>\n",
        "      <td> 2.701126</td>\n",
        "      <td> 3.101715</td>\n",
        "    </tr>\n",
        "    <tr>\n",
        "      <th>East New York and New Lots</th>\n",
        "      <td> 0.194891</td>\n",
        "      <td> 0.244769</td>\n",
        "      <td> 0.099472</td>\n",
        "      <td> 0.182361</td>\n",
        "      <td> 0.065499</td>\n",
        "      <td> 0.197580</td>\n",
        "      <td> 0.082984</td>\n",
        "      <td> 0.121599</td>\n",
        "      <td> 0.093880</td>\n",
        "      <td> 0.141097</td>\n",
        "    </tr>\n",
        "    <tr>\n",
        "      <th>Greenpoint</th>\n",
        "      <td> 2.588481</td>\n",
        "      <td> 3.440216</td>\n",
        "      <td> 2.045943</td>\n",
        "      <td> 2.468443</td>\n",
        "      <td> 1.439783</td>\n",
        "      <td> 2.759747</td>\n",
        "      <td> 1.628049</td>\n",
        "      <td> 2.068254</td>\n",
        "      <td> 2.088522</td>\n",
        "      <td> 2.632284</td>\n",
        "    </tr>\n",
        "    <tr>\n",
        "      <th>Sunset Park</th>\n",
        "      <td> 2.340310</td>\n",
        "      <td> 2.790105</td>\n",
        "      <td> 0.623412</td>\n",
        "      <td> 2.153292</td>\n",
        "      <td> 0.337533</td>\n",
        "      <td> 2.265775</td>\n",
        "      <td> 0.582140</td>\n",
        "      <td> 1.103086</td>\n",
        "      <td> 0.464189</td>\n",
        "      <td> 1.096855</td>\n",
        "    </tr>\n",
        "    <tr>\n",
        "      <th>Bushwick and Williamsburg</th>\n",
        "      <td> 2.823506</td>\n",
        "      <td> 3.715561</td>\n",
        "      <td> 2.089976</td>\n",
        "      <td> 2.683498</td>\n",
        "      <td> 1.459077</td>\n",
        "      <td> 2.983812</td>\n",
        "      <td> 1.673035</td>\n",
        "      <td> 2.167417</td>\n",
        "      <td> 2.113571</td>\n",
        "      <td> 2.723004</td>\n",
        "    </tr>\n",
        "    <tr>\n",
        "      <th>Central Harlem</th>\n",
        "      <td> 0.618457</td>\n",
        "      <td> 1.005242</td>\n",
        "      <td> 1.190633</td>\n",
        "      <td> 0.634693</td>\n",
        "      <td> 0.895779</td>\n",
        "      <td> 0.790641</td>\n",
        "      <td> 0.898190</td>\n",
        "      <td> 0.933010</td>\n",
        "      <td> 1.313953</td>\n",
        "      <td> 1.363162</td>\n",
        "    </tr>\n",
        "    <tr>\n",
        "      <th>Chelsea and Clinton</th>\n",
        "      <td> 1.059272</td>\n",
        "      <td> 1.603655</td>\n",
        "      <td> 1.587108</td>\n",
        "      <td> 1.058140</td>\n",
        "      <td> 1.178753</td>\n",
        "      <td> 1.269610</td>\n",
        "      <td> 1.210311</td>\n",
        "      <td> 1.315280</td>\n",
        "      <td> 1.725427</td>\n",
        "      <td> 1.861711</td>\n",
        "    </tr>\n",
        "    <tr>\n",
        "      <th>East Harlem</th>\n",
        "      <td> 2.513527</td>\n",
        "      <td> 3.198347</td>\n",
        "      <td> 1.442004</td>\n",
        "      <td> 2.362104</td>\n",
        "      <td> 0.969837</td>\n",
        "      <td> 2.577954</td>\n",
        "      <td> 1.185693</td>\n",
        "      <td> 1.667757</td>\n",
        "      <td> 1.395533</td>\n",
        "      <td> 1.986192</td>\n",
        "    </tr>\n",
        "    <tr>\n",
        "      <th>Gramercy Park and Murray Hill</th>\n",
        "      <td> 2.955589</td>\n",
        "      <td> 3.988362</td>\n",
        "      <td> 2.566778</td>\n",
        "      <td> 2.833290</td>\n",
        "      <td> 1.825338</td>\n",
        "      <td> 3.194288</td>\n",
        "      <td> 2.026313</td>\n",
        "      <td> 2.505825</td>\n",
        "      <td> 2.652586</td>\n",
        "      <td> 3.246938</td>\n",
        "    </tr>\n",
        "    <tr>\n",
        "      <th>Greenwich Village and Soho</th>\n",
        "      <td> 3.187080</td>\n",
        "      <td> 4.261688</td>\n",
        "      <td> 2.618274</td>\n",
        "      <td> 3.045631</td>\n",
        "      <td> 1.850730</td>\n",
        "      <td> 3.416504</td>\n",
        "      <td> 2.076517</td>\n",
        "      <td> 2.608577</td>\n",
        "      <td> 2.686692</td>\n",
        "      <td> 3.344794</td>\n",
        "    </tr>\n",
        "    <tr>\n",
        "      <th>Lower Manhattan</th>\n",
        "      <td> 3.077900</td>\n",
        "      <td> 4.136472</td>\n",
        "      <td> 2.608131</td>\n",
        "      <td> 2.946388</td>\n",
        "      <td> 1.849875</td>\n",
        "      <td> 3.314345</td>\n",
        "      <td> 2.063102</td>\n",
        "      <td> 2.568960</td>\n",
        "      <td> 2.687031</td>\n",
        "      <td> 3.313439</td>\n",
        "    </tr>\n",
        "    <tr>\n",
        "      <th>Lower East Side</th>\n",
        "      <td> 2.909491</td>\n",
        "      <td> 3.881532</td>\n",
        "      <td> 2.355875</td>\n",
        "      <td> 2.778163</td>\n",
        "      <td> 1.662526</td>\n",
        "      <td> 3.112508</td>\n",
        "      <td> 1.870731</td>\n",
        "      <td> 2.359894</td>\n",
        "      <td> 2.412795</td>\n",
        "      <td> 3.017528</td>\n",
        "    </tr>\n",
        "    <tr>\n",
        "      <th>Upper East Side</th>\n",
        "      <td> 2.654575</td>\n",
        "      <td> 3.639670</td>\n",
        "      <td> 2.525555</td>\n",
        "      <td> 2.558823</td>\n",
        "      <td> 1.812557</td>\n",
        "      <td> 2.910148</td>\n",
        "      <td> 1.979707</td>\n",
        "      <td> 2.388307</td>\n",
        "      <td> 2.638124</td>\n",
        "      <td> 3.146620</td>\n",
        "    </tr>\n",
        "    <tr>\n",
        "      <th>Upper West Side</th>\n",
        "      <td> 2.742936</td>\n",
        "      <td> 3.757855</td>\n",
        "      <td> 2.598268</td>\n",
        "      <td> 2.643270</td>\n",
        "      <td> 1.863963</td>\n",
        "      <td> 3.004892</td>\n",
        "      <td> 2.037366</td>\n",
        "      <td> 2.460705</td>\n",
        "      <td> 2.712752</td>\n",
        "      <td> 3.239481</td>\n",
        "    </tr>\n",
        "    <tr>\n",
        "      <th>Inwood and Washington Heights</th>\n",
        "      <td> 0.085465</td>\n",
        "      <td> 0.155436</td>\n",
        "      <td> 0.227793</td>\n",
        "      <td> 0.091757</td>\n",
        "      <td> 0.173524</td>\n",
        "      <td> 0.121091</td>\n",
        "      <td> 0.170020</td>\n",
        "      <td> 0.168490</td>\n",
        "      <td> 0.255033</td>\n",
        "      <td> 0.254559</td>\n",
        "    </tr>\n",
        "    <tr>\n",
        "      <th>Northeast Queens</th>\n",
        "      <td> 2.333917</td>\n",
        "      <td> 2.754419</td>\n",
        "      <td> 0.514244</td>\n",
        "      <td> 2.140532</td>\n",
        "      <td> 0.252119</td>\n",
        "      <td> 2.239486</td>\n",
        "      <td> 0.502576</td>\n",
        "      <td> 1.032873</td>\n",
        "      <td> 0.338130</td>\n",
        "      <td> 0.981427</td>\n",
        "    </tr>\n",
        "    <tr>\n",
        "      <th>North Queens</th>\n",
        "      <td> 2.333799</td>\n",
        "      <td> 2.754321</td>\n",
        "      <td> 0.514375</td>\n",
        "      <td> 2.140435</td>\n",
        "      <td> 0.252230</td>\n",
        "      <td> 2.239402</td>\n",
        "      <td> 0.502665</td>\n",
        "      <td> 1.032920</td>\n",
        "      <td> 0.338296</td>\n",
        "      <td> 0.981542</td>\n",
        "    </tr>\n",
        "    <tr>\n",
        "      <th>Central Queens</th>\n",
        "      <td> 1.699560</td>\n",
        "      <td> 2.009456</td>\n",
        "      <td> 0.388588</td>\n",
        "      <td> 1.559641</td>\n",
        "      <td> 0.194691</td>\n",
        "      <td> 1.633435</td>\n",
        "      <td> 0.376218</td>\n",
        "      <td> 0.760966</td>\n",
        "      <td> 0.262617</td>\n",
        "      <td> 0.729444</td>\n",
        "    </tr>\n",
        "    <tr>\n",
        "      <th>Jamaica</th>\n",
        "      <td> 0.977820</td>\n",
        "      <td> 1.724243</td>\n",
        "      <td> 2.398985</td>\n",
        "      <td> 1.036546</td>\n",
        "      <td> 1.822384</td>\n",
        "      <td> 1.346663</td>\n",
        "      <td> 1.794866</td>\n",
        "      <td> 1.798136</td>\n",
        "      <td> 2.677236</td>\n",
        "      <td> 2.695637</td>\n",
        "    </tr>\n",
        "    <tr>\n",
        "      <th>Northwest Queens</th>\n",
        "      <td> 2.333871</td>\n",
        "      <td> 2.754394</td>\n",
        "      <td> 0.514344</td>\n",
        "      <td> 2.140498</td>\n",
        "      <td> 0.252201</td>\n",
        "      <td> 2.239463</td>\n",
        "      <td> 0.502646</td>\n",
        "      <td> 1.032922</td>\n",
        "      <td> 0.338251</td>\n",
        "      <td> 0.981523</td>\n",
        "    </tr>\n",
        "    <tr>\n",
        "      <th>West Central Queens</th>\n",
        "      <td> 0.178247</td>\n",
        "      <td> 0.305331</td>\n",
        "      <td> 0.402919</td>\n",
        "      <td> 0.186751</td>\n",
        "      <td> 0.305162</td>\n",
        "      <td> 0.239051</td>\n",
        "      <td> 0.302232</td>\n",
        "      <td> 0.306276</td>\n",
        "      <td> 0.448096</td>\n",
        "      <td> 0.455406</td>\n",
        "    </tr>\n",
        "    <tr>\n",
        "      <th>Rockaways</th>\n",
        "      <td> 0.975620</td>\n",
        "      <td> 1.706494</td>\n",
        "      <td> 2.340479</td>\n",
        "      <td> 1.030815</td>\n",
        "      <td> 1.776528</td>\n",
        "      <td> 1.333699</td>\n",
        "      <td> 1.752293</td>\n",
        "      <td> 1.760881</td>\n",
        "      <td> 2.609541</td>\n",
        "      <td> 2.634009</td>\n",
        "    </tr>\n",
        "    <tr>\n",
        "      <th>Southeast Queens</th>\n",
        "      <td> 2.333849</td>\n",
        "      <td> 2.754385</td>\n",
        "      <td> 0.514408</td>\n",
        "      <td> 2.140482</td>\n",
        "      <td> 0.252253</td>\n",
        "      <td> 2.239454</td>\n",
        "      <td> 0.502692</td>\n",
        "      <td> 1.032955</td>\n",
        "      <td> 0.338329</td>\n",
        "      <td> 0.981587</td>\n",
        "    </tr>\n",
        "    <tr>\n",
        "      <th>Southwest Queens</th>\n",
        "      <td> 2.333791</td>\n",
        "      <td> 2.754338</td>\n",
        "      <td> 0.514478</td>\n",
        "      <td> 2.140433</td>\n",
        "      <td> 0.252312</td>\n",
        "      <td> 2.239414</td>\n",
        "      <td> 0.502739</td>\n",
        "      <td> 1.032981</td>\n",
        "      <td> 0.338416</td>\n",
        "      <td> 0.981648</td>\n",
        "    </tr>\n",
        "    <tr>\n",
        "      <th>West Queens</th>\n",
        "      <td> 2.333868</td>\n",
        "      <td> 2.754406</td>\n",
        "      <td> 0.514407</td>\n",
        "      <td> 2.140498</td>\n",
        "      <td> 0.252251</td>\n",
        "      <td> 2.239471</td>\n",
        "      <td> 0.502692</td>\n",
        "      <td> 1.032960</td>\n",
        "      <td> 0.338325</td>\n",
        "      <td> 0.981588</td>\n",
        "    </tr>\n",
        "    <tr>\n",
        "      <th>Port Richmond</th>\n",
        "      <td> 0.973286</td>\n",
        "      <td> 1.145892</td>\n",
        "      <td> 0.203918</td>\n",
        "      <td> 0.891967</td>\n",
        "      <td> 0.096859</td>\n",
        "      <td> 0.931936</td>\n",
        "      <td> 0.201943</td>\n",
        "      <td> 0.424142</td>\n",
        "      <td> 0.128778</td>\n",
        "      <td> 0.398256</td>\n",
        "    </tr>\n",
        "    <tr>\n",
        "      <th>South Shore</th>\n",
        "      <td> 0.835116</td>\n",
        "      <td> 1.001252</td>\n",
        "      <td> 0.244019</td>\n",
        "      <td> 0.769761</td>\n",
        "      <td> 0.137397</td>\n",
        "      <td> 0.812552</td>\n",
        "      <td> 0.223375</td>\n",
        "      <td> 0.407108</td>\n",
        "      <td> 0.190678</td>\n",
        "      <td> 0.413960</td>\n",
        "    </tr>\n",
        "  </tbody>\n",
        "</table>\n",
        "</div>"
       ],
       "metadata": {},
       "output_type": "pyout",
       "prompt_number": 16,
       "text": [
        "                                   bars  restaurants   laundry     pizza  \\\n",
        "Neighborhood                                                               \n",
        "Central Bronx                  0.274418     0.366563  0.223979  0.262145   \n",
        "Bronx Park and Fordham         1.655065     2.091423  0.893716  1.551788   \n",
        "High Bridge and Morrisania     1.289827     1.500610  0.201467  1.177660   \n",
        "Hunts Point and Mott Haven     1.753548     2.041517  0.279275  1.601398   \n",
        "Kingsbridge and Riverdale      0.614733     1.169746  1.836545  0.672668   \n",
        "Northeast Bronx                1.352080     1.780081  1.003981  1.285237   \n",
        "Southeast Bronx                1.352075     1.780105  1.004098  1.285240   \n",
        "Central Brooklyn               2.254782     2.760642  0.878247  2.092366   \n",
        "Southwest Brooklyn             2.427039     2.998500  1.048554  2.258821   \n",
        "Borough Park                   1.362998     1.662658  0.507427  1.263317   \n",
        "Canarsie and Flatlands         0.728428     0.929174  0.426641  0.685104   \n",
        "Southern Brooklyn              1.019257     1.234831  0.346858  0.942629   \n",
        "Northwest Brooklyn             2.427281     2.998732  1.048402  2.259030   \n",
        "Flatbush                       2.303971     3.251490  2.546302  2.243542   \n",
        "East New York and New Lots     0.194891     0.244769  0.099472  0.182361   \n",
        "Greenpoint                     2.588481     3.440216  2.045943  2.468443   \n",
        "Sunset Park                    2.340310     2.790105  0.623412  2.153292   \n",
        "Bushwick and Williamsburg      2.823506     3.715561  2.089976  2.683498   \n",
        "Central Harlem                 0.618457     1.005242  1.190633  0.634693   \n",
        "Chelsea and Clinton            1.059272     1.603655  1.587108  1.058140   \n",
        "East Harlem                    2.513527     3.198347  1.442004  2.362104   \n",
        "Gramercy Park and Murray Hill  2.955589     3.988362  2.566778  2.833290   \n",
        "Greenwich Village and Soho     3.187080     4.261688  2.618274  3.045631   \n",
        "Lower Manhattan                3.077900     4.136472  2.608131  2.946388   \n",
        "Lower East Side                2.909491     3.881532  2.355875  2.778163   \n",
        "Upper East Side                2.654575     3.639670  2.525555  2.558823   \n",
        "Upper West Side                2.742936     3.757855  2.598268  2.643270   \n",
        "Inwood and Washington Heights  0.085465     0.155436  0.227793  0.091757   \n",
        "Northeast Queens               2.333917     2.754419  0.514244  2.140532   \n",
        "North Queens                   2.333799     2.754321  0.514375  2.140435   \n",
        "Central Queens                 1.699560     2.009456  0.388588  1.559641   \n",
        "Jamaica                        0.977820     1.724243  2.398985  1.036546   \n",
        "Northwest Queens               2.333871     2.754394  0.514344  2.140498   \n",
        "West Central Queens            0.178247     0.305331  0.402919  0.186751   \n",
        "Rockaways                      0.975620     1.706494  2.340479  1.030815   \n",
        "Southeast Queens               2.333849     2.754385  0.514408  2.140482   \n",
        "Southwest Queens               2.333791     2.754338  0.514478  2.140433   \n",
        "West Queens                    2.333868     2.754406  0.514407  2.140498   \n",
        "Port Richmond                  0.973286     1.145892  0.203918  0.891967   \n",
        "South Shore                    0.835116     1.001252  0.244019  0.769761   \n",
        "\n",
        "                               hospitals    coffee  boutique  clothing  \\\n",
        "Neighborhood                                                             \n",
        "Central Bronx                   0.158204  0.293899  0.177733  0.223692   \n",
        "Bronx Park and Fordham          0.594738  1.687053  0.740255  1.063270   \n",
        "High Bridge and Morrisania      0.074290  1.222167  0.217722  0.519081   \n",
        "Hunts Point and Mott Haven      0.105226  1.662569  0.299898  0.709064   \n",
        "Kingsbridge and Riverdale       1.403855  0.908032  1.366637  1.335775   \n",
        "Northeast Bronx                 0.701189  1.429437  0.803454  1.039880   \n",
        "Southeast Bronx                 0.701281  1.429454  0.803539  1.039951   \n",
        "Central Brooklyn                0.543469  2.234896  0.762296  1.236372   \n",
        "Southwest Brooklyn              0.666136  2.424939  0.895420  1.395367   \n",
        "Borough Park                    0.310072  1.346588  0.443775  0.732703   \n",
        "Canarsie and Flatlands          0.287936  0.748734  0.349961  0.488788   \n",
        "Southern Brooklyn               0.206244  1.000889  0.308205  0.527535   \n",
        "Northwest Brooklyn              0.666000  2.425133  0.895323  1.395346   \n",
        "Flatbush                        1.851731  2.592059  1.975313  2.294427   \n",
        "East New York and New Lots      0.065499  0.197580  0.082984  0.121599   \n",
        "Greenpoint                      1.439783  2.759747  1.628049  2.068254   \n",
        "Sunset Park                     0.337533  2.265775  0.582140  1.103086   \n",
        "Bushwick and Williamsburg       1.459077  2.983812  1.673035  2.167417   \n",
        "Central Harlem                  0.895779  0.790641  0.898190  0.933010   \n",
        "Chelsea and Clinton             1.178753  1.269610  1.210311  1.315280   \n",
        "East Harlem                     0.969837  2.577954  1.185693  1.667757   \n",
        "Gramercy Park and Murray Hill   1.825338  3.194288  2.026313  2.505825   \n",
        "Greenwich Village and Soho      1.850730  3.416504  2.076517  2.608577   \n",
        "Lower Manhattan                 1.849875  3.314345  2.063102  2.568960   \n",
        "Lower East Side                 1.662526  3.112508  1.870731  2.359894   \n",
        "Upper East Side                 1.812557  2.910148  1.979707  2.388307   \n",
        "Upper West Side                 1.863963  3.004892  2.037366  2.460705   \n",
        "Inwood and Washington Heights   0.173524  0.121091  0.170020  0.168490   \n",
        "Northeast Queens                0.252119  2.239486  0.502576  1.032873   \n",
        "North Queens                    0.252230  2.239402  0.502665  1.032920   \n",
        "Central Queens                  0.194691  1.633435  0.376218  0.760966   \n",
        "Jamaica                         1.822384  1.346663  1.794866  1.798136   \n",
        "Northwest Queens                0.252201  2.239463  0.502646  1.032922   \n",
        "West Central Queens             0.305162  0.239051  0.302232  0.306276   \n",
        "Rockaways                       1.776528  1.333699  1.752293  1.760881   \n",
        "Southeast Queens                0.252253  2.239454  0.502692  1.032955   \n",
        "Southwest Queens                0.252312  2.239414  0.502739  1.032981   \n",
        "West Queens                     0.252251  2.239471  0.502692  1.032960   \n",
        "Port Richmond                   0.096859  0.931936  0.201943  0.424142   \n",
        "South Shore                     0.137397  0.812552  0.223375  0.407108   \n",
        "\n",
        "                               education      arts  \n",
        "Neighborhood                                        \n",
        "Central Bronx                   0.229634  0.286467  \n",
        "Bronx Park and Fordham          0.854122  1.249465  \n",
        "High Bridge and Morrisania      0.090801  0.455830  \n",
        "Hunts Point and Mott Haven      0.129689  0.625335  \n",
        "Kingsbridge and Riverdale       2.064413  2.038219  \n",
        "Northeast Bronx                 1.015790  1.307263  \n",
        "Southeast Bronx                 1.015926  1.307384  \n",
        "Central Brooklyn                0.769601  1.347219  \n",
        "Southwest Brooklyn              0.948249  1.558125  \n",
        "Borough Park                    0.437968  0.789832  \n",
        "Canarsie and Flatlands          0.414583  0.584752  \n",
        "Southern Brooklyn               0.289661  0.556536  \n",
        "Northwest Brooklyn              0.948044  1.558011  \n",
        "Flatbush                        2.701126  3.101715  \n",
        "East New York and New Lots      0.093880  0.141097  \n",
        "Greenpoint                      2.088522  2.632284  \n",
        "Sunset Park                     0.464189  1.096855  \n",
        "Bushwick and Williamsburg       2.113571  2.723004  \n",
        "Central Harlem                  1.313953  1.363162  \n",
        "Chelsea and Clinton             1.725427  1.861711  \n",
        "East Harlem                     1.395533  1.986192  \n",
        "Gramercy Park and Murray Hill   2.652586  3.246938  \n",
        "Greenwich Village and Soho      2.686692  3.344794  \n",
        "Lower Manhattan                 2.687031  3.313439  \n",
        "Lower East Side                 2.412795  3.017528  \n",
        "Upper East Side                 2.638124  3.146620  \n",
        "Upper West Side                 2.712752  3.239481  \n",
        "Inwood and Washington Heights   0.255033  0.254559  \n",
        "Northeast Queens                0.338130  0.981427  \n",
        "North Queens                    0.338296  0.981542  \n",
        "Central Queens                  0.262617  0.729444  \n",
        "Jamaica                         2.677236  2.695637  \n",
        "Northwest Queens                0.338251  0.981523  \n",
        "West Central Queens             0.448096  0.455406  \n",
        "Rockaways                       2.609541  2.634009  \n",
        "Southeast Queens                0.338329  0.981587  \n",
        "Southwest Queens                0.338416  0.981648  \n",
        "West Queens                     0.338325  0.981588  \n",
        "Port Richmond                   0.128778  0.398256  \n",
        "South Shore                     0.190678  0.413960  "
       ]
      }
     ],
     "prompt_number": 16
    },
    {
     "cell_type": "code",
     "collapsed": false,
     "input": [
      "df1.tail(10)"
     ],
     "language": "python",
     "metadata": {},
     "outputs": [
      {
       "html": [
        "<div style=\"max-height:1000px;max-width:1500px;overflow:auto;\">\n",
        "<table border=\"1\" class=\"dataframe\">\n",
        "  <thead>\n",
        "    <tr style=\"text-align: right;\">\n",
        "      <th></th>\n",
        "      <th>bars</th>\n",
        "      <th>restaurants</th>\n",
        "      <th>laundry</th>\n",
        "      <th>pizza</th>\n",
        "      <th>hospitals</th>\n",
        "      <th>coffee</th>\n",
        "      <th>boutique</th>\n",
        "      <th>clothing</th>\n",
        "      <th>education</th>\n",
        "      <th>arts</th>\n",
        "    </tr>\n",
        "    <tr>\n",
        "      <th>Neighborhood</th>\n",
        "      <th></th>\n",
        "      <th></th>\n",
        "      <th></th>\n",
        "      <th></th>\n",
        "      <th></th>\n",
        "      <th></th>\n",
        "      <th></th>\n",
        "      <th></th>\n",
        "      <th></th>\n",
        "      <th></th>\n",
        "    </tr>\n",
        "  </thead>\n",
        "  <tbody>\n",
        "    <tr>\n",
        "      <th>Northwest Queens</th>\n",
        "      <td> 2.333871</td>\n",
        "      <td> 2.754394</td>\n",
        "      <td> 0.514344</td>\n",
        "      <td> 2.140498</td>\n",
        "      <td> 0.252201</td>\n",
        "      <td> 2.239463</td>\n",
        "      <td> 0.502646</td>\n",
        "      <td> 1.032922</td>\n",
        "      <td> 0.338251</td>\n",
        "      <td> 0.981523</td>\n",
        "    </tr>\n",
        "    <tr>\n",
        "      <th>West Central Queens</th>\n",
        "      <td> 0.178247</td>\n",
        "      <td> 0.305331</td>\n",
        "      <td> 0.402919</td>\n",
        "      <td> 0.186751</td>\n",
        "      <td> 0.305162</td>\n",
        "      <td> 0.239051</td>\n",
        "      <td> 0.302232</td>\n",
        "      <td> 0.306276</td>\n",
        "      <td> 0.448096</td>\n",
        "      <td> 0.455406</td>\n",
        "    </tr>\n",
        "    <tr>\n",
        "      <th>Rockaways</th>\n",
        "      <td> 0.975620</td>\n",
        "      <td> 1.706494</td>\n",
        "      <td> 2.340479</td>\n",
        "      <td> 1.030815</td>\n",
        "      <td> 1.776528</td>\n",
        "      <td> 1.333699</td>\n",
        "      <td> 1.752293</td>\n",
        "      <td> 1.760881</td>\n",
        "      <td> 2.609541</td>\n",
        "      <td> 2.634009</td>\n",
        "    </tr>\n",
        "    <tr>\n",
        "      <th>Southeast Queens</th>\n",
        "      <td> 2.333849</td>\n",
        "      <td> 2.754385</td>\n",
        "      <td> 0.514408</td>\n",
        "      <td> 2.140482</td>\n",
        "      <td> 0.252253</td>\n",
        "      <td> 2.239454</td>\n",
        "      <td> 0.502692</td>\n",
        "      <td> 1.032955</td>\n",
        "      <td> 0.338329</td>\n",
        "      <td> 0.981587</td>\n",
        "    </tr>\n",
        "    <tr>\n",
        "      <th>Southwest Queens</th>\n",
        "      <td> 2.333791</td>\n",
        "      <td> 2.754338</td>\n",
        "      <td> 0.514478</td>\n",
        "      <td> 2.140433</td>\n",
        "      <td> 0.252312</td>\n",
        "      <td> 2.239414</td>\n",
        "      <td> 0.502739</td>\n",
        "      <td> 1.032981</td>\n",
        "      <td> 0.338416</td>\n",
        "      <td> 0.981648</td>\n",
        "    </tr>\n",
        "    <tr>\n",
        "      <th>West Queens</th>\n",
        "      <td> 2.333868</td>\n",
        "      <td> 2.754406</td>\n",
        "      <td> 0.514407</td>\n",
        "      <td> 2.140498</td>\n",
        "      <td> 0.252251</td>\n",
        "      <td> 2.239471</td>\n",
        "      <td> 0.502692</td>\n",
        "      <td> 1.032960</td>\n",
        "      <td> 0.338325</td>\n",
        "      <td> 0.981588</td>\n",
        "    </tr>\n",
        "    <tr>\n",
        "      <th>Port Richmond</th>\n",
        "      <td> 0.973286</td>\n",
        "      <td> 1.145892</td>\n",
        "      <td> 0.203918</td>\n",
        "      <td> 0.891967</td>\n",
        "      <td> 0.096859</td>\n",
        "      <td> 0.931936</td>\n",
        "      <td> 0.201943</td>\n",
        "      <td> 0.424142</td>\n",
        "      <td> 0.128778</td>\n",
        "      <td> 0.398256</td>\n",
        "    </tr>\n",
        "    <tr>\n",
        "      <th>South Shore</th>\n",
        "      <td> 0.835116</td>\n",
        "      <td> 1.001252</td>\n",
        "      <td> 0.244019</td>\n",
        "      <td> 0.769761</td>\n",
        "      <td> 0.137397</td>\n",
        "      <td> 0.812552</td>\n",
        "      <td> 0.223375</td>\n",
        "      <td> 0.407108</td>\n",
        "      <td> 0.190678</td>\n",
        "      <td> 0.413960</td>\n",
        "    </tr>\n",
        "    <tr>\n",
        "      <th>Stapleton and St. George</th>\n",
        "      <td> 0.614432</td>\n",
        "      <td> 0.891832</td>\n",
        "      <td> 0.773680</td>\n",
        "      <td> 0.604373</td>\n",
        "      <td> 0.568222</td>\n",
        "      <td> 0.708959</td>\n",
        "      <td> 0.595439</td>\n",
        "      <td> 0.671056</td>\n",
        "      <td> 0.830225</td>\n",
        "      <td> 0.926174</td>\n",
        "    </tr>\n",
        "    <tr>\n",
        "      <th>Mid-Island</th>\n",
        "      <td> 0.594291</td>\n",
        "      <td> 0.958693</td>\n",
        "      <td> 1.116276</td>\n",
        "      <td> 0.608111</td>\n",
        "      <td> 0.838893</td>\n",
        "      <td> 0.754542</td>\n",
        "      <td> 0.842899</td>\n",
        "      <td> 0.879149</td>\n",
        "      <td> 1.230290</td>\n",
        "      <td> 1.280777</td>\n",
        "    </tr>\n",
        "  </tbody>\n",
        "</table>\n",
        "</div>"
       ],
       "metadata": {},
       "output_type": "pyout",
       "prompt_number": 21,
       "text": [
        "                              bars  restaurants   laundry     pizza  \\\n",
        "Neighborhood                                                          \n",
        "Northwest Queens          2.333871     2.754394  0.514344  2.140498   \n",
        "West Central Queens       0.178247     0.305331  0.402919  0.186751   \n",
        "Rockaways                 0.975620     1.706494  2.340479  1.030815   \n",
        "Southeast Queens          2.333849     2.754385  0.514408  2.140482   \n",
        "Southwest Queens          2.333791     2.754338  0.514478  2.140433   \n",
        "West Queens               2.333868     2.754406  0.514407  2.140498   \n",
        "Port Richmond             0.973286     1.145892  0.203918  0.891967   \n",
        "South Shore               0.835116     1.001252  0.244019  0.769761   \n",
        "Stapleton and St. George  0.614432     0.891832  0.773680  0.604373   \n",
        "Mid-Island                0.594291     0.958693  1.116276  0.608111   \n",
        "\n",
        "                          hospitals    coffee  boutique  clothing  education  \\\n",
        "Neighborhood                                                                   \n",
        "Northwest Queens           0.252201  2.239463  0.502646  1.032922   0.338251   \n",
        "West Central Queens        0.305162  0.239051  0.302232  0.306276   0.448096   \n",
        "Rockaways                  1.776528  1.333699  1.752293  1.760881   2.609541   \n",
        "Southeast Queens           0.252253  2.239454  0.502692  1.032955   0.338329   \n",
        "Southwest Queens           0.252312  2.239414  0.502739  1.032981   0.338416   \n",
        "West Queens                0.252251  2.239471  0.502692  1.032960   0.338325   \n",
        "Port Richmond              0.096859  0.931936  0.201943  0.424142   0.128778   \n",
        "South Shore                0.137397  0.812552  0.223375  0.407108   0.190678   \n",
        "Stapleton and St. George   0.568222  0.708959  0.595439  0.671056   0.830225   \n",
        "Mid-Island                 0.838893  0.754542  0.842899  0.879149   1.230290   \n",
        "\n",
        "                              arts  \n",
        "Neighborhood                        \n",
        "Northwest Queens          0.981523  \n",
        "West Central Queens       0.455406  \n",
        "Rockaways                 2.634009  \n",
        "Southeast Queens          0.981587  \n",
        "Southwest Queens          0.981648  \n",
        "West Queens               0.981588  \n",
        "Port Richmond             0.398256  \n",
        "South Shore               0.413960  \n",
        "Stapleton and St. George  0.926174  \n",
        "Mid-Island                1.280777  "
       ]
      }
     ],
     "prompt_number": 21
    },
    {
     "cell_type": "code",
     "collapsed": false,
     "input": [
      "df.tail(10)"
     ],
     "language": "python",
     "metadata": {},
     "outputs": [
      {
       "html": [
        "<div style=\"max-height:1000px;max-width:1500px;overflow:auto;\">\n",
        "<table border=\"1\" class=\"dataframe\">\n",
        "  <thead>\n",
        "    <tr style=\"text-align: right;\">\n",
        "      <th></th>\n",
        "      <th>Neighborhood</th>\n",
        "      <th>bars</th>\n",
        "      <th>restaurants</th>\n",
        "      <th>laundry</th>\n",
        "      <th>pizza</th>\n",
        "      <th>hospitals</th>\n",
        "      <th>coffee</th>\n",
        "      <th>boutique</th>\n",
        "      <th>clothing</th>\n",
        "      <th>education</th>\n",
        "      <th>arts</th>\n",
        "    </tr>\n",
        "  </thead>\n",
        "  <tbody>\n",
        "    <tr>\n",
        "      <th>32</th>\n",
        "      <td>         Northwest Queens</td>\n",
        "      <td> 2.3248</td>\n",
        "      <td> 2.7188</td>\n",
        "      <td> 0.4808</td>\n",
        "      <td> 2.0948</td>\n",
        "      <td> 0.0756</td>\n",
        "      <td> 2.4170</td>\n",
        "      <td> 0.2704</td>\n",
        "      <td> 1.1886</td>\n",
        "      <td> 0.4818</td>\n",
        "      <td> 0.9992</td>\n",
        "    </tr>\n",
        "    <tr>\n",
        "      <th>33</th>\n",
        "      <td>      West Central Queens</td>\n",
        "      <td> 0.0000</td>\n",
        "      <td> 0.0000</td>\n",
        "      <td> 0.0000</td>\n",
        "      <td> 0.0000</td>\n",
        "      <td> 0.0000</td>\n",
        "      <td> 0.0000</td>\n",
        "      <td> 0.0000</td>\n",
        "      <td> 0.0000</td>\n",
        "      <td> 0.0000</td>\n",
        "      <td> 0.0000</td>\n",
        "    </tr>\n",
        "    <tr>\n",
        "      <th>34</th>\n",
        "      <td>                Rockaways</td>\n",
        "      <td> 0.5356</td>\n",
        "      <td> 2.3828</td>\n",
        "      <td> 2.5260</td>\n",
        "      <td> 0.8618</td>\n",
        "      <td> 0.6372</td>\n",
        "      <td> 0.7936</td>\n",
        "      <td> 1.2086</td>\n",
        "      <td> 2.4930</td>\n",
        "      <td> 2.9136</td>\n",
        "      <td> 3.0048</td>\n",
        "    </tr>\n",
        "    <tr>\n",
        "      <th>35</th>\n",
        "      <td>         Southeast Queens</td>\n",
        "      <td> 2.3248</td>\n",
        "      <td> 2.7188</td>\n",
        "      <td> 0.4808</td>\n",
        "      <td> 2.0948</td>\n",
        "      <td> 0.0756</td>\n",
        "      <td> 2.4170</td>\n",
        "      <td> 0.2704</td>\n",
        "      <td> 1.1886</td>\n",
        "      <td> 0.4818</td>\n",
        "      <td> 0.9992</td>\n",
        "    </tr>\n",
        "    <tr>\n",
        "      <th>36</th>\n",
        "      <td>         Southwest Queens</td>\n",
        "      <td> 2.3248</td>\n",
        "      <td> 2.7188</td>\n",
        "      <td> 0.4808</td>\n",
        "      <td> 2.0948</td>\n",
        "      <td> 0.0756</td>\n",
        "      <td> 2.4170</td>\n",
        "      <td> 0.2704</td>\n",
        "      <td> 1.1886</td>\n",
        "      <td> 0.4818</td>\n",
        "      <td> 0.9992</td>\n",
        "    </tr>\n",
        "    <tr>\n",
        "      <th>37</th>\n",
        "      <td>              West Queens</td>\n",
        "      <td> 2.3248</td>\n",
        "      <td> 2.7188</td>\n",
        "      <td> 0.4808</td>\n",
        "      <td> 2.0948</td>\n",
        "      <td> 0.0756</td>\n",
        "      <td> 2.4170</td>\n",
        "      <td> 0.2704</td>\n",
        "      <td> 1.1886</td>\n",
        "      <td> 0.4818</td>\n",
        "      <td> 0.9992</td>\n",
        "    </tr>\n",
        "    <tr>\n",
        "      <th>38</th>\n",
        "      <td>            Port Richmond</td>\n",
        "      <td> 0.3308</td>\n",
        "      <td> 2.1850</td>\n",
        "      <td> 0.1502</td>\n",
        "      <td> 0.4678</td>\n",
        "      <td> 0.1354</td>\n",
        "      <td> 0.0000</td>\n",
        "      <td> 0.1202</td>\n",
        "      <td> 0.1202</td>\n",
        "      <td> 0.1504</td>\n",
        "      <td> 0.3922</td>\n",
        "    </tr>\n",
        "    <tr>\n",
        "      <th>39</th>\n",
        "      <td>              South Shore</td>\n",
        "      <td> 0.4698</td>\n",
        "      <td> 2.1682</td>\n",
        "      <td> 0.2258</td>\n",
        "      <td> 0.3204</td>\n",
        "      <td> 0.1202</td>\n",
        "      <td> 0.3942</td>\n",
        "      <td> 0.3010</td>\n",
        "      <td> 0.1504</td>\n",
        "      <td> 0.3012</td>\n",
        "      <td> 0.2300</td>\n",
        "    </tr>\n",
        "    <tr>\n",
        "      <th>40</th>\n",
        "      <td> Stapleton and St. George</td>\n",
        "      <td> 0.0000</td>\n",
        "      <td> 0.0000</td>\n",
        "      <td> 0.0000</td>\n",
        "      <td> 0.0000</td>\n",
        "      <td> 0.0000</td>\n",
        "      <td> 0.0000</td>\n",
        "      <td> 0.0000</td>\n",
        "      <td> 0.0000</td>\n",
        "      <td> 0.0000</td>\n",
        "      <td> 0.0000</td>\n",
        "    </tr>\n",
        "    <tr>\n",
        "      <th>41</th>\n",
        "      <td>               Mid-Island</td>\n",
        "      <td> 0.0000</td>\n",
        "      <td> 0.0000</td>\n",
        "      <td> 0.0000</td>\n",
        "      <td> 0.0000</td>\n",
        "      <td> 0.0000</td>\n",
        "      <td> 0.0000</td>\n",
        "      <td> 0.0000</td>\n",
        "      <td> 0.0000</td>\n",
        "      <td> 0.0000</td>\n",
        "      <td> 0.0000</td>\n",
        "    </tr>\n",
        "  </tbody>\n",
        "</table>\n",
        "</div>"
       ],
       "metadata": {},
       "output_type": "pyout",
       "prompt_number": 22,
       "text": [
        "                Neighborhood    bars  restaurants  laundry   pizza  hospitals  \\\n",
        "32          Northwest Queens  2.3248       2.7188   0.4808  2.0948     0.0756   \n",
        "33       West Central Queens  0.0000       0.0000   0.0000  0.0000     0.0000   \n",
        "34                 Rockaways  0.5356       2.3828   2.5260  0.8618     0.6372   \n",
        "35          Southeast Queens  2.3248       2.7188   0.4808  2.0948     0.0756   \n",
        "36          Southwest Queens  2.3248       2.7188   0.4808  2.0948     0.0756   \n",
        "37               West Queens  2.3248       2.7188   0.4808  2.0948     0.0756   \n",
        "38             Port Richmond  0.3308       2.1850   0.1502  0.4678     0.1354   \n",
        "39               South Shore  0.4698       2.1682   0.2258  0.3204     0.1202   \n",
        "40  Stapleton and St. George  0.0000       0.0000   0.0000  0.0000     0.0000   \n",
        "41                Mid-Island  0.0000       0.0000   0.0000  0.0000     0.0000   \n",
        "\n",
        "    coffee  boutique  clothing  education    arts  \n",
        "32  2.4170    0.2704    1.1886     0.4818  0.9992  \n",
        "33  0.0000    0.0000    0.0000     0.0000  0.0000  \n",
        "34  0.7936    1.2086    2.4930     2.9136  3.0048  \n",
        "35  2.4170    0.2704    1.1886     0.4818  0.9992  \n",
        "36  2.4170    0.2704    1.1886     0.4818  0.9992  \n",
        "37  2.4170    0.2704    1.1886     0.4818  0.9992  \n",
        "38  0.0000    0.1202    0.1202     0.1504  0.3922  \n",
        "39  0.3942    0.3010    0.1504     0.3012  0.2300  \n",
        "40  0.0000    0.0000    0.0000     0.0000  0.0000  \n",
        "41  0.0000    0.0000    0.0000     0.0000  0.0000  "
       ]
      }
     ],
     "prompt_number": 22
    },
    {
     "cell_type": "code",
     "collapsed": false,
     "input": [],
     "language": "python",
     "metadata": {},
     "outputs": []
    }
   ],
   "metadata": {}
  }
 ]
}